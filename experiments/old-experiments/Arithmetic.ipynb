{
 "cells": [
  {
   "cell_type": "code",
   "execution_count": 1,
   "metadata": {
    "collapsed": true
   },
   "outputs": [],
   "source": [
    "#SIZE_TEST = 50000\n",
    "N_SENTENCES_TRAIN = 25000\n",
    "N_SENTENCES_TEST = 1000\n",
    "N_EPOCHS = 2\n",
    "CACHED = True"
   ]
  },
  {
   "cell_type": "code",
   "execution_count": 2,
   "metadata": {
    "collapsed": true
   },
   "outputs": [],
   "source": [
    "import sys\n",
    "sys.path.append('../src')"
   ]
  },
  {
   "cell_type": "code",
   "execution_count": 3,
   "metadata": {
    "collapsed": true
   },
   "outputs": [],
   "source": [
    "import numpy as np"
   ]
  },
  {
   "cell_type": "markdown",
   "metadata": {},
   "source": [
    "# Creates Dataset"
   ]
  },
  {
   "cell_type": "code",
   "execution_count": 4,
   "metadata": {},
   "outputs": [
    {
     "name": "stderr",
     "output_type": "stream",
     "text": [
      "Using TensorFlow backend.\n"
     ]
    },
    {
     "name": "stdout",
     "output_type": "stream",
     "text": [
      "Generating raw text, with training size: 25000 and testing size 1000\n",
      "Generated train sequence - 1102762 characters\n",
      "Generated test sequence - 43734 characters\n",
      "Total vocabulary size:  17\n",
      "Total Patterns:  1102727\n",
      "Total Patterns:  43699\n"
     ]
    }
   ],
   "source": [
    "# Creates Arithmetic dataset\n",
    "import dataset\n",
    "reload(dataset)\n",
    "\n",
    "data_obj = dataset.Arithmetic()\n",
    "data_obj.create(n_sentences_train=N_SENTENCES_TRAIN, n_sentences_test=N_SENTENCES_TEST, cfactor=.25)"
   ]
  },
  {
   "cell_type": "code",
   "execution_count": 5,
   "metadata": {},
   "outputs": [
    {
     "name": "stdout",
     "output_type": "stream",
     "text": [
      "(1102727, 35, 17)\n",
      "(1102727, 17)\n",
      "1102762\n",
      "\n",
      "(43699, 35, 17)\n",
      "(43699, 17)\n",
      "43734\n",
      "['(', '6', '+', '9', '+', '6', '-', '(', '1', ')', '*', '3', ')', '/', '(', '2', '*', '9', '-', '5', '+', '2', '+', '7', '/', '3', '/', '5', '+', '6', '+', '4', '-', '(', '7', ')', '*', '1', '-', '6', '*', '9', '-', '(', '9', ')', '*', '4', '+', '3']\n"
     ]
    }
   ],
   "source": [
    "print data_obj.train['X'].shape\n",
    "print data_obj.train['y'].shape\n",
    "print len(data_obj.train_raw)\n",
    "print ''\n",
    "print data_obj.test['X'].shape\n",
    "print data_obj.test['y'].shape\n",
    "print len(data_obj.test_raw)\n",
    "print data_obj.test_raw[:50]"
   ]
  },
  {
   "cell_type": "markdown",
   "metadata": {},
   "source": [
    "# Creates and trains character model"
   ]
  },
  {
   "cell_type": "code",
   "execution_count": 6,
   "metadata": {},
   "outputs": [
    {
     "name": "stdout",
     "output_type": "stream",
     "text": [
      "Epoch 1/1\n",
      "1102727/1102727 [==============================] - 1147s - loss: 1.9291 - acc: 0.2889  \n",
      "('Saved model to file:', '../models/arithmetic_0')\n",
      "Epoch 1/1\n",
      "1102727/1102727 [==============================] - 1102s - loss: 1.8712 - acc: 0.3019  \n",
      "('Saved model to file:', '../models/arithmetic_1')\n"
     ]
    }
   ],
   "source": [
    "import model\n",
    "reload(model)\n",
    "\n",
    "nn_model = model.VanillaLSTM(data_obj, 128, n_epochs=1)\n",
    "nn_model.build()\n",
    "\n",
    "if CACHED:\n",
    "    nn_model.load_from_file('../models/arithmetic_1')\n",
    "else:\n",
    "    for i in range(N_EPOCHS):\n",
    "        nn_model.train()\n",
    "        nn_model.save('../models/arithmetic_' + str(i))"
   ]
  },
  {
   "cell_type": "code",
   "execution_count": 7,
   "metadata": {},
   "outputs": [
    {
     "name": "stdout",
     "output_type": "stream",
     "text": [
      "Dimensions: (1, 35, 17)\n",
      "[ 8  2 16  6  0 13  1  3 16  5  0 11  6  9  3 11  5 16  6  8  2  0  7  1  2\n",
      " 14  6  9  2 12  5  8  1  3  0  0  1  6  0  5  0  5  0  5  0  3  0  3  0  3\n",
      "  0  3  0  3  0  3  0  3  0  3  0  3  0  3  0  3  0  3  0  3  0  3  0  3  0\n",
      "  3  0  3  0  3  0  3  0  3  0]\n"
     ]
    },
    {
     "data": {
      "text/plain": [
       "'1*9/(6)+9-(4/2+4-9/1*(0)*7/2*5-1)+(()/(-(-(-(+(+(+(+(+(+(+(+(+(+(+(+(+(+(+(+(+(+(+(+('"
      ]
     },
     "execution_count": 7,
     "metadata": {},
     "output_type": "execute_result"
    }
   ],
   "source": [
    "# Creates a sentence\n",
    "nn_model.complete_sentence(50)"
   ]
  },
  {
   "cell_type": "markdown",
   "metadata": {},
   "source": [
    "# Extracts States"
   ]
  },
  {
   "cell_type": "code",
   "execution_count": 8,
   "metadata": {},
   "outputs": [
    {
     "name": "stdout",
     "output_type": "stream",
     "text": [
      "(43734, 32)\n"
     ]
    }
   ],
   "source": [
    "# Gets hidden states\n",
    "states = nn_model.extract_states()\n",
    "print states.shape"
   ]
  },
  {
   "cell_type": "markdown",
   "metadata": {},
   "source": [
    "# Creates Features"
   ]
  },
  {
   "cell_type": "code",
   "execution_count": 9,
   "metadata": {
    "scrolled": true
   },
   "outputs": [
    {
     "name": "stdout",
     "output_type": "stream",
     "text": [
      "Parsed 0 symbols out of 43734\n",
      "Stack size: 0\n",
      "Parsed 1000 symbols out of 43734\n",
      "Stack size: 5\n",
      "Parsed 2000 symbols out of 43734\n",
      "Stack size: 3\n",
      "Parsed 3000 symbols out of 43734\n",
      "Stack size: 3\n",
      "Parsed 4000 symbols out of 43734\n",
      "Stack size: 3\n",
      "Parsed 5000 symbols out of 43734\n",
      "Stack size: 9\n",
      "Parsed 6000 symbols out of 43734\n",
      "Stack size: 5\n",
      "Parsed 7000 symbols out of 43734\n",
      "Stack size: 3\n",
      "Parsed 8000 symbols out of 43734\n",
      "Stack size: 3\n",
      "Parsed 9000 symbols out of 43734\n",
      "Stack size: 3\n",
      "Parsed 10000 symbols out of 43734\n",
      "Stack size: 3\n",
      "Parsed 11000 symbols out of 43734\n",
      "Stack size: 7\n",
      "Parsed 12000 symbols out of 43734\n",
      "Stack size: 3\n",
      "Parsed 13000 symbols out of 43734\n",
      "Stack size: 5\n",
      "Parsed 14000 symbols out of 43734\n",
      "Stack size: 1\n",
      "Parsed 15000 symbols out of 43734\n",
      "Stack size: 3\n",
      "Parsed 16000 symbols out of 43734\n",
      "Stack size: 3\n",
      "Parsed 17000 symbols out of 43734\n",
      "Stack size: 3\n",
      "Parsed 18000 symbols out of 43734\n",
      "Stack size: 7\n",
      "Parsed 19000 symbols out of 43734\n",
      "Stack size: 5\n",
      "Parsed 20000 symbols out of 43734\n",
      "Stack size: 5\n",
      "Parsed 21000 symbols out of 43734\n",
      "Stack size: 5\n",
      "Parsed 22000 symbols out of 43734\n",
      "Stack size: 7\n",
      "Parsed 23000 symbols out of 43734\n",
      "Stack size: 5\n",
      "Parsed 24000 symbols out of 43734\n",
      "Stack size: 5\n",
      "Parsed 25000 symbols out of 43734\n",
      "Stack size: 9\n",
      "Parsed 26000 symbols out of 43734\n",
      "Stack size: 3\n",
      "Parsed 27000 symbols out of 43734\n",
      "Stack size: 3\n",
      "Parsed 28000 symbols out of 43734\n",
      "Stack size: 7\n",
      "Parsed 29000 symbols out of 43734\n",
      "Stack size: 11\n",
      "Parsed 30000 symbols out of 43734\n",
      "Stack size: 5\n",
      "Parsed 31000 symbols out of 43734\n",
      "Stack size: 5\n",
      "Parsed 32000 symbols out of 43734\n",
      "Stack size: 1\n",
      "Parsed 33000 symbols out of 43734\n",
      "Stack size: 5\n",
      "Parsed 34000 symbols out of 43734\n",
      "Stack size: 1\n",
      "Parsed 35000 symbols out of 43734\n",
      "Stack size: 7\n",
      "Parsed 36000 symbols out of 43734\n",
      "Stack size: 3\n",
      "Parsed 37000 symbols out of 43734\n",
      "Stack size: 5\n",
      "Parsed 38000 symbols out of 43734\n",
      "Stack size: 3\n",
      "Parsed 39000 symbols out of 43734\n",
      "Stack size: 3\n",
      "Parsed 40000 symbols out of 43734\n",
      "Stack size: 5\n",
      "Parsed 41000 symbols out of 43734\n",
      "Stack size: 5\n",
      "Parsed 42000 symbols out of 43734\n",
      "Stack size: 5\n",
      "Parsed 43000 symbols out of 43734\n",
      "Stack size: 5\n",
      "(43734, 37)\n"
     ]
    },
    {
     "data": {
      "text/plain": [
       "{'feat_matrix': array([[ True, False, False, ..., False, False, False],\n",
       "        [ True, False, False, ..., False, False, False],\n",
       "        [ True, False, False, ..., False, False, False],\n",
       "        ..., \n",
       "        [ True, False,  True, ..., False, False, False],\n",
       "        [ True, False, False, ..., False, False, False],\n",
       "        [ True,  True, False, ..., False, False, False]], dtype=bool),\n",
       " 'labels': ['SENTENCE_1',\n",
       "  'EXPR_0',\n",
       "  'EXPR_1',\n",
       "  'EXPR_2',\n",
       "  'EXPR_3',\n",
       "  'EXPR_4',\n",
       "  'MIN_0',\n",
       "  'MIN_1',\n",
       "  'MIN_2',\n",
       "  'MIN_3',\n",
       "  'MIN_4',\n",
       "  'N_0',\n",
       "  'N_1',\n",
       "  'ADD_0',\n",
       "  'ADD_1',\n",
       "  'ADD_2',\n",
       "  'ADD_3',\n",
       "  'ADD_4',\n",
       "  'PAREN_0',\n",
       "  'PAREN_1',\n",
       "  'PAREN_2',\n",
       "  'PAREN_3',\n",
       "  'PAREN_4',\n",
       "  'MUL_0',\n",
       "  'MUL_1',\n",
       "  'MUL_2',\n",
       "  'MUL_3',\n",
       "  'MUL_4',\n",
       "  'DIV_0',\n",
       "  'DIV_1',\n",
       "  'DIV_2',\n",
       "  'DIV_3',\n",
       "  'DIV_4',\n",
       "  'DATASET_1',\n",
       "  'DATASET_2',\n",
       "  'DATASET_3',\n",
       "  'DATASET_4']}"
      ]
     },
     "execution_count": 9,
     "metadata": {},
     "output_type": "execute_result"
    }
   ],
   "source": [
    "import features\n",
    "reload(features)\n",
    "\n",
    "features_obj = features.GrammarFeature(data_obj)\n",
    "features_obj.build_feature_functions()\n",
    "computed_features = features_obj.compute_feat_matrix()\n",
    "\n",
    "print computed_features['feat_matrix'].shape\n",
    "computed_features"
   ]
  },
  {
   "cell_type": "markdown",
   "metadata": {},
   "source": [
    "# Computes scores"
   ]
  },
  {
   "cell_type": "code",
   "execution_count": 10,
   "metadata": {},
   "outputs": [
    {
     "name": "stdout",
     "output_type": "stream",
     "text": [
      "Scoring feature 0 out of 37\n",
      "Feature: SENTENCE_1\n",
      "Fitting model\n",
      "Cant compute score\n",
      "Feature: EXPR_0\n",
      "Fitting model\n",
      "Computing score\n",
      "Accuracy: 0.992179863148\n",
      "Feature: EXPR_1\n",
      "Fitting model\n",
      "Computing score\n",
      "Accuracy: 0.076161710407\n",
      "Feature: EXPR_2\n",
      "Fitting model\n",
      "Computing score\n",
      "Accuracy: 0.0912766740078\n",
      "Feature: EXPR_3\n",
      "Fitting model\n",
      "Computing score\n",
      "Accuracy: 0.105718379625\n",
      "Feature: EXPR_4\n",
      "Fitting model\n",
      "Computing score\n",
      "Accuracy: 0.119531468537\n",
      "Feature: MIN_0\n",
      "Fitting model\n",
      "Computing score\n",
      "Accuracy: 0.333717551993\n",
      "Feature: MIN_1\n",
      "Fitting model\n",
      "Computing score\n",
      "Accuracy: 0.347672060323\n",
      "Feature: MIN_2\n",
      "Fitting model\n",
      "Computing score\n",
      "Accuracy: 0.322687013798\n",
      "Feature: MIN_3\n",
      "Fitting model\n",
      "Computing score\n",
      "Accuracy: 0.251223777676\n",
      "Scoring feature 10 out of 37\n",
      "Feature: MIN_4\n",
      "Fitting model\n",
      "Computing score\n",
      "Accuracy: 0.170552143649\n",
      "Feature: N_0\n",
      "Fitting model\n",
      "Computing score\n",
      "Accuracy: 0.999871547848\n",
      "Feature: N_1\n",
      "Fitting model\n",
      "Computing score\n",
      "Accuracy: 0.999787666454\n",
      "Feature: ADD_0\n",
      "Fitting model\n",
      "Computing score\n",
      "Accuracy: 0.33714439825\n",
      "Feature: ADD_1\n",
      "Fitting model\n",
      "Computing score\n",
      "Accuracy: 0.371342843508\n",
      "Feature: ADD_2\n",
      "Fitting model\n",
      "Computing score\n",
      "Accuracy: 0.296444481063\n",
      "Feature: ADD_3\n",
      "Fitting model\n",
      "Computing score\n",
      "Accuracy: 0.23708207915\n",
      "Feature: ADD_4\n",
      "Fitting model\n",
      "Computing score\n",
      "Accuracy: 0.170829388861\n",
      "Feature: PAREN_0\n",
      "Fitting model\n",
      "Computing score\n",
      "Accuracy: 0.471055438625\n",
      "Feature: PAREN_1\n",
      "Fitting model\n",
      "Computing score\n",
      "Accuracy: 0.566388790542\n",
      "Scoring feature 20 out of 37\n",
      "Feature: PAREN_2\n",
      "Fitting model\n",
      "Computing score\n",
      "Accuracy: 0.438163003781\n",
      "Feature: PAREN_3\n",
      "Fitting model\n",
      "Computing score\n",
      "Accuracy: 0.0794506839361\n",
      "Feature: PAREN_4\n",
      "Fitting model\n",
      "Computing score\n",
      "Accuracy: 0.0026805016208\n",
      "Feature: MUL_0\n",
      "Fitting model\n",
      "Computing score\n",
      "Accuracy: 0.336034073514\n",
      "Feature: MUL_1\n",
      "Fitting model\n",
      "Computing score\n",
      "Accuracy: 0.354032185653\n",
      "Feature: MUL_2\n",
      "Fitting model\n",
      "Computing score\n",
      "Accuracy: 0.299696634629\n",
      "Feature: MUL_3\n",
      "Fitting model\n",
      "Computing score\n",
      "Accuracy: 0.246591202194\n",
      "Feature: MUL_4\n",
      "Fitting model\n",
      "Computing score\n",
      "Accuracy: 0.159139490289\n",
      "Feature: DIV_0\n",
      "Fitting model\n",
      "Computing score\n",
      "Accuracy: 0.342538875724\n",
      "Feature: DIV_1\n",
      "Fitting model\n",
      "Computing score\n",
      "Accuracy: 0.379927812597\n",
      "Scoring feature 30 out of 37\n",
      "Feature: DIV_2\n",
      "Fitting model\n",
      "Computing score\n",
      "Accuracy: 0.294215501007\n",
      "Feature: DIV_3\n",
      "Fitting model\n",
      "Computing score\n",
      "Accuracy: 0.233860003913\n",
      "Feature: DIV_4\n",
      "Fitting model\n",
      "Computing score\n",
      "Accuracy: 0.160300573443\n",
      "Feature: DATASET_1\n",
      "Fitting model\n",
      "Computing score\n"
     ]
    },
    {
     "name": "stderr",
     "output_type": "stream",
     "text": [
      "/Users/thib/.virtualenvs/keras/lib/python2.7/site-packages/sklearn/model_selection/_split.py:597: Warning: The least populated class in y has only 2 members, which is too few. The minimum number of members in any class cannot be less than n_splits=3.\n",
      "  % (min_groups, self.n_splits)), Warning)\n",
      "/Users/thib/.virtualenvs/keras/lib/python2.7/site-packages/sklearn/metrics/classification.py:1135: UndefinedMetricWarning: F-score is ill-defined and being set to 0.0 due to no predicted samples.\n",
      "  'precision', 'predicted', average, warn_for)\n"
     ]
    },
    {
     "name": "stdout",
     "output_type": "stream",
     "text": [
      "Accuracy: 0.37037037037\n",
      "Feature: DATASET_2\n",
      "Fitting model\n",
      "Computing score\n",
      "Accuracy: 0.330687830688\n",
      "Feature: DATASET_3\n",
      "Fitting model\n",
      "Computing score\n",
      "Accuracy: 0.00109962505131\n",
      "Feature: DATASET_4\n",
      "Fitting model\n",
      "Computing score\n",
      "Cant compute score\n"
     ]
    },
    {
     "name": "stderr",
     "output_type": "stream",
     "text": [
      "/Users/thib/.virtualenvs/keras/lib/python2.7/site-packages/sklearn/model_selection/_split.py:597: Warning: The least populated class in y has only 1 members, which is too few. The minimum number of members in any class cannot be less than n_splits=3.\n",
      "  % (min_groups, self.n_splits)), Warning)\n"
     ]
    }
   ],
   "source": [
    "import score\n",
    "\n",
    "score_obj = score.MultiNeuronPred(states, \n",
    "                computed_features['feat_matrix'],\n",
    "                computed_features['labels'])\n",
    "score_obj.compute_scores()"
   ]
  },
  {
   "cell_type": "code",
   "execution_count": 11,
   "metadata": {},
   "outputs": [
    {
     "name": "stdout",
     "output_type": "stream",
     "text": [
      "Filtering feature matrix\n"
     ]
    },
    {
     "data": {
      "image/png": "[encoded data removed]",
      "text/plain": [
       "<matplotlib.figure.Figure at 0x1539920d0>"
      ]
     },
     "metadata": {},
     "output_type": "display_data"
    },
    {
     "name": "stdout",
     "output_type": "stream",
     "text": [
      "0 SENTENCE_1\n",
      "1 EXPR_0\n",
      "2 EXPR_1\n",
      "3 EXPR_2\n",
      "4 EXPR_3\n",
      "5 EXPR_4\n",
      "6 MIN_0\n",
      "7 MIN_1\n",
      "8 MIN_2\n",
      "9 MIN_3\n",
      "10 MIN_4\n",
      "11 N_0\n",
      "12 N_1\n",
      "13 ADD_0\n",
      "14 ADD_1\n",
      "15 ADD_2\n",
      "16 ADD_3\n",
      "17 ADD_4\n",
      "18 PAREN_0\n",
      "19 PAREN_1\n",
      "20 PAREN_2\n",
      "21 PAREN_3\n",
      "22 PAREN_4\n",
      "23 MUL_0\n",
      "24 MUL_1\n",
      "25 MUL_2\n",
      "26 MUL_3\n",
      "27 MUL_4\n",
      "28 DIV_0\n",
      "29 DIV_1\n",
      "30 DIV_2\n",
      "31 DIV_3\n",
      "32 DIV_4\n",
      "33 DATASET_1\n",
      "34 DATASET_2\n"
     ]
    }
   ],
   "source": [
    "%matplotlib inline\n",
    "\n",
    "N_FEATURES_TO_PLOT = 35\n",
    "\n",
    "import matplotlib\n",
    "import matplotlib.pyplot as plt\n",
    "from matplotlib.colors import Normalize\n",
    "import os\n",
    "import numpy as np\n",
    "\n",
    "to_plot = score_obj.filter_scores(N_FEATURES_TO_PLOT)\n",
    "\n",
    "n_values   = to_plot.shape[0]\n",
    "dummy_vals = np.linspace(0,np.max(to_plot),num=n_values)\n",
    "dummy_vals = np.expand_dims(dummy_vals, axis=1)\n",
    "to_plot  = np.append(to_plot, dummy_vals, axis = 1)\n",
    "\n",
    "plt.imshow(to_plot, cmap='hot',\n",
    "                      norm=Normalize(vmin=0),\n",
    "                      interpolation='nearest',\n",
    "                      aspect='auto')\n",
    "plt.show()\n",
    "#plt.savefig('correlation_matrix.pdf',  bbox_inches='tight')\n",
    "\n",
    "for i,l in enumerate(computed_features['labels'][:N_FEATURES_TO_PLOT]):\n",
    "    print i,l"
   ]
  },
  {
   "cell_type": "code",
   "execution_count": 12,
   "metadata": {},
   "outputs": [
    {
     "name": "stdout",
     "output_type": "stream",
     "text": [
      "Filtering feature matrix\n"
     ]
    },
    {
     "data": {
      "image/png": "[encoded data removed]",
      "text/plain": [
       "<matplotlib.figure.Figure at 0x153a6ae10>"
      ]
     },
     "metadata": {},
     "output_type": "display_data"
    }
   ],
   "source": [
    "# Second viz\n",
    "to_plot = score_obj.filter_scores(N_FEATURES_TO_PLOT)\n",
    "\n",
    "if to_plot.shape[1] <= 4:\n",
    "    ncol = 1\n",
    "elif 4 < to_plot.shape[1] <= 8:\n",
    "    ncol = 2\n",
    "else:\n",
    "    nplots = min(12, to_plot.shape[1])\n",
    "    to_plot = to_plot[:,:nplots]\n",
    "    ncol = 3\n",
    "\n",
    "for i in range(to_plot.shape[1]):\n",
    "    neuron_series = np.sort(to_plot[:,i])[::-1]\n",
    "    plt.subplot(to_plot.shape[1],ncol,i+1)\n",
    "    plt.plot(neuron_series)\n",
    "\n",
    "plt.show()\n",
    "#plt.savefig('individual_correlation_scores.pdf',  bbox_inches='tight')"
   ]
  },
  {
   "cell_type": "code",
   "execution_count": 13,
   "metadata": {},
   "outputs": [
    {
     "data": {
      "image/png": "[encoded data removed]",
      "text/plain": [
       "<matplotlib.figure.Figure at 0x153a74710>"
      ]
     },
     "metadata": {},
     "output_type": "display_data"
    }
   ],
   "source": [
    "# Third viz: shows score per rule\n",
    "fig_size = [25,5]\n",
    "plt.rcParams[\"figure.figsize\"] = fig_size\n",
    "\n",
    "feat_scores = score_obj.model_scores\n",
    "feat_names =  computed_features['labels']\n",
    "\n",
    "dorder = np.argsort(feat_scores)[::-1][:50]\n",
    "\n",
    "scores = np.array(feat_scores)[dorder]\n",
    "names = np.array(feat_names)[dorder]\n",
    "\n",
    "fig, ax = plt.subplots()\n",
    "plt.bar(np.arange(dorder.shape[0]), scores)\n",
    "plt.xticks(np.arange(dorder.shape[0]), names, rotation='vertical')\n",
    "\n",
    "plt.show()\n",
    "# print feat_names[order]"
   ]
  }
 ],
 "metadata": {
  "kernelspec": {
   "display_name": "Python 2",
   "language": "python",
   "name": "python2"
  },
  "language_info": {
   "codemirror_mode": {
    "name": "ipython",
    "version": 2
   },
   "file_extension": ".py",
   "mimetype": "text/x-python",
   "name": "python",
   "nbconvert_exporter": "python",
   "pygments_lexer": "ipython2",
   "version": "2.7.10"
  }
 },
 "nbformat": 4,
 "nbformat_minor": 2
}
