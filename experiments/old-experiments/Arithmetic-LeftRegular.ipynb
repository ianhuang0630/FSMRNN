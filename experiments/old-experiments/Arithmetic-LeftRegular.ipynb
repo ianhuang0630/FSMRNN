{
 "cells": [
  {
   "cell_type": "code",
   "execution_count": 1,
   "metadata": {
    "collapsed": true
   },
   "outputs": [],
   "source": [
    "#SIZE_TEST = 50000\n",
    "N_SENTENCES_TRAIN = 2500 # 25000\n",
    "N_SENTENCES_TEST = 1000 # 1000\n",
    "N_EPOCHS = 2\n",
    "CACHED = True"
   ]
  },
  {
   "cell_type": "code",
   "execution_count": 2,
   "metadata": {
    "collapsed": true
   },
   "outputs": [],
   "source": [
    "import sys\n",
    "sys.path.append('../src')"
   ]
  },
  {
   "cell_type": "code",
   "execution_count": 3,
   "metadata": {
    "collapsed": true
   },
   "outputs": [],
   "source": [
    "import numpy as np"
   ]
  },
  {
   "cell_type": "markdown",
   "metadata": {},
   "source": [
    "# Creates Dataset"
   ]
  },
  {
   "cell_type": "code",
   "execution_count": 4,
   "metadata": {
    "scrolled": true
   },
   "outputs": [
    {
     "name": "stderr",
     "output_type": "stream",
     "text": [
      "Using TensorFlow backend.\n"
     ]
    },
    {
     "name": "stdout",
     "output_type": "stream",
     "text": [
      "Generating raw text, with training size: 2500 and testing size 1000\n",
      "Generated train sequence - 165868 characters\n",
      "Generated test sequence - 63316 characters\n",
      "Total vocabulary size:  17\n",
      "Total Patterns:  165833\n",
      "Total Patterns:  63281\n"
     ]
    }
   ],
   "source": [
    "# Creates Arithmetic dataset\n",
    "import dataset\n",
    "reload(dataset)\n",
    "\n",
    "data_obj = dataset.LeftArithmetic()\n",
    "data_obj.create(n_sentences_train=N_SENTENCES_TRAIN, n_sentences_test=N_SENTENCES_TEST, cfactor=.25)"
   ]
  },
  {
   "cell_type": "code",
   "execution_count": 5,
   "metadata": {},
   "outputs": [
    {
     "name": "stdout",
     "output_type": "stream",
     "text": [
      "(165833, 35, 17)\n",
      "(165833, 17)\n",
      "165868\n",
      "\n",
      "(63281, 35, 17)\n",
      "(63281, 17)\n",
      "63316\n",
      "['?', '(', '/', '(', '*', '(', '+', '(', '-', '4', '9', ')', '4', ')', '(', '-', '7', '(', '-', '(', '+', '7', '1', ')', '7', ')', ')', ')', '(', '+', '(', '*', '9', '(', '/', '(', '-', '(', '+', '5', '1', ')', '2', ')', '2', ')', ')', '(', '-', '(']\n"
     ]
    }
   ],
   "source": [
    "print data_obj.train['X'].shape\n",
    "print data_obj.train['y'].shape\n",
    "print len(data_obj.train_raw)\n",
    "print ''\n",
    "print data_obj.test['X'].shape\n",
    "print data_obj.test['y'].shape\n",
    "print len(data_obj.test_raw)\n",
    "print data_obj.test_raw[:50]"
   ]
  },
  {
   "cell_type": "markdown",
   "metadata": {},
   "source": [
    "# Creates and trains character model"
   ]
  },
  {
   "cell_type": "code",
   "execution_count": 6,
   "metadata": {
    "collapsed": true
   },
   "outputs": [],
   "source": [
    "import model\n",
    "reload(model)\n",
    "\n",
    "nn_model = model.VanillaLSTM(data_obj, 128, n_epochs=1)\n",
    "nn_model.build()\n",
    "\n",
    "if CACHED:\n",
    "    nn_model.load_from_file('../models/left_arithmetic_0')\n",
    "else:\n",
    "    for i in range(N_EPOCHS):\n",
    "        nn_model.train()\n",
    "        nn_model.save('../models/left_arithmetic_' + str(i))"
   ]
  },
  {
   "cell_type": "code",
   "execution_count": 7,
   "metadata": {},
   "outputs": [
    {
     "name": "stdout",
     "output_type": "stream",
     "text": [
      "Dimensions: (1, 35, 17)\n",
      "[16  0  2  0  5  0  4  7  0  3  0  5  9 10  1  0  4  0  2  0  5 15  0  3 14\n",
      "  0  4  0  2  8  6  1  9  1  1  1  1  1  0  3  0  4  0  3 13  0  5  7 11  1\n",
      "  1  0  5  0  2  0  5  6 15  1 12  1  0  3 14 12  1  1  1  0  4  0  4 11  0\n",
      "  2  9 11  1  1  0  2 10  0  4]\n"
     ]
    },
    {
     "data": {
      "text/plain": [
       "'?(*(/(-1(+(/34)(-(*(/9(+8(-(*20)3)))))(+(-(+7(/15))(/(*(/09)6)(+86)))(-(-5(*35))(*4(-'"
      ]
     },
     "execution_count": 7,
     "metadata": {},
     "output_type": "execute_result"
    }
   ],
   "source": [
    "# Creates a sentence\n",
    "\n",
    "nn_model.complete_sentence(50)"
   ]
  },
  {
   "cell_type": "markdown",
   "metadata": {},
   "source": [
    "# Extracts States"
   ]
  },
  {
   "cell_type": "code",
   "execution_count": 8,
   "metadata": {},
   "outputs": [
    {
     "name": "stdout",
     "output_type": "stream",
     "text": [
      "(63316, 32)\n"
     ]
    }
   ],
   "source": [
    "# Gets hidden states\n",
    "states = nn_model.extract_states()\n",
    "print states.shape"
   ]
  },
  {
   "cell_type": "markdown",
   "metadata": {},
   "source": [
    "# Creates Features"
   ]
  },
  {
   "cell_type": "code",
   "execution_count": 9,
   "metadata": {
    "scrolled": true
   },
   "outputs": [
    {
     "name": "stdout",
     "output_type": "stream",
     "text": [
      "Parsed 0 symbols out of 63316\n",
      "Stack size: 0\n",
      "Parsed 1000 symbols out of 63316\n",
      "Stack size: 21\n",
      "Parsed 2000 symbols out of 63316\n",
      "Stack size: 19\n",
      "Parsed 3000 symbols out of 63316\n",
      "Stack size: 9\n",
      "Parsed 4000 symbols out of 63316\n",
      "Stack size: 15\n",
      "Parsed 5000 symbols out of 63316\n",
      "Stack size: 1\n",
      "Parsed 6000 symbols out of 63316\n",
      "Stack size: 3\n",
      "Parsed 7000 symbols out of 63316\n",
      "Stack size: 9\n",
      "Parsed 8000 symbols out of 63316\n",
      "Stack size: 7\n",
      "Parsed 9000 symbols out of 63316\n",
      "Stack size: 15\n",
      "Parsed 10000 symbols out of 63316\n",
      "Stack size: 21\n",
      "Parsed 11000 symbols out of 63316\n",
      "Stack size: 13\n",
      "Parsed 12000 symbols out of 63316\n",
      "Stack size: 17\n",
      "Parsed 13000 symbols out of 63316\n",
      "Stack size: 13\n",
      "Parsed 14000 symbols out of 63316\n",
      "Stack size: 13\n",
      "Parsed 15000 symbols out of 63316\n",
      "Stack size: 19\n",
      "Parsed 16000 symbols out of 63316\n",
      "Stack size: 11\n",
      "Parsed 17000 symbols out of 63316\n",
      "Stack size: 19\n",
      "Parsed 18000 symbols out of 63316\n",
      "Stack size: 27\n",
      "Parsed 19000 symbols out of 63316\n",
      "Stack size: 19\n",
      "Parsed 20000 symbols out of 63316\n",
      "Stack size: 1\n",
      "Parsed 21000 symbols out of 63316\n",
      "Stack size: 15\n",
      "Parsed 22000 symbols out of 63316\n",
      "Stack size: 17\n",
      "Parsed 23000 symbols out of 63316\n",
      "Stack size: 17\n",
      "Parsed 24000 symbols out of 63316\n",
      "Stack size: 19\n",
      "Parsed 25000 symbols out of 63316\n",
      "Stack size: 19\n",
      "Parsed 26000 symbols out of 63316\n",
      "Stack size: 23\n",
      "Parsed 27000 symbols out of 63316\n",
      "Stack size: 15\n",
      "Parsed 28000 symbols out of 63316\n",
      "Stack size: 3\n",
      "Parsed 29000 symbols out of 63316\n",
      "Stack size: 19\n",
      "Parsed 30000 symbols out of 63316\n",
      "Stack size: 21\n",
      "Parsed 31000 symbols out of 63316\n",
      "Stack size: 23\n",
      "Parsed 32000 symbols out of 63316\n",
      "Stack size: 23\n",
      "Parsed 33000 symbols out of 63316\n",
      "Stack size: 19\n",
      "Parsed 34000 symbols out of 63316\n",
      "Stack size: 9\n",
      "Parsed 35000 symbols out of 63316\n",
      "Stack size: 17\n",
      "Parsed 36000 symbols out of 63316\n",
      "Stack size: 19\n",
      "Parsed 37000 symbols out of 63316\n",
      "Stack size: 9\n",
      "Parsed 38000 symbols out of 63316\n",
      "Stack size: 17\n",
      "Parsed 39000 symbols out of 63316\n",
      "Stack size: 21\n",
      "Parsed 40000 symbols out of 63316\n",
      "Stack size: 7\n",
      "Parsed 41000 symbols out of 63316\n",
      "Stack size: 21\n",
      "Parsed 42000 symbols out of 63316\n",
      "Stack size: 17\n",
      "Parsed 43000 symbols out of 63316\n",
      "Stack size: 11\n",
      "Parsed 44000 symbols out of 63316\n",
      "Stack size: 19\n",
      "Parsed 45000 symbols out of 63316\n",
      "Stack size: 19\n",
      "Parsed 46000 symbols out of 63316\n",
      "Stack size: 15\n",
      "Parsed 47000 symbols out of 63316\n",
      "Stack size: 11\n",
      "Parsed 48000 symbols out of 63316\n",
      "Stack size: 9\n",
      "Parsed 49000 symbols out of 63316\n",
      "Stack size: 15\n",
      "Parsed 50000 symbols out of 63316\n",
      "Stack size: 19\n",
      "Parsed 51000 symbols out of 63316\n",
      "Stack size: 15\n",
      "Parsed 52000 symbols out of 63316\n",
      "Stack size: 15\n",
      "Parsed 53000 symbols out of 63316\n",
      "Stack size: 19\n",
      "Parsed 54000 symbols out of 63316\n",
      "Stack size: 11\n",
      "Parsed 55000 symbols out of 63316\n",
      "Stack size: 9\n",
      "Parsed 56000 symbols out of 63316\n",
      "Stack size: 23\n",
      "Parsed 57000 symbols out of 63316\n",
      "Stack size: 21\n",
      "Parsed 58000 symbols out of 63316\n",
      "Stack size: 17\n",
      "Parsed 59000 symbols out of 63316\n",
      "Stack size: 11\n",
      "Parsed 60000 symbols out of 63316\n",
      "Stack size: 19\n",
      "Parsed 61000 symbols out of 63316\n",
      "Stack size: 11\n",
      "Parsed 62000 symbols out of 63316\n",
      "Stack size: 21\n",
      "Parsed 63000 symbols out of 63316\n",
      "Stack size: 29\n",
      "(63316, 30)\n",
      "30\n"
     ]
    }
   ],
   "source": [
    "import features\n",
    "reload(features)\n",
    "\n",
    "features_obj = features.GrammarFeature(data_obj)\n",
    "features_obj.build_feature_functions()\n",
    "computed_features = features_obj.compute_feat_matrix()\n",
    "\n",
    "print computed_features['feat_matrix'].shape\n",
    "print len(computed_features['labels'])"
   ]
  },
  {
   "cell_type": "markdown",
   "metadata": {},
   "source": [
    "# Computes scores"
   ]
  },
  {
   "cell_type": "code",
   "execution_count": null,
   "metadata": {},
   "outputs": [
    {
     "name": "stdout",
     "output_type": "stream",
     "text": [
      "Scoring feature 0 out of 30\n",
      "Feature: trig_SENTENCE\n",
      "Fitting model\n",
      "Cant compute score\n",
      "Feature: trig_EXPR\n",
      "Fitting model\n",
      "Computing score\n",
      "Accuracy: 0.73320798868\n",
      "Feature: trig_MIN\n",
      "Fitting model\n",
      "Computing score\n",
      "Accuracy: 0.884080240803\n",
      "Feature: trig_N\n",
      "Fitting model\n",
      "Computing score\n",
      "Accuracy: 0.784150367003\n",
      "Feature: trig_ADD\n",
      "Fitting model\n",
      "Computing score\n",
      "Accuracy: 0.884875768546\n",
      "Feature: trig_MUL\n",
      "Fitting model\n",
      "Computing score\n",
      "Accuracy: 0.884913694875\n",
      "Feature: trig_DIV\n",
      "Fitting model\n",
      "Computing score\n",
      "Accuracy: 0.885046318747\n",
      "Feature: trig_DATASET\n",
      "Fitting model\n",
      "Computing score\n",
      "Accuracy: 0.999959878609\n",
      "Feature: depth_SENTENCE_1\n",
      "Fitting model\n",
      "Cant compute score\n",
      "Feature: depth_SENTENCE_*\n",
      "Fitting model\n",
      "Cant compute score\n",
      "Scoring feature 10 out of 30\n",
      "Feature: depth_EXPR_1\n",
      "Fitting model\n",
      "Computing score\n",
      "Accuracy: 0.0825515354604\n",
      "Feature: depth_EXPR_2\n",
      "Fitting model\n",
      "Computing score\n",
      "Accuracy: 0.115448367386\n",
      "Feature: depth_EXPR_*\n",
      "Fitting model\n",
      "Computing score\n",
      "Accuracy: 0.999967900878\n",
      "Feature: depth_MIN_1\n",
      "Fitting model\n",
      "Computing score\n",
      "Accuracy: 0.328131331871\n",
      "Feature: depth_MIN_2\n",
      "Fitting model\n",
      "Computing score\n",
      "Accuracy: 0.430666198434\n",
      "Feature: depth_MIN_*\n",
      "Fitting model\n",
      "Computing score\n",
      "Accuracy: 0.717629814831\n",
      "Feature: depth_N_1\n",
      "Fitting model\n",
      "Computing score\n",
      "Accuracy: 0.999602044877\n",
      "Feature: depth_N_*\n",
      "Fitting model\n",
      "Computing score\n",
      "Accuracy: 0.999602044877\n",
      "Feature: depth_ADD_1\n",
      "Fitting model\n",
      "Computing score\n",
      "Accuracy: 0.345789317279\n",
      "Feature: depth_ADD_2\n",
      "Fitting model\n",
      "Computing score\n",
      "Accuracy: 0.420348786568\n",
      "Scoring feature 20 out of 30\n",
      "Feature: depth_ADD_*\n",
      "Fitting model\n",
      "Computing score\n",
      "Accuracy: 0.758498802893\n",
      "Feature: depth_MUL_1\n",
      "Fitting model\n",
      "Computing score\n",
      "Accuracy: 0.417506056721\n",
      "Feature: depth_MUL_2\n",
      "Fitting model\n",
      "Computing score\n",
      "Accuracy: 0.419841477469\n",
      "Feature: depth_MUL_*\n",
      "Fitting model\n",
      "Computing score\n",
      "Accuracy: 0.797487559137\n",
      "Feature: depth_DIV_1\n",
      "Fitting model\n",
      "Computing score\n",
      "Accuracy: 0.327851311867\n",
      "Feature: depth_DIV_2\n",
      "Fitting model\n",
      "Computing score\n",
      "Accuracy: 0.425561558186\n",
      "Feature: depth_DIV_*\n",
      "Fitting model\n",
      "Computing score\n",
      "Accuracy: 0.759921196188\n",
      "Feature: depth_DATASET_1\n",
      "Fitting model\n",
      "Cant compute score\n",
      "Feature: depth_DATASET_2\n",
      "Fitting model\n",
      "Computing score\n"
     ]
    }
   ],
   "source": [
    "import score\n",
    "\n",
    "score_obj = score.MultiNeuronPred(states, \n",
    "                computed_features['feat_matrix'],\n",
    "                computed_features['labels'])\n",
    "score_obj.compute_scores()\n",
    "\n",
    "print score_obj.neuron_scores.shape\n",
    "print score_obj.model_scores"
   ]
  },
  {
   "cell_type": "code",
   "execution_count": 17,
   "metadata": {},
   "outputs": [
    {
     "name": "stdout",
     "output_type": "stream",
     "text": [
      "Feature scores: 32\n",
      "Features: 30\n"
     ]
    },
    {
     "ename": "IndexError",
     "evalue": "index 31 is out of bounds for axis 1 with size 30",
     "output_type": "error",
     "traceback": [
      "\u001b[0;31m---------------------------------------------------------------------------\u001b[0m",
      "\u001b[0;31mIndexError\u001b[0m                                Traceback (most recent call last)",
      "\u001b[0;32m<ipython-input-17-88e448d50f05>\u001b[0m in \u001b[0;36m<module>\u001b[0;34m()\u001b[0m\n\u001b[1;32m     20\u001b[0m \u001b[0;34m\u001b[0m\u001b[0m\n\u001b[1;32m     21\u001b[0m \u001b[0mscores\u001b[0m \u001b[0;34m=\u001b[0m \u001b[0mnp\u001b[0m\u001b[0;34m.\u001b[0m\u001b[0marray\u001b[0m\u001b[0;34m(\u001b[0m\u001b[0mfeat_scores\u001b[0m\u001b[0;34m)\u001b[0m\u001b[0;34m[\u001b[0m\u001b[0mdorder\u001b[0m\u001b[0;34m]\u001b[0m\u001b[0;34m\u001b[0m\u001b[0m\n\u001b[0;32m---> 22\u001b[0;31m \u001b[0mnames\u001b[0m \u001b[0;34m=\u001b[0m \u001b[0mnp\u001b[0m\u001b[0;34m.\u001b[0m\u001b[0marray\u001b[0m\u001b[0;34m(\u001b[0m\u001b[0mfeat_names\u001b[0m\u001b[0;34m)\u001b[0m\u001b[0;34m[\u001b[0m\u001b[0mdorder\u001b[0m\u001b[0;34m]\u001b[0m\u001b[0;34m\u001b[0m\u001b[0m\n\u001b[0m\u001b[1;32m     23\u001b[0m \u001b[0;34m\u001b[0m\u001b[0m\n\u001b[1;32m     24\u001b[0m \u001b[0mfig\u001b[0m\u001b[0;34m,\u001b[0m \u001b[0max\u001b[0m \u001b[0;34m=\u001b[0m \u001b[0mplt\u001b[0m\u001b[0;34m.\u001b[0m\u001b[0msubplots\u001b[0m\u001b[0;34m(\u001b[0m\u001b[0;34m)\u001b[0m\u001b[0;34m\u001b[0m\u001b[0m\n",
      "\u001b[0;31mIndexError\u001b[0m: index 31 is out of bounds for axis 1 with size 30"
     ]
    }
   ],
   "source": [
    "# First viz: shows score per rule\n",
    "\n",
    "import matplotlib\n",
    "import matplotlib.pyplot as plt\n",
    "from matplotlib.colors import Normalize\n",
    "import os\n",
    "import numpy as np\n",
    "%matplotlib inline\n",
    "\n",
    "\n",
    "fig_size = [25,15]\n",
    "plt.rcParams[\"figure.figsize\"] = fig_size\n",
    "\n",
    "feat_scores = score_obj.model_scores\n",
    "feat_names =  computed_features['labels']\n",
    "print 'Feature scores:', len(feat_scores)\n",
    "print 'Features:', len(feat_names)\n",
    "\n",
    "dorder = np.argsort(feat_scores)[::-1][:50]\n",
    "\n",
    "scores = np.array(feat_scores)[dorder]\n",
    "names = np.array(feat_names)[dorder]\n",
    "\n",
    "fig, ax = plt.subplots()\n",
    "plt.bar(np.arange(dorder.shape[0]), scores)\n",
    "plt.xticks(np.arange(dorder.shape[0]), names, rotation='vertical')\n",
    "\n",
    "plt.show()\n",
    "# print feat_names[order]"
   ]
  },
  {
   "cell_type": "code",
   "execution_count": 12,
   "metadata": {},
   "outputs": [
    {
     "name": "stdout",
     "output_type": "stream",
     "text": [
      "Filtering feature matrix\n"
     ]
    },
    {
     "data": {
      "image/png": "[encoded data removed]",
      "text/plain": [
       "<matplotlib.figure.Figure at 0x120fac5d0>"
      ]
     },
     "metadata": {},
     "output_type": "display_data"
    },
    {
     "name": "stdout",
     "output_type": "stream",
     "text": [
      "0 trig_SENTENCE\n",
      "1 trig_EXPR\n",
      "2 trig_MIN\n",
      "3 trig_N\n",
      "4 trig_ADD\n",
      "5 trig_MUL\n",
      "6 trig_DIV\n",
      "7 trig_DATASET\n",
      "8 depth_SENTENCE_1\n",
      "9 depth_SENTENCE_*\n",
      "10 depth_EXPR_1\n",
      "11 depth_EXPR_2\n",
      "12 depth_EXPR_*\n",
      "13 depth_MIN_1\n",
      "14 depth_MIN_2\n",
      "15 depth_MIN_*\n",
      "16 depth_N_1\n",
      "17 depth_N_*\n",
      "18 depth_ADD_1\n",
      "19 depth_ADD_2\n",
      "20 depth_ADD_*\n",
      "21 depth_MUL_1\n",
      "22 depth_MUL_2\n",
      "23 depth_MUL_*\n",
      "24 depth_DIV_1\n",
      "25 depth_DIV_2\n",
      "26 depth_DIV_*\n",
      "27 depth_DATASET_1\n",
      "28 depth_DATASET_2\n",
      "29 depth_DATASET_*\n"
     ]
    }
   ],
   "source": [
    "# Second viz: shows neurons activated for each rule\n",
    "\n",
    "N_FEATURES_TO_PLOT = 35\n",
    "\n",
    "to_plot = score_obj.filter_scores(N_FEATURES_TO_PLOT)\n",
    "\n",
    "n_values   = to_plot.shape[0]\n",
    "dummy_vals = np.linspace(0,np.max(to_plot),num=n_values)\n",
    "dummy_vals = np.expand_dims(dummy_vals, axis=1)\n",
    "to_plot  = np.append(to_plot, dummy_vals, axis = 1)\n",
    "\n",
    "plt.imshow(to_plot, cmap='hot',\n",
    "                      norm=Normalize(vmin=0),\n",
    "                      interpolation='nearest',\n",
    "                      aspect='auto')\n",
    "plt.show()\n",
    "#plt.savefig('correlation_matrix.pdf',  bbox_inches='tight')\n",
    "\n",
    "for i,l in enumerate(computed_features['labels'][:N_FEATURES_TO_PLOT]):\n",
    "    print i,l"
   ]
  },
  {
   "cell_type": "code",
   "execution_count": 13,
   "metadata": {},
   "outputs": [
    {
     "name": "stdout",
     "output_type": "stream",
     "text": [
      "30\n",
      "(63316, 30)\n"
     ]
    }
   ],
   "source": [
    "print len(computed_features['labels'])\n",
    "print computed_features['feat_matrix'].shape"
   ]
  },
  {
   "cell_type": "markdown",
   "metadata": {},
   "source": [
    "# Computes Neuron-specific scores"
   ]
  },
  {
   "cell_type": "code",
   "execution_count": 14,
   "metadata": {},
   "outputs": [
    {
     "name": "stdout",
     "output_type": "stream",
     "text": [
      "Scoring feature 0 out of 30\n"
     ]
    },
    {
     "name": "stderr",
     "output_type": "stream",
     "text": [
      "/Users/thib/.virtualenvs/keras/lib/python2.7/site-packages/numpy/lib/function_base.py:3162: RuntimeWarning: invalid value encountered in true_divide\n",
      "  c /= stddev[:, None]\n",
      "/Users/thib/.virtualenvs/keras/lib/python2.7/site-packages/numpy/lib/function_base.py:3163: RuntimeWarning: invalid value encountered in true_divide\n",
      "  c /= stddev[None, :]\n"
     ]
    },
    {
     "name": "stdout",
     "output_type": "stream",
     "text": [
      "Scoring feature 10 out of 30\n",
      "Scoring feature 20 out of 30\n",
      "Scoring feature 29 out of 30\n",
      "32\n",
      "(32, 30)\n",
      "30\n"
     ]
    }
   ],
   "source": [
    "reload(score)\n",
    "score_obj = score.CorrelationScore(states, computed_features['feat_matrix'], \n",
    "                computed_features['labels'])\n",
    "score_obj.compute_scores()\n",
    "\n",
    "#print score_obj.neuron_scores\n",
    "#print score_obj.model_scores\n",
    "#print score_obj.feature_names\n",
    "\n",
    "print len(score_obj.model_scores)\n",
    "print score_obj.neuron_scores.shape\n",
    "print len(score_obj.feature_names)"
   ]
  },
  {
   "cell_type": "code",
   "execution_count": 15,
   "metadata": {},
   "outputs": [
    {
     "name": "stdout",
     "output_type": "stream",
     "text": [
      "(32, 30)\n",
      "30\n"
     ]
    },
    {
     "data": {
      "image/png": "[encoded data removed]",
      "text/plain": [
       "<matplotlib.figure.Figure at 0x120c46e50>"
      ]
     },
     "metadata": {},
     "output_type": "display_data"
    },
    {
     "name": "stdout",
     "output_type": "stream",
     "text": [
      "['trig_SENTENCE', 'trig_EXPR', 'trig_MIN', 'trig_N', 'trig_ADD', 'trig_MUL', 'trig_DIV', 'trig_DATASET', 'depth_SENTENCE_1', 'depth_SENTENCE_*', 'depth_EXPR_1', 'depth_EXPR_2', 'depth_EXPR_*', 'depth_MIN_1', 'depth_MIN_2', 'depth_MIN_*', 'depth_N_1', 'depth_N_*', 'depth_ADD_1', 'depth_ADD_2', 'depth_ADD_*', 'depth_MUL_1', 'depth_MUL_2', 'depth_MUL_*', 'depth_DIV_1', 'depth_DIV_2', 'depth_DIV_*', 'depth_DATASET_1', 'depth_DATASET_2', 'depth_DATASET_*']\n"
     ]
    }
   ],
   "source": [
    "%matplotlib inline\n",
    "\n",
    "import matplotlib\n",
    "import matplotlib.pyplot as plt\n",
    "from matplotlib.colors import Normalize\n",
    "import os\n",
    "import numpy as np\n",
    "\n",
    "# Setup of figure\n",
    "fig_size = [25,5]\n",
    "plt.rcParams[\"figure.figsize\"] = fig_size\n",
    "\n",
    "# Gets data to plot\n",
    "to_plot = score_obj.neuron_scores\n",
    "print to_plot.shape\n",
    "feat_names = score_obj.feature_names[:]\n",
    "print len(feat_names)\n",
    "\n",
    "# Sorts by alphabetical order\n",
    "idx = sorted(range(len(feat_names)), key=lambda x:feat_names[i])\n",
    "to_plot = to_plot[:,idx]\n",
    "feat_names = [feat_names[i] for i in idx]\n",
    "\n",
    "# IF NECESSARY FILTERS:\n",
    "idx = [i for i,f in enumerate(feat_names) if '*' in f]\n",
    "to_plot = to_plot[:,idx]\n",
    "feat_names = [feat_names[i] for i in idx]\n",
    "\n",
    "# Adds dummy column for legend\n",
    "n_values   = to_plot.shape[0]\n",
    "dummy_vals = np.linspace(0,1,num=n_values)\n",
    "dummy_vals = np.expand_dims(dummy_vals, axis=1)\n",
    "to_plot  = np.append(to_plot, dummy_vals, axis = 1)\n",
    "feat_names.append('Corr')\n",
    "\n",
    "fig, ax = plt.subplots()\n",
    "plt.imshow(to_plot, cmap='hot',\n",
    "                      norm=Normalize(vmin=0),\n",
    "                      interpolation='nearest',\n",
    "                      aspect='auto')\n",
    "plt.xticks(np.arange(len(feat_names)), feat_names, rotation='vertical')\n",
    "plt.show()\n",
    "#plt.savefig('correlation_matrix.pdf',  bbox_inches='tight')\n",
    "\n",
    "print computed_features['labels'][:N_FEATURES_TO_PLOT]"
   ]
  },
  {
   "cell_type": "code",
   "execution_count": 16,
   "metadata": {},
   "outputs": [
    {
     "name": "stdout",
     "output_type": "stream",
     "text": [
      "(32, 30)\n",
      "30\n",
      "depth_SENTENCE_*\n",
      "depth_EXPR_*\n",
      "depth_MIN_*\n",
      "depth_N_*\n",
      "depth_ADD_*\n",
      "depth_MUL_*\n",
      "depth_DIV_*\n",
      "depth_DATASET_*\n"
     ]
    },
    {
     "data": {
      "image/png": "[encoded data removed]",
      "text/plain": [
       "<matplotlib.figure.Figure at 0x120f9fa50>"
      ]
     },
     "metadata": {},
     "output_type": "display_data"
    }
   ],
   "source": [
    "# Second viz\n",
    "# Setup of figure\n",
    "fig_size = [25,30]\n",
    "plt.rcParams[\"figure.figsize\"] = fig_size\n",
    "\n",
    "# Gets data to plot\n",
    "to_plot = score_obj.neuron_scores\n",
    "print to_plot.shape\n",
    "feat_names = score_obj.feature_names[:]\n",
    "print len(feat_names)\n",
    "\n",
    "# Sorts by alphabetical order\n",
    "idx = sorted(range(len(feat_names)), key=lambda x:feat_names[i])\n",
    "to_plot = to_plot[:,idx]\n",
    "feat_names = [feat_names[i] for i in idx]\n",
    "\n",
    "# IF NECESSARY FILTERS:\n",
    "idx = [i for i,f in enumerate(feat_names) if '*' in f]\n",
    "to_plot = to_plot[:,idx]\n",
    "feat_names = [feat_names[i] for i in idx]\n",
    "\n",
    "\n",
    "if to_plot.shape[1] <= 4:\n",
    "    ncol = 1\n",
    "elif 4 < to_plot.shape[1] <= 8:\n",
    "    ncol = 2\n",
    "else:\n",
    "    nplots = min(12, to_plot.shape[1])\n",
    "    to_plot = to_plot[:,:nplots]\n",
    "    ncol = 3\n",
    "\n",
    "for i in range(to_plot.shape[1]):\n",
    "    print feat_names[i]\n",
    "    neuron_series = np.sort(to_plot[:,i])[::-1]\n",
    "    plt.subplot(to_plot.shape[1],ncol,i+1)\n",
    "    plt.plot(neuron_series)\n",
    "\n",
    "plt.show()"
   ]
  },
  {
   "cell_type": "code",
   "execution_count": null,
   "metadata": {
    "collapsed": true
   },
   "outputs": [],
   "source": []
  }
 ],
 "metadata": {
  "kernelspec": {
   "display_name": "Python 2",
   "language": "python",
   "name": "python2"
  },
  "language_info": {
   "codemirror_mode": {
    "name": "ipython",
    "version": 2
   },
   "file_extension": ".py",
   "mimetype": "text/x-python",
   "name": "python",
   "nbconvert_exporter": "python",
   "pygments_lexer": "ipython2",
   "version": "2.7.10"
  }
 },
 "nbformat": 4,
 "nbformat_minor": 2
}
