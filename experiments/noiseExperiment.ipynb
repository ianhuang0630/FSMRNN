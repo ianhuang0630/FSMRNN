{
 "cells": [
  {
   "cell_type": "code",
   "execution_count": 2,
   "metadata": {},
   "outputs": [
    {
     "name": "stderr",
     "output_type": "stream",
     "text": [
      "Using TensorFlow backend.\n"
     ]
    }
   ],
   "source": [
    "import sys\n",
    "sys.path.append('../src')\n",
    "\n",
    "import numpy as np \n",
    "import pickle\n",
    "\n",
    "from FSMextractor import *\n",
    "\n",
    "from sklearn.metrics import silhouette_score\n",
    "\n",
    "\n",
    "\n",
    "     "
   ]
  },
  {
   "cell_type": "code",
   "execution_count": 45,
   "metadata": {
    "collapsed": true
   },
   "outputs": [],
   "source": [
    "BATCH_SIZE = 10\n",
    "MODEL_FILE = \"../experiments/boolean/models/boolean.h5\"\n",
    "TESTDATA_FILE = \"../experiments/boolean/test_data_boolean.pkl\" \n",
    "\n",
    "\n",
    "model = load_model(MODEL_FILE)\n",
    "alphabet = set([\"X\", \"&\", \"|\", \"1\", \"0\"])\n",
    "\n",
    "def arr2char(a):\n",
    "    arr = a.tolist()\n",
    "    if arr == [1,0,0,0,0]:\n",
    "        return \"x\"\n",
    "    if arr == [0,1,0,0,0]:\n",
    "        return \"&\"\n",
    "    if arr == [0,0,1,0,0]:\n",
    "        return \"0\"\n",
    "    if arr == [0,0,0,1,0]:\n",
    "        return \"1\"\n",
    "    if arr == [0,0,0,0,1]:\n",
    "        return \"|\"\n",
    "    else:\n",
    "        raise valueerror(\"sorry, can't recognize label\")\n",
    "    \n",
    "test_data = pickle.load(open(TESTDATA_FILE))\n",
    "     \n"
   ]
  },
  {
   "cell_type": "code",
   "execution_count": 46,
   "metadata": {},
   "outputs": [
    {
     "name": "stdout",
     "output_type": "stream",
     "text": [
      "BEWARE _ ONLY SUPPORTS CONSECUTIVE LAYER IDS STARTING AT 0\n",
      "Creates spy models\n",
      "... for id 0 : <keras.layers.recurrent.LSTM object at 0x127206290>\n",
      "Gets the activations for the hidden states\n"
     ]
    }
   ],
   "source": [
    "# kmeans discretizer\n",
    "kMeans = kMeansQuantizer(5)\n",
    "\n",
    "# getting the sample based transition extractor\n",
    "sbtrans = SampleBasedTransExtractor(conv_func=arr2char)\n",
    "\n",
    "experiment = FSMExtractor(model, test_data, quantization=kMeans, transition=sbtrans, minimization=None)\n",
    "\n",
    "\n",
    "\n",
    "\n",
    "# get hidden states \n",
    "states = experiment.get_hidden_states()\n",
    "\n",
    "\n",
    "# # add N random dimensions at the end\n",
    "\n",
    "# num_symbols = states.shape[0]\n",
    "# artificial_neurons = np.random.uniform(low=-1.0, high =1.0, size=(num_symbols,1))\n",
    "# states_alt = np.hstack((states, artificial_neurons))\n",
    "\n",
    "\n",
    "# # iterate between clustering and dimension elimination\n",
    "# # eliminating the dimensions with the highest variance from the centroids\n",
    "\n",
    "\n",
    "# fsm = []\n",
    "# # XXX: number of neurons is default number of neurons (16) plus 1.\n",
    "# neuron_nums = np.arange(17)\n",
    "# silhouettes = []\n",
    "\n",
    "# for i in range(16): # XXX: delete neurons until only 1 is left.\n",
    "    \n",
    "#     # printing separator\n",
    "#     print(\"ITERATION {}\".format(i))\n",
    "\n",
    "\n",
    "#     # labels = experiment.quant_func.quantize(states_alt)\n",
    "    \n",
    "#     # generating and saving fsm's\n",
    "    \n",
    "# #     fsm[\"iteration #{}\".format(i)] = experiment.cluster_transition(states_alt)\n",
    "    \n",
    "#     fsm.append(experiment.cluster_transition(states_alt))\n",
    "    \n",
    "#     # extracting macrostate predictions\n",
    "#     labels = experiment.quant_func.getLabels()   \n",
    "#     centroids = experiment.quant_func.getCentroids() \n",
    "\n",
    "\n",
    "#     # find out how well the hidden states are being clustered into macrostates\n",
    "#     silh = experiment.quant_func.getSilhouetteCoef(states_alt)\n",
    "#     silhouettes.append(silh)    \n",
    "#     print(\"Sillhouette coefficient: {}\".format(silh))\n",
    "\n",
    "    \n",
    "#     # finding a dimension to eliminate: the dimension that has the greatest average distance from\n",
    "#     # centroids of clustering\n",
    "#     # argmax_i \\sum{j to k} 1/number_in_cluster * \\sum{all i} x^(j)_i - C(j)(i) \n",
    "    \n",
    "#     delta = states_alt - centroids[labels]\n",
    "#     mean_delta = np.mean(delta, axis=0)\n",
    "\n",
    "#     jettison = np.argmax(mean_delta)\n",
    "#     print(\"Throwing out neuron number {}\".format(neuron_nums[jettison]))\n",
    "    \n",
    "#     # throw out activations for that neuron in states_alt\n",
    "#     neuron_nums = np.delete(neuron_nums, jettison)     \n",
    "        \n",
    "#     states_alt = np.delete(states_alt, jettison, axis=1)"
   ]
  },
  {
   "cell_type": "code",
   "execution_count": 47,
   "metadata": {
    "collapsed": true
   },
   "outputs": [],
   "source": [
    "%matplotlib inline\n",
    "\n",
    "import matplotlib.pyplot as plt"
   ]
  },
  {
   "cell_type": "code",
   "execution_count": 48,
   "metadata": {},
   "outputs": [
    {
     "data": {
      "image/png": "[encoded data removed]",
      "text/plain": [
       "<matplotlib.figure.Figure at 0x1273e1810>"
      ]
     },
     "metadata": {},
     "output_type": "display_data"
    }
   ],
   "source": [
    "plt.plot(range(len(silhouettes)), silhouettes)\n",
    "plt.xlabel(\"Iteration\")\n",
    "plt.ylabel(\"Silhouette\")\n",
    "plt.show()"
   ]
  },
  {
   "cell_type": "code",
   "execution_count": 49,
   "metadata": {
    "scrolled": false
   },
   "outputs": [],
   "source": [
    "# def to_str_names(b):\n",
    "        \n",
    "#     list_names = [] \n",
    "#     for a in b:\n",
    "#         list_names.append(str(a[0]) +\"\\n\" + str(a[1]) + \"\\n\" + str(a[2]) + \"\\n\")\n",
    "        \n",
    "#     return tuple(list_names)\n",
    "\n",
    "\n",
    "\n",
    "# for (idx,this_fsm) in enumerate(fsm):\n",
    "#     plt.figure()\n",
    "    \n",
    "#     x = np.arange(len(this_fsm))\n",
    "#     prob = this_fsm.values()\n",
    "    \n",
    "#     x_names = to_str_names(this_fsm.keys())\n",
    "#     plt.bar(x, prob)\n",
    "    \n",
    "#     plt.title(\"Iteration {}\".format(idx))\n",
    "#     plt.xticks(x, x_names)\n",
    "#     plt.show()\n",
    "\n"
   ]
  },
  {
   "cell_type": "code",
   "execution_count": 50,
   "metadata": {
    "scrolled": true
   },
   "outputs": [],
   "source": [
    "# # finding the standard deviation of the probabilities\n",
    "\n",
    "# std_prob = []\n",
    "\n",
    "# for (i, this_fsm) in enumerate(fsm):\n",
    "#     this_std = np.std(this_fsm.values())\n",
    "#     print(\"{}, {}\".format(i, this_std))\n",
    "#     std_prob.append(this_std)\n",
    "\n",
    "    \n",
    "# plt.title(\"Standard deviation of probabilities over trials\")\n",
    "# plt.plot(range(len(std_prob)),std_prob)\n",
    "# plt.show()\n",
    "    "
   ]
  },
  {
   "cell_type": "code",
   "execution_count": 9,
   "metadata": {
    "scrolled": true
   },
   "outputs": [
    {
     "data": {
      "image/png": "[encoded data removed]",
      "text/plain": [
       "<matplotlib.figure.Figure at 0x11e8b7310>"
      ]
     },
     "metadata": {},
     "output_type": "display_data"
    },
    {
     "name": "stdout",
     "output_type": "stream",
     "text": [
      "(0.78851843982909819, 0.00028402562988048315)\n"
     ]
    }
   ],
   "source": [
    "plt.title(\"Silhouttes coefs vs. std of probabilties\")\n",
    "plt.scatter(silhouettes,std_prob)\n",
    "plt.show()\n",
    "\n",
    "from scipy.stats.stats import pearsonr\n",
    "\n",
    "print(pearsonr(silhouettes, std_prob))"
   ]
  },
  {
   "cell_type": "markdown",
   "metadata": {},
   "source": [
    "# NOTES"
   ]
  },
  {
   "cell_type": "markdown",
   "metadata": {
    "collapsed": true
   },
   "source": [
    "next steps:\n",
    "\n",
    "- some program to evaluate the accuracy of an FSM\n",
    "- do this with an LSTM with 4 neurons instead of 8\n",
    "- add 500+ artificial neurons\n",
    "- bottom up approach, CLIQUE, ENCLUS\n",
    "\n",
    "- baseline - clustering the columns of the activation matrix\n",
    "- using mutual information, and then for each of those clusters\n",
    "- find clusters within those subspaces\n",
    "\n",
    "- use dni on fsm to interpret\n",
    "\n",
    "- exhaustive approach, gain some more intuition, with pruning algorithms\n",
    "\n",
    "\n",
    "- number of parentheses and plot it\n",
    "\n",
    "\n",
    "- Make an assumption of what a \"good\" fsm looks like - clear clustering and high-entropy probability distribution\n",
    "- for transitions\n",
    "\n",
    "- Robustness - how far can a neuron deviate from the cluster centroids without breaking the FSM - RNN correspondence?\n"
   ]
  },
  {
   "cell_type": "markdown",
   "metadata": {
    "collapsed": true
   },
   "source": [
    "## Brute force approach to subspace extraction\n",
    "Using a bottom-up exhaustive approach using the entropy-based subspace pruning method in http://citeseerx.ist.psu.edu/viewdoc/download?doi=10.1.1.33.1465&rep=rep1&type=pdf. "
   ]
  },
  {
   "cell_type": "code",
   "execution_count": 26,
   "metadata": {
    "scrolled": true
   },
   "outputs": [
    {
     "name": "stderr",
     "output_type": "stream",
     "text": [
      "\r",
      "0it [00:00, ?it/s]"
     ]
    },
    {
     "name": "stdout",
     "output_type": "stream",
     "text": [
      "Considering collection of 1 neurons\n"
     ]
    },
    {
     "name": "stderr",
     "output_type": "stream",
     "text": [
      "16it [00:09,  1.76it/s]\n",
      "0it [00:00, ?it/s]"
     ]
    },
    {
     "name": "stdout",
     "output_type": "stream",
     "text": [
      "Considering collection of 2 neurons\n"
     ]
    },
    {
     "name": "stderr",
     "output_type": "stream",
     "text": [
      "120it [00:58,  2.07it/s]\n",
      "2it [00:00, 16.45it/s]"
     ]
    },
    {
     "name": "stdout",
     "output_type": "stream",
     "text": [
      "Considering collection of 3 neurons\n"
     ]
    },
    {
     "name": "stderr",
     "output_type": "stream",
     "text": [
      "560it [02:45,  3.38it/s]\n",
      "2it [00:00, 13.22it/s]"
     ]
    },
    {
     "name": "stdout",
     "output_type": "stream",
     "text": [
      "Considering collection of 4 neurons\n"
     ]
    },
    {
     "name": "stderr",
     "output_type": "stream",
     "text": [
      "1820it [03:54,  7.77it/s]\n",
      "2it [00:00, 17.02it/s]"
     ]
    },
    {
     "name": "stdout",
     "output_type": "stream",
     "text": [
      "Considering collection of 5 neurons\n"
     ]
    },
    {
     "name": "stderr",
     "output_type": "stream",
     "text": [
      "4368it [06:13, 11.70it/s]\n",
      "2it [00:00, 15.73it/s]"
     ]
    },
    {
     "name": "stdout",
     "output_type": "stream",
     "text": [
      "Considering collection of 6 neurons\n"
     ]
    },
    {
     "name": "stderr",
     "output_type": "stream",
     "text": [
      "8008it [08:29, 15.72it/s]\n",
      "2it [00:00, 15.26it/s]"
     ]
    },
    {
     "name": "stdout",
     "output_type": "stream",
     "text": [
      "Considering collection of 7 neurons\n"
     ]
    },
    {
     "name": "stderr",
     "output_type": "stream",
     "text": [
      "11440it [10:44, 17.74it/s]\n",
      "2it [00:00, 15.22it/s]"
     ]
    },
    {
     "name": "stdout",
     "output_type": "stream",
     "text": [
      "Considering collection of 8 neurons\n"
     ]
    },
    {
     "name": "stderr",
     "output_type": "stream",
     "text": [
      "12870it [11:57, 17.95it/s]\n",
      "2it [00:00, 15.04it/s]"
     ]
    },
    {
     "name": "stdout",
     "output_type": "stream",
     "text": [
      "Considering collection of 9 neurons\n"
     ]
    },
    {
     "name": "stderr",
     "output_type": "stream",
     "text": [
      "11440it [10:41, 17.83it/s]\n",
      "2it [00:00, 13.65it/s]"
     ]
    },
    {
     "name": "stdout",
     "output_type": "stream",
     "text": [
      "Considering collection of 10 neurons\n"
     ]
    },
    {
     "name": "stderr",
     "output_type": "stream",
     "text": [
      "8008it [08:15, 16.15it/s]\n",
      "2it [00:00, 13.76it/s]"
     ]
    },
    {
     "name": "stdout",
     "output_type": "stream",
     "text": [
      "Considering collection of 11 neurons\n"
     ]
    },
    {
     "name": "stderr",
     "output_type": "stream",
     "text": [
      "4368it [04:40, 15.58it/s]\n",
      "2it [00:00, 12.78it/s]"
     ]
    },
    {
     "name": "stdout",
     "output_type": "stream",
     "text": [
      "Considering collection of 12 neurons\n"
     ]
    },
    {
     "name": "stderr",
     "output_type": "stream",
     "text": [
      "1820it [02:03, 14.75it/s]\n",
      "2it [00:00, 13.02it/s]"
     ]
    },
    {
     "name": "stdout",
     "output_type": "stream",
     "text": [
      "Considering collection of 13 neurons\n"
     ]
    },
    {
     "name": "stderr",
     "output_type": "stream",
     "text": [
      "560it [00:39, 14.21it/s]\n",
      "2it [00:00, 12.33it/s]"
     ]
    },
    {
     "name": "stdout",
     "output_type": "stream",
     "text": [
      "Considering collection of 14 neurons\n"
     ]
    },
    {
     "name": "stderr",
     "output_type": "stream",
     "text": [
      "120it [00:08, 13.77it/s]\n",
      "2it [00:00, 12.25it/s]"
     ]
    },
    {
     "name": "stdout",
     "output_type": "stream",
     "text": [
      "Considering collection of 15 neurons\n"
     ]
    },
    {
     "name": "stderr",
     "output_type": "stream",
     "text": [
      "16it [00:01, 13.06it/s]\n",
      "1it [00:00,  7.32it/s]\n"
     ]
    },
    {
     "name": "stdout",
     "output_type": "stream",
     "text": [
      "Considering collection of 16 neurons\n"
     ]
    },
    {
     "ename": "NameError",
     "evalue": "name 'subspace_clustering' is not defined",
     "output_type": "error",
     "traceback": [
      "\u001b[0;31m---------------------------------------------------------------------------\u001b[0m",
      "\u001b[0;31mNameError\u001b[0m                                 Traceback (most recent call last)",
      "\u001b[0;32m<ipython-input-26-0eb4b909e80f>\u001b[0m in \u001b[0;36m<module>\u001b[0;34m()\u001b[0m\n\u001b[1;32m      7\u001b[0m                                                 1.0)\n\u001b[1;32m      8\u001b[0m \u001b[0;34m\u001b[0m\u001b[0m\n\u001b[0;32m----> 9\u001b[0;31m \u001b[0msubspace_clustering\u001b[0m\u001b[0;34m\u001b[0m\u001b[0m\n\u001b[0m",
      "\u001b[0;31mNameError\u001b[0m: name 'subspace_clustering' is not defined"
     ]
    }
   ],
   "source": [
    "import subclustering as sc\n",
    "reload(sc)\n",
    "\n",
    "subspace_clusters = sc.bruteforce_prunesubspace(states, \n",
    "                                                sc.entropy_based, \n",
    "                                                sc.kmeans_wrapper, \n",
    "                                                1.0)\n",
    "\n"
   ]
  },
  {
   "cell_type": "code",
   "execution_count": 80,
   "metadata": {
    "scrolled": false
   },
   "outputs": [
    {
     "name": "stdout",
     "output_type": "stream",
     "text": [
      "maximum entropy = 2.26573085844\n",
      "75 percentile cutoff: 1.42249723842\n"
     ]
    },
    {
     "data": {
      "text/plain": [
       "<matplotlib.text.Text at 0x123145a10>"
      ]
     },
     "execution_count": 80,
     "metadata": {},
     "output_type": "execute_result"
    },
    {
     "data": {
      "image/png": "[encoded data removed]",
      "text/plain": [
       "<matplotlib.figure.Figure at 0x125de9e90>"
      ]
     },
     "metadata": {},
     "output_type": "display_data"
    }
   ],
   "source": [
    "top_fifth_ent = np.percentile(data, 80)\n",
    "top_quart_ent = np.percentile(data, 75)\n",
    "top_95_ent = np.percentile(data, 95)\n",
    "\n",
    "print(\"maximum entropy = {}\".format(max(data)))\n",
    "print(\"75 percentile cutoff: {}\".format(top_quarter_ent))\n",
    "\n",
    "data = [subspace_clusters[val][1] for val in subspace_clusters]\n",
    "values, base = np.histogram(data, bins=40)\n",
    "cumulative = np.cumsum(values)\n",
    "plt.title(\"Cumulative distribution for accepted subspaces.\")\n",
    "plt.plot(base[:-1], cumulative, c=\"blue\")\n",
    "plt.plot(base[:-1], len(data)-cumulative, c=\"green\")\n",
    "plt.plot([top_95_ent, top_95_ent], [350,0], c=\"red\")\n",
    "plt.xlabel(\"entropy\")\n"
   ]
  },
  {
   "cell_type": "code",
   "execution_count": 82,
   "metadata": {
    "scrolled": true
   },
   "outputs": [
    {
     "name": "stderr",
     "output_type": "stream",
     "text": [
      "\n",
      "0it [00:00, ?it/s]\u001b[A\n",
      "16it [00:00, 158.08it/s]\u001b[A"
     ]
    },
    {
     "name": "stdout",
     "output_type": "stream",
     "text": [
      "shape of artificial activation matrix: (250000, 66)\n",
      "Considering collection of 1 neurons\n"
     ]
    },
    {
     "name": "stderr",
     "output_type": "stream",
     "text": [
      "\n",
      "33it [00:00, 160.87it/s]\u001b[A\n",
      "48it [00:00, 154.73it/s]\u001b[A\n",
      "64it [00:00, 154.36it/s]\u001b[A\n",
      "66it [00:00, 153.54it/s]\u001b[A\n",
      "0it [00:00, ?it/s]\u001b[A\n",
      "8it [00:00, 75.33it/s]\u001b[A"
     ]
    },
    {
     "name": "stdout",
     "output_type": "stream",
     "text": [
      "Considering collection of 2 neurons\n"
     ]
    },
    {
     "name": "stderr",
     "output_type": "stream",
     "text": [
      "\n",
      "16it [00:00, 76.06it/s]\u001b[A\n",
      "23it [00:00, 73.92it/s]\u001b[A\n",
      "31it [00:00, 74.88it/s]\u001b[A\n",
      "39it [00:00, 75.64it/s]\u001b[A\n",
      "46it [00:00, 73.00it/s]\u001b[A\n",
      "53it [00:00, 67.81it/s]\u001b[A\n",
      "60it [00:00, 67.66it/s]\u001b[A\n",
      "69it [00:00, 69.54it/s]\u001b[A\n",
      "79it [00:01, 71.83it/s]\u001b[A\n",
      "89it [00:01, 73.61it/s]\u001b[A\n",
      "99it [00:01, 75.19it/s]\u001b[A\n",
      "Exception in thread Thread-47:\n",
      "Traceback (most recent call last):\n",
      "  File \"/Users/ian.huang/anaconda3/envs/py27/lib/python2.7/threading.py\", line 801, in __bootstrap_inner\n",
      "    self.run()\n",
      "  File \"/Users/ian.huang/anaconda3/envs/py27/lib/python2.7/site-packages/tqdm/_monitor.py\", line 62, in run\n",
      "    for instance in self.tqdm_cls._instances:\n",
      "  File \"/Users/ian.huang/anaconda3/envs/py27/lib/python2.7/_weakrefset.py\", line 60, in __iter__\n",
      "    for itemref in self.data:\n",
      "RuntimeError: Set changed size during iteration\n",
      "\n",
      "\n",
      "108it [00:01, 75.89it/s]\u001b[A\n",
      "117it [00:01, 76.30it/s]\u001b[A\n",
      "127it [00:01, 77.31it/s]\u001b[A\n",
      "136it [00:01, 77.16it/s]\u001b[A\n",
      "145it [00:01, 77.07it/s]\u001b[A\n",
      "154it [00:01, 77.27it/s]\u001b[A\n",
      "163it [00:02, 77.39it/s]\u001b[A\n",
      "172it [00:02, 77.55it/s]\u001b[A\n",
      "181it [00:02, 77.70it/s]\u001b[A\n",
      "190it [00:02, 77.44it/s]\u001b[A\n",
      "198it [00:02, 77.44it/s]\u001b[A\n",
      "206it [00:02, 76.49it/s]\u001b[A\n",
      "214it [00:02, 76.13it/s]\u001b[A\n",
      "223it [00:02, 76.56it/s]\u001b[A\n",
      "232it [00:03, 77.00it/s]\u001b[A\n",
      "241it [00:03, 77.36it/s]\u001b[A\n",
      "250it [00:03, 77.66it/s]\u001b[A\n",
      "259it [00:03, 77.86it/s]\u001b[A\n",
      "268it [00:03, 77.49it/s]\u001b[A\n",
      "276it [00:03, 77.52it/s]\u001b[A\n",
      "284it [00:03, 77.42it/s]\u001b[A\n",
      "292it [00:03, 77.34it/s]\u001b[A\n",
      "300it [00:03, 77.15it/s]\u001b[A\n",
      "308it [00:04, 76.89it/s]\u001b[A\n",
      "316it [00:04, 76.66it/s]\u001b[A\n",
      "325it [00:04, 76.91it/s]\u001b[A\n",
      "334it [00:04, 77.20it/s]\u001b[A\n",
      "342it [00:04, 77.18it/s]\u001b[A\n",
      "353it [00:04, 77.77it/s]\u001b[A\n",
      "364it [00:04, 78.40it/s]\u001b[A\n",
      "375it [00:04, 78.99it/s]\u001b[A\n",
      "385it [00:04, 79.04it/s]\u001b[A\n",
      "395it [00:04, 79.11it/s]\u001b[A\n",
      "404it [00:05, 79.13it/s]\u001b[A\n",
      "413it [00:05, 78.95it/s]\u001b[A\n",
      "422it [00:05, 78.61it/s]\u001b[A\n",
      "430it [00:05, 78.40it/s]\u001b[A\n",
      "438it [00:05, 78.43it/s]\u001b[A\n",
      "449it [00:05, 78.89it/s]\u001b[A\n",
      "460it [00:05, 79.32it/s]\u001b[A\n",
      "471it [00:05, 79.75it/s]\u001b[A\n",
      "481it [00:06, 80.04it/s]\u001b[A\n",
      "491it [00:06, 80.29it/s]\u001b[A\n",
      "501it [00:06, 80.35it/s]\u001b[A\n",
      "511it [00:06, 80.37it/s]\u001b[A\n",
      "520it [00:06, 80.45it/s]\u001b[A\n",
      "530it [00:06, 80.68it/s]\u001b[A\n",
      "541it [00:06, 81.04it/s]\u001b[A\n",
      "552it [00:06, 81.38it/s]\u001b[A\n",
      "562it [00:06, 81.60it/s]\u001b[A\n",
      "572it [00:07, 81.55it/s]\u001b[A\n",
      "582it [00:07, 81.40it/s]\u001b[A\n",
      "591it [00:07, 81.37it/s]\u001b[A\n",
      "600it [00:07, 81.42it/s]\u001b[A\n",
      "609it [00:07, 81.53it/s]\u001b[A\n",
      "618it [00:07, 81.56it/s]\u001b[A\n",
      "627it [00:07, 81.43it/s]\u001b[A\n",
      "636it [00:07, 81.30it/s]\u001b[A\n",
      "644it [00:07, 81.18it/s]\u001b[A\n",
      "652it [00:08, 80.98it/s]\u001b[A\n",
      "660it [00:08, 80.66it/s]\u001b[A\n",
      "668it [00:08, 80.42it/s]\u001b[A\n",
      "677it [00:08, 80.45it/s]\u001b[A\n",
      "686it [00:08, 80.49it/s]\u001b[A\n",
      "695it [00:08, 80.51it/s]\u001b[A\n",
      "704it [00:08, 80.54it/s]\u001b[A\n",
      "713it [00:08, 80.59it/s]\u001b[A\n",
      "722it [00:08, 80.57it/s]\u001b[A\n",
      "731it [00:09, 80.45it/s]\u001b[A\n",
      "739it [00:09, 80.44it/s]\u001b[A\n",
      "748it [00:09, 80.51it/s]\u001b[A\n",
      "757it [00:09, 80.61it/s]\u001b[A\n",
      "767it [00:09, 80.74it/s]\u001b[A\n",
      "776it [00:09, 80.75it/s]\u001b[A\n",
      "785it [00:09, 80.69it/s]\u001b[A\n",
      "794it [00:09, 80.57it/s]\u001b[A\n",
      "802it [00:09, 80.51it/s]\u001b[A\n",
      "810it [00:10, 80.39it/s]\u001b[A\n",
      "818it [00:10, 80.38it/s]\u001b[A\n",
      "827it [00:10, 80.42it/s]\u001b[A\n",
      "836it [00:10, 80.44it/s]\u001b[A\n",
      "845it [00:10, 80.45it/s]\u001b[A\n",
      "854it [00:10, 80.50it/s]\u001b[A\n",
      "863it [00:10, 80.53it/s]\u001b[A\n",
      "872it [00:10, 80.53it/s]\u001b[A\n",
      "881it [00:10, 80.54it/s]\u001b[A\n",
      "890it [00:11, 80.57it/s]\u001b[A\n",
      "899it [00:11, 80.60it/s]\u001b[A\n",
      "908it [00:11, 80.59it/s]\u001b[A\n",
      "917it [00:11, 80.60it/s]\u001b[A\n",
      "926it [00:11, 80.50it/s]\u001b[A\n",
      "934it [00:11, 80.03it/s]\u001b[A\n",
      "941it [00:11, 79.65it/s]\u001b[A\n",
      "948it [00:11, 79.49it/s]\u001b[A\n",
      "956it [00:12, 79.44it/s]\u001b[A\n",
      "963it [00:12, 79.35it/s]\u001b[A\n",
      "971it [00:12, 79.31it/s]\u001b[A\n",
      "978it [00:12, 78.72it/s]\u001b[A\n",
      "985it [00:12, 78.59it/s]\u001b[A\n",
      "993it [00:12, 78.50it/s]\u001b[A\n",
      "1000it [00:12, 78.39it/s]\u001b[A\n",
      "1007it [00:12, 78.31it/s]\u001b[A\n",
      "1015it [00:12, 78.27it/s]\u001b[A\n",
      "1022it [00:13, 78.17it/s]\u001b[A\n",
      "1029it [00:13, 78.04it/s]\u001b[A\n",
      "1036it [00:13, 77.76it/s]\u001b[A\n",
      "1043it [00:13, 77.39it/s]\u001b[A\n",
      "1050it [00:13, 77.32it/s]\u001b[A\n",
      "1057it [00:13, 77.23it/s]\u001b[A\n",
      "1064it [00:13, 77.12it/s]\u001b[A\n",
      "1072it [00:13, 77.10it/s]\u001b[A\n",
      "1079it [00:14, 77.04it/s]\u001b[A\n",
      "1088it [00:14, 77.07it/s]\u001b[A\n",
      "1096it [00:14, 77.04it/s]\u001b[A\n",
      "1104it [00:14, 76.99it/s]\u001b[A\n",
      "1112it [00:14, 76.99it/s]\u001b[A\n",
      "1120it [00:14, 76.49it/s]\u001b[A\n",
      "1128it [00:14, 76.48it/s]\u001b[A\n",
      "1136it [00:14, 76.47it/s]\u001b[A\n",
      "1144it [00:14, 76.45it/s]\u001b[A\n",
      "1152it [00:15, 76.44it/s]\u001b[A\n",
      "1160it [00:15, 76.45it/s]\u001b[A\n",
      "1168it [00:15, 76.45it/s]\u001b[A\n",
      "1176it [00:15, 76.33it/s]\u001b[A\n",
      "1184it [00:15, 76.32it/s]\u001b[A\n",
      "1192it [00:15, 76.32it/s]\u001b[A\n",
      "1200it [00:15, 76.33it/s]\u001b[A\n",
      "1208it [00:15, 76.33it/s]\u001b[A\n",
      "1216it [00:15, 76.17it/s]\u001b[A\n",
      "1224it [00:16, 76.16it/s]\u001b[A\n",
      "1232it [00:16, 76.16it/s]\u001b[A\n",
      "1240it [00:16, 76.12it/s]\u001b[A\n",
      "1248it [00:16, 76.03it/s]\u001b[A\n",
      "1255it [00:16, 75.98it/s]\u001b[A\n",
      "1262it [00:16, 75.93it/s]\u001b[A\n",
      "1270it [00:16, 75.91it/s]\u001b[A\n",
      "1277it [00:16, 75.87it/s]\u001b[A\n",
      "1284it [00:16, 75.77it/s]\u001b[A\n",
      "1291it [00:17, 75.66it/s]\u001b[A\n",
      "1298it [00:17, 75.51it/s]\u001b[A\n",
      "1305it [00:17, 75.36it/s]\u001b[A\n",
      "1312it [00:17, 75.28it/s]\u001b[A\n",
      "1320it [00:17, 75.26it/s]\u001b[A\n",
      "1329it [00:17, 75.29it/s]\u001b[A\n",
      "1336it [00:17, 74.67it/s]\u001b[A\n",
      "1342it [00:18, 74.54it/s]\u001b[A\n",
      "1348it [00:18, 74.30it/s]\u001b[A\n",
      "1354it [00:18, 74.07it/s]\u001b[A\n",
      "1360it [00:18, 73.97it/s]\u001b[A\n",
      "1368it [00:18, 73.96it/s]\u001b[A\n",
      "1376it [00:18, 73.97it/s]\u001b[A\n",
      "1383it [00:18, 73.93it/s]\u001b[A\n",
      "1390it [00:18, 73.88it/s]\u001b[A\n",
      "1397it [00:18, 73.85it/s]\u001b[A\n",
      "1404it [00:19, 73.78it/s]\u001b[A\n",
      "1411it [00:19, 73.70it/s]\u001b[A\n",
      "1419it [00:19, 73.69it/s]\u001b[A\n",
      "1427it [00:19, 73.70it/s]\u001b[A\n",
      "1434it [00:19, 73.66it/s]\u001b[A\n",
      "1441it [00:19, 73.55it/s]\u001b[A\n",
      "1448it [00:19, 73.44it/s]\u001b[A\n",
      "1455it [00:19, 73.37it/s]\u001b[A\n",
      "1462it [00:19, 73.33it/s]\u001b[A\n",
      "1469it [00:20, 73.30it/s]\u001b[A\n",
      "1476it [00:20, 73.26it/s]\u001b[A\n",
      "1483it [00:20, 73.22it/s]\u001b[A\n",
      "1490it [00:20, 73.18it/s]\u001b[A\n",
      "1497it [00:20, 73.14it/s]\u001b[A\n",
      "1504it [00:20, 73.10it/s]\u001b[A\n",
      "1513it [00:20, 73.15it/s]\u001b[A\n",
      "1521it [00:20, 73.17it/s]\u001b[A\n",
      "1529it [00:20, 73.20it/s]\u001b[A\n",
      "1537it [00:20, 73.21it/s]\u001b[A\n",
      "1545it [00:21, 73.23it/s]\u001b[A\n",
      "1553it [00:21, 73.26it/s]\u001b[A\n",
      "1561it [00:21, 73.21it/s]\u001b[A\n",
      "1569it [00:21, 73.18it/s]\u001b[A\n",
      "1577it [00:21, 73.15it/s]\u001b[A\n",
      "1585it [00:21, 73.16it/s]\u001b[A\n",
      "1593it [00:21, 73.16it/s]\u001b[A\n",
      "1601it [00:21, 73.15it/s]\u001b[A\n",
      "1609it [00:22, 73.13it/s]\u001b[A\n",
      "1617it [00:22, 73.06it/s]\u001b[A\n",
      "1624it [00:22, 73.01it/s]\u001b[A\n",
      "1632it [00:22, 73.01it/s]\u001b[A\n",
      "1640it [00:22, 73.04it/s]\u001b[A\n",
      "1648it [00:22, 73.06it/s]\u001b[A\n",
      "1656it [00:22, 73.06it/s]\u001b[A\n",
      "1664it [00:22, 72.90it/s]\u001b[A\n",
      "1671it [00:22, 72.78it/s]\u001b[A\n",
      "1678it [00:23, 72.72it/s]\u001b[A\n",
      "1685it [00:23, 72.65it/s]\u001b[A\n",
      "1692it [00:23, 72.58it/s]\u001b[A\n",
      "1699it [00:23, 72.49it/s]\u001b[A\n",
      "1705it [00:23, 72.44it/s]\u001b[A\n",
      "1712it [00:23, 72.39it/s]\u001b[A\n",
      "1720it [00:23, 72.40it/s]\u001b[A\n",
      "1727it [00:23, 72.34it/s]\u001b[A\n",
      "1734it [00:23, 72.30it/s]\u001b[A\n",
      "1741it [00:24, 72.26it/s]\u001b[A\n",
      "1748it [00:24, 72.20it/s]\u001b[A\n",
      "1755it [00:24, 72.17it/s]\u001b[A\n",
      "1763it [00:24, 72.18it/s]\u001b[A\n",
      "1771it [00:24, 72.19it/s]\u001b[A\n",
      "1779it [00:24, 72.19it/s]\u001b[A\n",
      "1787it [00:24, 72.21it/s]\u001b[A\n",
      "1795it [00:24, 72.20it/s]\u001b[A\n",
      "1803it [00:24, 72.16it/s]\u001b[A\n",
      "1810it [00:25, 72.11it/s]\u001b[A\n",
      "1817it [00:25, 72.08it/s]\u001b[A\n",
      "1824it [00:25, 72.04it/s]\u001b[A\n",
      "1832it [00:25, 72.07it/s]\u001b[A\n",
      "1840it [00:25, 72.08it/s]\u001b[A\n",
      "1849it [00:25, 72.13it/s]\u001b[A\n",
      "1857it [00:25, 72.14it/s]\u001b[A\n",
      "1865it [00:25, 72.16it/s]\u001b[A\n",
      "1873it [00:25, 72.19it/s]\u001b[A\n",
      "1881it [00:26, 72.21it/s]\u001b[A\n",
      "1889it [00:26, 72.21it/s]\u001b[A\n",
      "1897it [00:26, 72.17it/s]\u001b[A\n",
      "1905it [00:26, 72.14it/s]\u001b[A\n",
      "1912it [00:26, 72.11it/s]\u001b[A\n",
      "1919it [00:26, 72.06it/s]\u001b[A\n",
      "1926it [00:26, 72.01it/s]\u001b[A\n",
      "1933it [00:26, 71.98it/s]\u001b[A\n",
      "1941it [00:26, 71.99it/s]\u001b[A\n",
      "1948it [00:27, 71.95it/s]\u001b[A\n",
      "1956it [00:27, 71.96it/s]\u001b[A\n",
      "1965it [00:27, 72.00it/s]\u001b[A\n",
      "1973it [00:27, 71.98it/s]\u001b[A\n",
      "1981it [00:27, 71.93it/s]\u001b[A\n",
      "1989it [00:27, 71.93it/s]\u001b[A\n",
      "1996it [00:27, 71.87it/s]\u001b[A\n",
      "2003it [00:27, 71.79it/s]\u001b[A\n",
      "2010it [00:28, 71.75it/s]\u001b[A\n",
      "2017it [00:28, 71.69it/s]\u001b[A\n",
      "2024it [00:28, 71.59it/s]\u001b[A\n",
      "2030it [00:28, 71.51it/s]\u001b[A\n",
      "2036it [00:28, 71.44it/s]\u001b[A\n",
      "2044it [00:28, 71.45it/s]\u001b[A\n",
      "2052it [00:28, 71.46it/s]\u001b[A\n",
      "2059it [00:28, 71.42it/s]\u001b[A\n",
      "2066it [00:28, 71.38it/s]\u001b[A\n",
      "2073it [00:29, 71.38it/s]\u001b[A\n",
      "2080it [00:29, 71.37it/s]\u001b[A\n",
      "2087it [00:29, 71.33it/s]\u001b[A\n",
      "2094it [00:29, 71.27it/s]\u001b[A\n",
      "2101it [00:29, 71.23it/s]\u001b[A\n",
      "2108it [00:29, 71.19it/s]\u001b[A\n",
      "2116it [00:29, 71.21it/s]\u001b[A\n",
      "2124it [00:29, 71.22it/s]\u001b[A\n",
      "2132it [00:29, 71.25it/s]\u001b[A\n",
      "2140it [00:30, 71.26it/s]\u001b[A\n",
      "6it [00:00, 53.39it/s]/s]\u001b[A"
     ]
    },
    {
     "name": "stdout",
     "output_type": "stream",
     "text": [
      "Considering collection of 3 neurons\n"
     ]
    },
    {
     "name": "stderr",
     "output_type": "stream",
     "text": [
      "45760it [13:15, 57.53it/s]\n",
      "6it [00:00, 50.48it/s]"
     ]
    },
    {
     "name": "stdout",
     "output_type": "stream",
     "text": [
      "Considering collection of 4 neurons\n"
     ]
    },
    {
     "name": "stderr",
     "output_type": "stream",
     "text": [
      "720720it [4:22:18, 45.79it/s]\n",
      "5it [00:00, 42.48it/s]"
     ]
    },
    {
     "name": "stdout",
     "output_type": "stream",
     "text": [
      "Considering collection of 5 neurons\n"
     ]
    },
    {
     "name": "stderr",
     "output_type": "stream",
     "text": [
      "488569it [5:36:27, 24.20it/s]"
     ]
    },
    {
     "ename": "KeyboardInterrupt",
     "evalue": "",
     "output_type": "error",
     "traceback": [
      "\u001b[0;31m---------------------------------------------------------------------------\u001b[0m",
      "\u001b[0;31mKeyboardInterrupt\u001b[0m                         Traceback (most recent call last)",
      "\u001b[0;32m<ipython-input-82-8496779bd201>\u001b[0m in \u001b[0;36m<module>\u001b[0;34m()\u001b[0m\n\u001b[1;32m     12\u001b[0m                                                 \u001b[0msc\u001b[0m\u001b[0;34m.\u001b[0m\u001b[0mkmeans_wrapper\u001b[0m\u001b[0;34m,\u001b[0m\u001b[0;34m\u001b[0m\u001b[0m\n\u001b[1;32m     13\u001b[0m                                                 \u001b[0mtop_fifth_ent\u001b[0m\u001b[0;34m,\u001b[0m\u001b[0;34m\u001b[0m\u001b[0m\n\u001b[0;32m---> 14\u001b[0;31m                                                delt=0.2) # increased delt \n\u001b[0m",
      "\u001b[0;32m/Users/ian.huang/Documents/Projects/deep-neural-inspector/src/subclustering.py\u001b[0m in \u001b[0;36mbruteforce_prunesubspace\u001b[0;34m(hid_states, metric, cluster_func, threshold, delt)\u001b[0m\n\u001b[1;32m    115\u001b[0m         \u001b[0;32mfor\u001b[0m \u001b[0mj\u001b[0m \u001b[0;32min\u001b[0m \u001b[0mtqdm\u001b[0m\u001b[0;34m(\u001b[0m \u001b[0mcombinations\u001b[0m\u001b[0;34m(\u001b[0m\u001b[0mcolumn_indices\u001b[0m\u001b[0;34m,\u001b[0m \u001b[0mi\u001b[0m\u001b[0;34m)\u001b[0m\u001b[0;34m)\u001b[0m\u001b[0;34m:\u001b[0m\u001b[0;34m\u001b[0m\u001b[0m\n\u001b[1;32m    116\u001b[0m             \u001b[0mcomb\u001b[0m \u001b[0;34m=\u001b[0m \u001b[0mnp\u001b[0m\u001b[0;34m.\u001b[0m\u001b[0marray\u001b[0m\u001b[0;34m(\u001b[0m\u001b[0mj\u001b[0m\u001b[0;34m)\u001b[0m\u001b[0;34m\u001b[0m\u001b[0m\n\u001b[0;32m--> 117\u001b[0;31m             \u001b[0maoi\u001b[0m \u001b[0;34m=\u001b[0m \u001b[0mhid_states\u001b[0m\u001b[0;34m[\u001b[0m\u001b[0;34m:\u001b[0m\u001b[0;34m,\u001b[0m \u001b[0mnp\u001b[0m\u001b[0;34m.\u001b[0m\u001b[0marray\u001b[0m\u001b[0;34m(\u001b[0m\u001b[0mj\u001b[0m\u001b[0;34m)\u001b[0m\u001b[0;34m]\u001b[0m\u001b[0;34m\u001b[0m\u001b[0m\n\u001b[0m\u001b[1;32m    118\u001b[0m \u001b[0;34m\u001b[0m\u001b[0m\n\u001b[1;32m    119\u001b[0m             \u001b[0;31m# finding the entropy measurement\u001b[0m\u001b[0;34m\u001b[0m\u001b[0;34m\u001b[0m\u001b[0m\n",
      "\u001b[0;31mKeyboardInterrupt\u001b[0m: "
     ]
    },
    {
     "name": "stderr",
     "output_type": "stream",
     "text": [
      "\r",
      "488569it [5:36:39, 24.19it/s]"
     ]
    }
   ],
   "source": [
    "reload(sc)\n",
    "\n",
    "## Experiment to see if filtering when noise is added.\n",
    "N_random = 50\n",
    "\n",
    "rand_activations = np.random.random((states.shape[0], N_random))\n",
    "alt_states = np.hstack((states, rand_activations))\n",
    "print(\"shape of artificial activation matrix: {}\".format(alt_states.shape))\n",
    "\n",
    "subspace_clusters = sc.bruteforce_prunesubspace(alt_states, \n",
    "                                                sc.entropy_based, \n",
    "                                                sc.kmeans_wrapper, \n",
    "                                                top_fifth_ent,\n",
    "                                               delt=0.2) # increased delt "
   ]
  },
  {
   "cell_type": "code",
   "execution_count": null,
   "metadata": {
    "collapsed": true
   },
   "outputs": [],
   "source": [
    "## checking if any of the artificial neurons made it into the top\n",
    "\n",
    "# turn dictionary into a list, and then rank subspaces according to the \n"
   ]
  },
  {
   "cell_type": "markdown",
   "metadata": {
    "collapsed": true
   },
   "source": [
    "## Transition extraction\n",
    "Evaluation using gini coefficient\n"
   ]
  },
  {
   "cell_type": "code",
   "execution_count": null,
   "metadata": {
    "collapsed": true
   },
   "outputs": [],
   "source": []
  },
  {
   "cell_type": "code",
   "execution_count": null,
   "metadata": {
    "collapsed": true
   },
   "outputs": [],
   "source": []
  }
 ],
 "metadata": {
  "kernelspec": {
   "display_name": "Python 2",
   "language": "python",
   "name": "python2"
  },
  "language_info": {
   "codemirror_mode": {
    "name": "ipython",
    "version": 2
   },
   "file_extension": ".py",
   "mimetype": "text/x-python",
   "name": "python",
   "nbconvert_exporter": "python",
   "pygments_lexer": "ipython2",
   "version": "2.7.13"
  }
 },
 "nbformat": 4,
 "nbformat_minor": 2
}
