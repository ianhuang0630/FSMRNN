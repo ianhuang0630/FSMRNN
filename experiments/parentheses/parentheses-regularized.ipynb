{
 "cells": [
  {
   "cell_type": "markdown",
   "metadata": {},
   "source": [
    "# Libraries, Headers and Stuff"
   ]
  },
  {
   "cell_type": "code",
   "execution_count": 1,
   "metadata": {
    "collapsed": true
   },
   "outputs": [],
   "source": [
    "import sys\n",
    "sys.path.append('../../src')\n"
   ]
  },
  {
   "cell_type": "code",
   "execution_count": 2,
   "metadata": {
    "collapsed": true
   },
   "outputs": [],
   "source": [
    "N_SENTENCES = 50000\n",
    "TEST_RATIO = .1\n",
    "WINDOW_SIZE = 16\n",
    "N_EPOCHS = 5\n",
    "CACHED = True\n",
    "N_STATES = 32\n",
    "SAMPLES_VERIFY = 8\n",
    "BATCH_SIZE = 32"
   ]
  },
  {
   "cell_type": "code",
   "execution_count": 3,
   "metadata": {
    "collapsed": true
   },
   "outputs": [],
   "source": [
    "import datetime\n",
    "import os\n",
    "\n",
    "FOLDER_OUT = 'Parenthesis-' + str(datetime.datetime.today())\n",
    "if not os.path.exists(FOLDER_OUT):\n",
    "    os.makedirs(FOLDER_OUT)"
   ]
  },
  {
   "cell_type": "code",
   "execution_count": 4,
   "metadata": {
    "collapsed": false
   },
   "outputs": [
    {
     "name": "stderr",
     "output_type": "stream",
     "text": [
      "Using TensorFlow backend.\n"
     ]
    }
   ],
   "source": [
    "import numpy as np\n",
    "import keras"
   ]
  },
  {
   "cell_type": "code",
   "execution_count": 5,
   "metadata": {
    "collapsed": true
   },
   "outputs": [],
   "source": [
    "%load_ext rpy2.ipython"
   ]
  },
  {
   "cell_type": "code",
   "execution_count": 6,
   "metadata": {
    "collapsed": true
   },
   "outputs": [],
   "source": [
    "import random\n",
    "random.seed(55555)"
   ]
  },
  {
   "cell_type": "markdown",
   "metadata": {},
   "source": [
    "# Creates Dataset"
   ]
  },
  {
   "cell_type": "code",
   "execution_count": 7,
   "metadata": {
    "collapsed": true
   },
   "outputs": [],
   "source": [
    "import utils.grammar as gram\n",
    "reload(gram)\n",
    "grammar = [('S0', '0 S0 | ( S1 )'),\n",
    "           ('S1', '1 S1 | ( S2 )'),\n",
    "           ('S2', '2 S2 | ( S3 )'),\n",
    "           ('S3', '3 S3 | ( S4 )'),\n",
    "           ('S4', 'S4 S4 | 4')]\n",
    "gram_obj = gram.GrammarUseCase(grammar, 'S0')"
   ]
  },
  {
   "cell_type": "code",
   "execution_count": 8,
   "metadata": {
    "collapsed": false
   },
   "outputs": [
    {
     "name": "stdout",
     "output_type": "stream",
     "text": [
      "Generating raw text size: 50000\n",
      "Generated sequence - 607083 characters\n",
      "Generating raw text size: 5000\n",
      "Generated sequence - 60861 characters\n",
      "Encoding\n",
      "Total vocabulary size:  7\n",
      "Training smybols: 607083\n",
      "Testing smybols: 60861\n",
      "Size vocabulay: 7\n"
     ]
    }
   ],
   "source": [
    "import utils.preprocess as pre\n",
    "reload(pre)\n",
    "\n",
    "# Generates data\n",
    "train_sequence = gram_obj.gen_sequence(N_SENTENCES)\n",
    "test_sequence = gram_obj.gen_sequence(int(N_SENTENCES * TEST_RATIO))\n",
    "\n",
    "raw_train_sequence, raw_test_sequence, char2int, int2char = pre.encode_split(train_sequence, test_sequence)\n",
    "\n",
    "print 'Training smybols:', len(raw_train_sequence)\n",
    "print 'Testing smybols:', len(raw_test_sequence)\n",
    "print 'Size vocabulay:', len(char2int)"
   ]
  },
  {
   "cell_type": "code",
   "execution_count": 18,
   "metadata": {
    "collapsed": false
   },
   "outputs": [
    {
     "name": "stdout",
     "output_type": "stream",
     "text": [
      "Training data:\n",
      "X: (607072, 1, 7)\n",
      "y: (607072, 7)\n",
      "Test data:\n",
      "X: (60832, 1, 7)\n",
      "y: (60832, 7)\n",
      "Test sequences: ['(', '(', '(', '3', '('] ['(', '(', '3', '(', '4']\n",
      "length: 60832 60832\n"
     ]
    }
   ],
   "source": [
    "import numpy as np\n",
    "import utils.preprocess as pre\n",
    "reload(pre)\n",
    "\n",
    "# Preprocesses training\n",
    "# SPLITS\n",
    "X_train_raw = raw_train_sequence[:-1]\n",
    "y_train_raw = raw_train_sequence[1:]\n",
    "# ENCODES\n",
    "X_train = keras.utils.to_categorical(X_train_raw)\n",
    "y_train = keras.utils.to_categorical(y_train_raw)\n",
    "# SHUFFLES\n",
    "train_indices = pre.shuffle_indices(len(X_train_raw), BATCH_SIZE)\n",
    "y_train = y_train[train_indices]\n",
    "# EXPANDS\n",
    "X_train = X_train[train_indices,np.newaxis,:]\n",
    "\n",
    "# Preprocesses testing\n",
    "# SPLITS\n",
    "X_test_raw = raw_test_sequence[:-1]\n",
    "y_test_raw = raw_test_sequence[1:]\n",
    "# ENCODES\n",
    "X_test = keras.utils.to_categorical(X_test_raw)\n",
    "y_test = keras.utils.to_categorical(y_test_raw)\n",
    "# SHUFFLES\n",
    "test_indices = pre.shuffle_indices(len(X_test_raw), BATCH_SIZE)\n",
    "X_test = X_test[test_indices, np.newaxis,:]\n",
    "y_test = y_test[test_indices]\n",
    "\n",
    "print \"Training data:\"\n",
    "print \"X:\", X_train.shape\n",
    "print \"y:\", y_train.shape\n",
    "\n",
    "print \"Test data:\"\n",
    "print \"X:\", X_test.shape\n",
    "print \"y:\", y_test.shape\n",
    "\n",
    "\n",
    "# Recovers the original training data\n",
    "X_test_sequence = test_sequence[:X_test.shape[0]]\n",
    "y_test_sequence = test_sequence[1:X_test.shape[0]+1]\n",
    "print 'Test sequences:', X_test_sequence[:5], y_test_sequence[:5]\n",
    "print 'length:', len(X_test_sequence), len(y_test_sequence)\n",
    "\n",
    "import pickle\n",
    "f = open(\"sequence.pkl\", \"wb\")\n",
    "pickle.dump({\"X\": X_test_sequence, \"y\": y_test_sequence}, f)\n"
   ]
  },
  {
   "cell_type": "markdown",
   "metadata": {},
   "source": [
    "# Creates the model"
   ]
  },
  {
   "cell_type": "code",
   "execution_count": 10,
   "metadata": {
    "collapsed": true
   },
   "outputs": [],
   "source": [
    "from keras.models import Sequential\n",
    "from keras.layers import Dense\n",
    "from keras.layers import Dropout\n",
    "from keras.layers import LSTM,SimpleRNN\n",
    "from keras.layers import Lambda\n",
    "from keras import regularizers\n",
    "\n",
    "from controllers.mylstm_legacy import MYLSTM\n",
    "\n",
    "in_dim = X_train.shape[1:]\n",
    "out_dim = y_train.shape[1]\n",
    "\n",
    "model = Sequential()\n",
    "model.add(MYLSTM(N_STATES, stateful=True,\n",
    "                         batch_size=BATCH_SIZE,\n",
    "                           input_shape=in_dim,\n",
    "                          activity_regularizer = regularizers.l1(0.01)))\n",
    "model.add(Dense(out_dim, activation='softmax'))\n",
    "model.compile(loss='categorical_crossentropy',\n",
    "              optimizer='adam',\n",
    "              metrics=['acc'])"
   ]
  },
  {
   "cell_type": "code",
   "execution_count": 11,
   "metadata": {
    "collapsed": true
   },
   "outputs": [],
   "source": [
    "from keras.models import load_model\n",
    "from controllers.mylstm_legacy import MYLSTM\n",
    "\n",
    "if not CACHED:\n",
    "    for i in range(N_EPOCHS):\n",
    "        model.reset_states()\n",
    "        history = model.fit(X_train, y_train,\n",
    "                            batch_size=BATCH_SIZE,\n",
    "                            epochs=1,\n",
    "                            verbose=1,\n",
    "                            shuffle=False)\n",
    "        model.save('models/parentheses_stateful_reg_mylstm')\n",
    "else:\n",
    "    model = load_model('models/parentheses_stateful_reg_mylstm',\n",
    "                       custom_objects={'MYLSTM':MYLSTM})"
   ]
  },
  {
   "cell_type": "code",
   "execution_count": 12,
   "metadata": {
    "collapsed": false
   },
   "outputs": [
    {
     "name": "stdout",
     "output_type": "stream",
     "text": [
      "60256/60832 [============================>.] - ETA: 0s('Test score:', 0.47418262301966241)\n",
      "('Test accuracy:', 0.74079431877958968)\n"
     ]
    }
   ],
   "source": [
    "model.reset_states()\n",
    "score = model.evaluate(X_test, y_test, batch_size=BATCH_SIZE, verbose=1)\n",
    "print('Test score:', score[0])\n",
    "print('Test accuracy:', score[1])"
   ]
  },
  {
   "cell_type": "code",
   "execution_count": 13,
   "metadata": {
    "collapsed": false
   },
   "outputs": [
    {
     "name": "stdout",
     "output_type": "stream",
     "text": [
      "Dimensions of sentence after encoding: (32, 7, 7)\n",
      "Dimensions of sentence after generation: (32, 72, 7)\n",
      "(1(2(3((((4)44)))))((2((4))))0((2((4))))(1(22(3(4))))(1(2((4))))(1(2(3(4\n",
      "Dimensions of sentence after encoding: (32, 7, 7)\n",
      "Dimensions of sentence after generation: (32, 72, 7)\n",
      "((((4))0(((3(4))))0((((4))))((((4))))0(1(2(33(4))))(1(2(3(44))))(1(22(33\n"
     ]
    }
   ],
   "source": [
    "# Generate samples\n",
    "import generator as gen\n",
    "\n",
    "print gen.complete_sentence_stateful('(1(2(3(', model, 64, char2int, int2char,BATCH_SIZE)\n",
    "print gen.complete_sentence_stateful('((((4))', model, 64, char2int, int2char, BATCH_SIZE)"
   ]
  },
  {
   "cell_type": "markdown",
   "metadata": {},
   "source": [
    "# Extracts all kind of features"
   ]
  },
  {
   "cell_type": "code",
   "execution_count": 14,
   "metadata": {
    "collapsed": true
   },
   "outputs": [],
   "source": [
    "import features as feat\n",
    "reload(feat)\n",
    "\n",
    "bin_feature = gram_obj.gen_bin_feat()\n",
    "bin_trig_feature = gram_obj.gen_bin_feat_trig()\n",
    "alphabet = feat.alphabet()\n",
    "\n",
    "#features = [bin_feature, bin_trig_feature, alphabet]\n",
    "features = [bin_feature]"
   ]
  },
  {
   "cell_type": "code",
   "execution_count": 17,
   "metadata": {
    "collapsed": false,
    "scrolled": true
   },
   "outputs": [
    {
     "name": "stdout",
     "output_type": "stream",
     "text": [
      "Generating feature scores\n",
      "Running feature 0 out of 1\n",
      "Parsed 0 symbols out of 60832\n",
      "Parsed 1000 symbols out of 60832\n",
      "Parsed 2000 symbols out of 60832\n",
      "Parsed 3000 symbols out of 60832\n",
      "Parsed 4000 symbols out of 60832\n",
      "Parsed 5000 symbols out of 60832\n",
      "Parsed 6000 symbols out of 60832\n",
      "Parsed 7000 symbols out of 60832\n",
      "Parsed 8000 symbols out of 60832\n",
      "Parsed 9000 symbols out of 60832\n",
      "Parsed 10000 symbols out of 60832\n",
      "Parsed 11000 symbols out of 60832\n",
      "Parsed 12000 symbols out of 60832\n",
      "Parsed 13000 symbols out of 60832\n",
      "Parsed 14000 symbols out of 60832\n",
      "Parsed 15000 symbols out of 60832\n",
      "Parsed 16000 symbols out of 60832\n",
      "Parsed 17000 symbols out of 60832\n",
      "Parsed 18000 symbols out of 60832\n",
      "Parsed 19000 symbols out of 60832\n",
      "Parsed 20000 symbols out of 60832\n",
      "Parsed 21000 symbols out of 60832\n",
      "Parsed 22000 symbols out of 60832\n",
      "Parsed 23000 symbols out of 60832\n",
      "Parsed 24000 symbols out of 60832\n",
      "Parsed 25000 symbols out of 60832\n",
      "Parsed 26000 symbols out of 60832\n",
      "Parsed 27000 symbols out of 60832\n",
      "Parsed 28000 symbols out of 60832\n",
      "Parsed 29000 symbols out of 60832\n",
      "Parsed 30000 symbols out of 60832\n",
      "Parsed 31000 symbols out of 60832\n",
      "Parsed 32000 symbols out of 60832\n",
      "Parsed 33000 symbols out of 60832\n",
      "Parsed 34000 symbols out of 60832\n",
      "Parsed 35000 symbols out of 60832\n",
      "Parsed 36000 symbols out of 60832\n",
      "Parsed 37000 symbols out of 60832\n",
      "Parsed 38000 symbols out of 60832\n",
      "Parsed 39000 symbols out of 60832\n",
      "Parsed 40000 symbols out of 60832\n",
      "Parsed 41000 symbols out of 60832\n",
      "Parsed 42000 symbols out of 60832\n",
      "Parsed 43000 symbols out of 60832\n",
      "Parsed 44000 symbols out of 60832\n",
      "Parsed 45000 symbols out of 60832\n",
      "Parsed 46000 symbols out of 60832\n",
      "Parsed 47000 symbols out of 60832\n",
      "Parsed 48000 symbols out of 60832\n",
      "Parsed 49000 symbols out of 60832\n",
      "Parsed 50000 symbols out of 60832\n",
      "Parsed 51000 symbols out of 60832\n",
      "Parsed 52000 symbols out of 60832\n",
      "Parsed 53000 symbols out of 60832\n",
      "Parsed 54000 symbols out of 60832\n",
      "Parsed 55000 symbols out of 60832\n",
      "Parsed 56000 symbols out of 60832\n",
      "Parsed 57000 symbols out of 60832\n",
      "Parsed 58000 symbols out of 60832\n",
      "Parsed 59000 symbols out of 60832\n",
      "Parsed 60000 symbols out of 60832\n",
      "Done parsing\n",
      "Added features ['prod_S3', 'prod_S2', 'prod_S1', 'prod_S0', 'prod_S4', '...']\n",
      "Tidying...\n",
      "Computed feature matrix, with shape: (60832, 5)\n",
      "Snippet of the features\n",
      "0((((4))))0((22(3(44))))0((((444))))00(11((33(44))\n",
      "['prod_S3', 'prod_S2', 'prod_S1', 'prod_S0', 'prod_S4']\n",
      "[[0 0 0 1 0]\n",
      " [0 0 0 1 0]\n",
      " [0 0 1 1 0]\n",
      " [0 1 1 1 0]\n",
      " [1 1 1 1 0]\n",
      " [1 1 1 1 1]\n",
      " [1 1 1 1 0]\n",
      " [0 1 1 1 0]\n",
      " [0 0 1 1 0]\n",
      " [0 0 0 1 0]\n",
      " [0 0 0 1 0]\n",
      " [0 0 0 1 0]\n",
      " [0 0 1 1 0]\n",
      " [0 1 1 1 0]\n",
      " [0 1 1 1 0]\n",
      " [0 1 1 1 0]\n",
      " [1 1 1 1 0]\n",
      " [1 1 1 1 0]\n",
      " [1 1 1 1 1]\n",
      " [1 1 1 1 1]\n",
      " [1 1 1 1 0]\n",
      " [0 1 1 1 0]\n",
      " [0 0 1 1 0]\n",
      " [0 0 0 1 0]\n",
      " [0 0 0 1 0]\n",
      " [0 0 0 1 0]\n",
      " [0 0 1 1 0]\n",
      " [0 1 1 1 0]\n",
      " [1 1 1 1 0]\n",
      " [1 1 1 1 1]\n",
      " [1 1 1 1 1]\n",
      " [1 1 1 1 1]\n",
      " [1 1 1 1 0]\n",
      " [0 1 1 1 0]\n",
      " [0 0 1 1 0]\n",
      " [0 0 0 1 0]\n",
      " [0 0 0 0 0]\n",
      " [0 0 0 0 0]\n",
      " [0 0 0 0 0]\n",
      " [0 0 0 0 0]\n",
      " [0 0 0 0 0]\n",
      " [0 0 0 0 0]\n",
      " [0 1 0 0 0]\n",
      " [1 1 0 0 0]\n",
      " [1 1 0 0 0]\n",
      " [1 1 0 0 0]\n",
      " [1 1 0 0 1]\n",
      " [1 1 0 0 1]\n",
      " [1 1 0 0 0]\n",
      " [0 1 0 0 0]]\n",
      "Generating feature scores\n",
      "Running feature 0 out of 1\n",
      "Parsed 0 symbols out of 60832\n",
      "Parsed 1000 symbols out of 60832\n",
      "Parsed 2000 symbols out of 60832\n",
      "Parsed 3000 symbols out of 60832\n",
      "Parsed 4000 symbols out of 60832\n",
      "Parsed 5000 symbols out of 60832\n",
      "Parsed 6000 symbols out of 60832\n",
      "Parsed 7000 symbols out of 60832\n",
      "Parsed 8000 symbols out of 60832\n",
      "Parsed 9000 symbols out of 60832\n",
      "Parsed 10000 symbols out of 60832\n",
      "Parsed 11000 symbols out of 60832\n",
      "Parsed 12000 symbols out of 60832\n",
      "Parsed 13000 symbols out of 60832\n",
      "Parsed 14000 symbols out of 60832\n",
      "Parsed 15000 symbols out of 60832\n",
      "Parsed 16000 symbols out of 60832\n",
      "Parsed 17000 symbols out of 60832\n",
      "Parsed 18000 symbols out of 60832\n",
      "Parsed 19000 symbols out of 60832\n",
      "Parsed 20000 symbols out of 60832\n",
      "Parsed 21000 symbols out of 60832\n",
      "Parsed 22000 symbols out of 60832\n",
      "Parsed 23000 symbols out of 60832\n",
      "Parsed 24000 symbols out of 60832\n",
      "Parsed 25000 symbols out of 60832\n",
      "Parsed 26000 symbols out of 60832\n",
      "Parsed 27000 symbols out of 60832\n",
      "Parsed 28000 symbols out of 60832\n",
      "Parsed 29000 symbols out of 60832\n",
      "Parsed 30000 symbols out of 60832\n",
      "Parsed 31000 symbols out of 60832\n",
      "Parsed 32000 symbols out of 60832\n",
      "Parsed 33000 symbols out of 60832\n",
      "Parsed 34000 symbols out of 60832\n",
      "Parsed 35000 symbols out of 60832\n",
      "Parsed 36000 symbols out of 60832\n",
      "Parsed 37000 symbols out of 60832\n",
      "Parsed 38000 symbols out of 60832\n",
      "Parsed 39000 symbols out of 60832\n",
      "Parsed 40000 symbols out of 60832\n",
      "Parsed 41000 symbols out of 60832\n",
      "Parsed 42000 symbols out of 60832\n",
      "Parsed 43000 symbols out of 60832\n",
      "Parsed 44000 symbols out of 60832\n",
      "Parsed 45000 symbols out of 60832\n",
      "Parsed 46000 symbols out of 60832\n",
      "Parsed 47000 symbols out of 60832\n",
      "Parsed 48000 symbols out of 60832\n",
      "Parsed 49000 symbols out of 60832\n",
      "Parsed 50000 symbols out of 60832\n",
      "Parsed 51000 symbols out of 60832\n",
      "Parsed 52000 symbols out of 60832\n",
      "Parsed 53000 symbols out of 60832\n",
      "Parsed 54000 symbols out of 60832\n",
      "Parsed 55000 symbols out of 60832\n",
      "Parsed 56000 symbols out of 60832\n",
      "Parsed 57000 symbols out of 60832\n",
      "Parsed 58000 symbols out of 60832\n",
      "Parsed 59000 symbols out of 60832\n",
      "Parsed 60000 symbols out of 60832\n",
      "Done parsing\n",
      "Added features ['prod_S3', 'prod_S2', 'prod_S1', 'prod_S0', 'prod_S4', '...']\n",
      "Tidying...\n",
      "Computed feature matrix, with shape: (60832, 5)\n",
      "Snippet of the features\n",
      "((((4))))0((22(3(44))))0((((444))))00(11((33(44)))\n",
      "['prod_S3', 'prod_S2', 'prod_S1', 'prod_S0', 'prod_S4']\n",
      "[[0 0 0 1 0]\n",
      " [0 0 1 1 0]\n",
      " [0 1 1 1 0]\n",
      " [1 1 1 1 0]\n",
      " [1 1 1 1 1]\n",
      " [1 1 1 1 0]\n",
      " [0 1 1 1 0]\n",
      " [0 0 1 1 0]\n",
      " [0 0 0 1 0]\n",
      " [0 0 0 1 0]\n",
      " [0 0 0 1 0]\n",
      " [0 0 1 1 0]\n",
      " [0 1 1 1 0]\n",
      " [0 1 1 1 0]\n",
      " [0 1 1 1 0]\n",
      " [1 1 1 1 0]\n",
      " [1 1 1 1 0]\n",
      " [1 1 1 1 1]\n",
      " [1 1 1 1 1]\n",
      " [1 1 1 1 0]\n",
      " [0 1 1 1 0]\n",
      " [0 0 1 1 0]\n",
      " [0 0 0 1 0]\n",
      " [0 0 0 1 0]\n",
      " [0 0 0 1 0]\n",
      " [0 0 1 1 0]\n",
      " [0 1 1 1 0]\n",
      " [1 1 1 1 0]\n",
      " [1 1 1 1 1]\n",
      " [1 1 1 1 1]\n",
      " [1 1 1 1 1]\n",
      " [1 1 1 1 0]\n",
      " [0 1 1 1 0]\n",
      " [0 0 1 1 0]\n",
      " [0 0 0 1 0]\n",
      " [0 0 0 0 0]\n",
      " [0 0 0 0 0]\n",
      " [0 0 0 0 0]\n",
      " [0 0 1 0 0]\n",
      " [0 0 1 0 0]\n",
      " [0 0 1 0 0]\n",
      " [0 1 1 0 0]\n",
      " [1 1 1 0 0]\n",
      " [1 1 1 0 0]\n",
      " [1 1 1 0 0]\n",
      " [1 1 1 0 1]\n",
      " [1 1 1 0 1]\n",
      " [1 1 1 0 0]\n",
      " [0 1 1 0 0]\n",
      " [0 0 1 0 0]]\n",
      "Features for test sequence:\n",
      "['prod_S3', 'prod_S2', 'prod_S1', 'prod_S0', 'prod_S4']\n",
      "[[0 0 0 1 0]\n",
      " [0 0 1 1 0]\n",
      " [0 1 1 1 0]\n",
      " [1 1 1 1 0]\n",
      " [1 1 1 1 0]\n",
      " [1 1 1 1 1]\n",
      " [1 1 1 1 1]\n",
      " [1 1 1 1 1]\n",
      " [1 1 1 1 0]\n",
      " [0 1 1 1 0]\n",
      " [0 0 1 1 0]\n",
      " [0 0 0 1 0]\n",
      " [0 0 0 1 0]\n",
      " [0 0 1 1 0]\n",
      " [0 1 1 1 0]]\n",
      "Features for test sequence labels:\n",
      "['prod_S3', 'prod_S2', 'prod_S1', 'prod_S0', 'prod_S4']\n",
      "[[0 0 1 0 0]\n",
      " [0 1 1 0 0]\n",
      " [1 1 1 0 0]\n",
      " [1 1 1 0 0]\n",
      " [1 1 1 0 1]\n",
      " [1 1 1 0 1]\n",
      " [1 1 1 0 1]\n",
      " [1 1 1 0 0]\n",
      " [0 1 1 0 0]\n",
      " [0 0 1 0 0]\n",
      " [0 0 0 0 0]\n",
      " [0 0 0 1 0]\n",
      " [0 0 1 1 0]\n",
      " [0 1 1 1 0]\n",
      " [0 1 1 1 0]]\n"
     ]
    }
   ],
   "source": [
    "reload(feat)\n",
    "\n",
    "feature_frame_x = feat.FeatureFrame(features, X_test_sequence)\n",
    "feature_frame_x.extract()\n",
    "\n",
    "feature_frame_y = feat.FeatureFrame(features, y_test_sequence)\n",
    "feature_frame_y.extract()\n",
    "\n",
    "print'Features for test sequence:'\n",
    "print feature_frame_x.names\n",
    "print feature_frame_x.values[:15,:]\n",
    "\n",
    "print 'Features for test sequence labels:'\n",
    "print feature_frame_y.names\n",
    "print feature_frame_y.values[:15,:]\n",
    "\n",
    "import pickle\n",
    "pickle.dump(feature_frame_y.values, open(\"features.pkl\", \"w\"))\n"
   ]
  },
  {
   "cell_type": "markdown",
   "metadata": {},
   "source": [
    "# Extracts the Hidden States"
   ]
  },
  {
   "cell_type": "code",
   "execution_count": 17,
   "metadata": {
    "collapsed": false
   },
   "outputs": [
    {
     "name": "stdout",
     "output_type": "stream",
     "text": [
      "BEWARE _ ONLY SUPPORTS CONSECUTIVE LAYER IDS STARTING AT 0\n",
      "Creates spy models\n",
      "... for id 0 : <controllers.mylstm_legacy.MYLSTM object at 0x125264350>\n",
      "Gets the activations for the hidden states\n",
      "Gets structure\n",
      "Gets offets\n",
      "WARNING +++ NOT SUITABLE FOR NON_FORWARD LAYERS\n",
      "Gets structure\n",
      "states shape: (60832, 32)\n",
      "\n",
      "config: [('<controllers.mylstm_legacy.MYLSTM object at 0x125264350>', 1, 32)]\n",
      "offets: {(0, 0): 0}\n"
     ]
    }
   ],
   "source": [
    "import extractor\n",
    "reload(extractor)\n",
    "\n",
    "## for code comprehension only\n",
    "# from IPython.core.debugger import Tracer\n",
    "# Tracer()()\n",
    "\n",
    "ex=extractor.Extractor(model, [0])\n",
    "states = ex.get_states(X_test, batch_size=BATCH_SIZE, unshuffle=True)\n",
    "\n",
    "# for graphing activations\n",
    "import pickle\n",
    "pickle.dump(states, open(\"states.pkl\", \"w\"))\n",
    "\n",
    "nn_config = ex.get_structure()\n",
    "nn_offsets = ex.get_offets()\n",
    "\n",
    "print 'states shape:', states.shape\n",
    "print ''\n",
    "print 'config:', nn_config\n",
    "print 'offets:', nn_offsets"
   ]
  },
  {
   "cell_type": "markdown",
   "metadata": {},
   "source": [
    "## Plots the activations"
   ]
  },
  {
   "cell_type": "code",
   "execution_count": 18,
   "metadata": {
    "collapsed": false
   },
   "outputs": [
    {
     "data": {
      "text/plain": [
       "['prod_S3', 'prod_S2', 'prod_S1', 'prod_S0', 'prod_S4']"
      ]
     },
     "execution_count": 18,
     "metadata": {},
     "output_type": "execute_result"
    }
   ],
   "source": [
    "feat_names, feat_mat = feature_frame_x.data\n",
    "feat_names"
   ]
  },
  {
   "cell_type": "code",
   "execution_count": 19,
   "metadata": {
    "collapsed": false,
    "scrolled": true
   },
   "outputs": [
    {
     "name": "stderr",
     "output_type": "stream",
     "text": [
      "/Users/ian.huang/anaconda3/envs/py27/lib/python2.7/site-packages/rpy2/robjects/functions.py:106: UserWarning: \n",
      "Attaching package: ‘dplyr’\n",
      "\n",
      "\n",
      "  res = super(Function, self).__call__(*new_args, **new_kwargs)\n",
      "/Users/ian.huang/anaconda3/envs/py27/lib/python2.7/site-packages/rpy2/robjects/functions.py:106: UserWarning: The following objects are masked from ‘package:stats’:\n",
      "\n",
      "    filter, lag\n",
      "\n",
      "\n",
      "  res = super(Function, self).__call__(*new_args, **new_kwargs)\n",
      "/Users/ian.huang/anaconda3/envs/py27/lib/python2.7/site-packages/rpy2/robjects/functions.py:106: UserWarning: The following objects are masked from ‘package:base’:\n",
      "\n",
      "    intersect, setdiff, setequal, union\n",
      "\n",
      "\n",
      "  res = super(Function, self).__call__(*new_args, **new_kwargs)\n"
     ]
    },
    {
     "data": {
      "text/plain": [
       " [1] \"(\" \"(\" \"(\" \"3\" \"(\" \"4\" \"4\" \"4\" \")\" \")\" \")\" \")\" \"(\" \"(\" \"2\" \"(\" \"(\" \"4\" \")\"\n",
       "[20] \")\" \")\" \")\" \"(\" \"1\" \"(\" \"2\" \"(\" \"(\" \"4\" \")\" \")\" \")\" \")\" \"0\" \"(\" \"(\" \"(\" \"(\"\n",
       "[39] \"4\" \"4\" \")\" \")\" \")\" \")\" \"0\" \"(\" \"1\" \"(\" \"2\" \"(\"\n"
      ]
     },
     "metadata": {},
     "output_type": "display_data"
    },
    {
     "data": {
      "image/png": "[encoded data removed]"
     },
     "metadata": {},
     "output_type": "display_data"
    }
   ],
   "source": [
    "%%R -i feat_names,feat_mat,states,X_test_sequence,FOLDER_OUT\n",
    "\n",
    "library(ggplot2)\n",
    "library(scales)\n",
    "library(dplyr)\n",
    "library(tidyr)\n",
    "\n",
    "states_col_names <- paste0('_', 0:(ncol(states)-1))\n",
    "colnames(states) <- states_col_names\n",
    "colnames(feat_mat) <- feat_names\n",
    "\n",
    "to_plot <- cbind(states, feat_mat)\n",
    "to_plot <- as.data.frame(to_plot)\n",
    "to_plot[['time']] <- 1:nrow(to_plot)\n",
    "to_plot <-  gather(to_plot, key='Series', value='Value', -time)\n",
    "to_plot[['is_a_feature']] <- ! to_plot$Series %in% states_col_names\n",
    "\n",
    "to_plot <- filter(to_plot, Series %in%states_col_names | is_a_feature)\n",
    "MAX_TIME <- 50 \n",
    "to_plot <- filter(to_plot, time <= MAX_TIME)\n",
    "\n",
    "labels <- X_test_sequence[1:MAX_TIME]\n",
    "print(labels)\n",
    "\n",
    "p <- ggplot(to_plot, aes(x=time, y=Value, fill=is_a_feature, color=is_a_feature, shape = is_a_feature)) +\n",
    "            scale_x_continuous(breaks = sort(unique(to_plot$time)), labels = labels) +\n",
    "            #scale_y_continuous(limits = c(-1,1), breaks=c(-1,1)) +\n",
    "            geom_line() +\n",
    "            geom_point() +\n",
    "            facet_grid(Series~., scales=\"free\")\n",
    "\n",
    "ggsave(paste0(FOLDER_OUT, '/activations.pdf'), p, width=40, height=49)\n",
    "p"
   ]
  },
  {
   "cell_type": "markdown",
   "metadata": {},
   "source": [
    "# Inspects - correlation"
   ]
  },
  {
   "cell_type": "code",
   "execution_count": 20,
   "metadata": {
    "collapsed": false
   },
   "outputs": [
    {
     "name": "stdout",
     "output_type": "stream",
     "text": [
      "Computing attribution scores\n",
      "Feture matrix dimensions: (60832, 5)\n",
      "States dimensions: (60832, 32)\n",
      "Computing score for feature 0: prod_S3\n",
      "Layer 0\n",
      "Timestep 0\n",
      "Scoring neurons 0 to 31\n",
      "Computing score for feature 1: prod_S2\n",
      "Layer 0\n",
      "Timestep 0\n",
      "Scoring neurons 0 to 31\n",
      "Computing score for feature 2: prod_S1\n",
      "Layer 0\n",
      "Timestep 0\n",
      "Scoring neurons 0 to 31\n",
      "Computing score for feature 3: prod_S0\n",
      "Layer 0\n",
      "Timestep 0\n",
      "Scoring neurons 0 to 31\n",
      "Computing score for feature 4: prod_S4\n",
      "Layer 0\n",
      "Timestep 0\n",
      "Scoring neurons 0 to 31\n"
     ]
    }
   ],
   "source": [
    "import scores\n",
    "import inspector as ip\n",
    "\n",
    "insp = ip.Inspector(nn_config, nn_offsets)\n",
    "mi_scores, names = insp.inspect(states, feature_frame_x, scores.Correlation())"
   ]
  },
  {
   "cell_type": "code",
   "execution_count": 21,
   "metadata": {
    "collapsed": false
   },
   "outputs": [
    {
     "data": {
      "image/png": "[encoded data removed]"
     },
     "metadata": {},
     "output_type": "display_data"
    }
   ],
   "source": [
    "%%R -i mi_scores\n",
    "values <- c(mi_scores)\n",
    "hist(values, breaks=45)"
   ]
  },
  {
   "cell_type": "code",
   "execution_count": 22,
   "metadata": {
    "collapsed": false
   },
   "outputs": [
    {
     "data": {
      "text/plain": [
       "{'prod_S0': [],\n",
       " 'prod_S1': [(0, 0, 2),\n",
       "  (0, 0, 3),\n",
       "  (0, 0, 17),\n",
       "  (0, 0, 21),\n",
       "  (0, 0, 22),\n",
       "  (0, 0, 23),\n",
       "  (0, 0, 24),\n",
       "  (0, 0, 28)],\n",
       " 'prod_S2': [(0, 0, 2),\n",
       "  (0, 0, 3),\n",
       "  (0, 0, 21),\n",
       "  (0, 0, 22),\n",
       "  (0, 0, 23),\n",
       "  (0, 0, 24),\n",
       "  (0, 0, 28)],\n",
       " 'prod_S3': [(0, 0, 2),\n",
       "  (0, 0, 3),\n",
       "  (0, 0, 17),\n",
       "  (0, 0, 21),\n",
       "  (0, 0, 22),\n",
       "  (0, 0, 23),\n",
       "  (0, 0, 24),\n",
       "  (0, 0, 28)],\n",
       " 'prod_S4': [(0, 0, 2),\n",
       "  (0, 0, 3),\n",
       "  (0, 0, 17),\n",
       "  (0, 0, 21),\n",
       "  (0, 0, 22),\n",
       "  (0, 0, 23),\n",
       "  (0, 0, 24),\n",
       "  (0, 0, 28)]}"
      ]
     },
     "execution_count": 22,
     "metadata": {},
     "output_type": "execute_result"
    }
   ],
   "source": [
    "feature_neurons = insp.filter_attributions(ip.filter_threshold_abs(.05))\n",
    "non_feature_neurons = insp.not_attributed()\n",
    "\n",
    "feature_neurons"
   ]
  },
  {
   "cell_type": "code",
   "execution_count": 23,
   "metadata": {
    "collapsed": true
   },
   "outputs": [],
   "source": [
    "# Writes results\n",
    "fname = FOLDER_OUT + '/attributions'\n",
    "hnames = [repr(n) for n in names]\n",
    "header = ','.join(hnames)\n",
    "np.savetxt(fname, mi_scores, delimiter=',', header=header, comments='')\n",
    "\n",
    "# And preps for plotting\n",
    "is_selected = np.zeros_like(mi_scores)\n",
    "for j, fname in enumerate(names):\n",
    "    for i in insp.attributed_columns[fname]:\n",
    "        is_selected[i,j] = 1"
   ]
  },
  {
   "cell_type": "code",
   "execution_count": 24,
   "metadata": {
    "collapsed": false
   },
   "outputs": [
    {
     "name": "stderr",
     "output_type": "stream",
     "text": [
      "/Users/ian.huang/anaconda3/envs/py27/lib/python2.7/site-packages/rpy2/robjects/functions.py:106: UserWarning: Warning:\n",
      "  res = super(Function, self).__call__(*new_args, **new_kwargs)\n",
      "/Users/ian.huang/anaconda3/envs/py27/lib/python2.7/site-packages/rpy2/robjects/functions.py:106: UserWarning:  Ignoring unknown parameters: aes\n",
      "\n",
      "  res = super(Function, self).__call__(*new_args, **new_kwargs)\n"
     ]
    },
    {
     "data": {
      "image/png": "[encoded data removed]"
     },
     "metadata": {},
     "output_type": "display_data"
    }
   ],
   "source": [
    "%%R -i mi_scores,names,N_STATES,is_selected,FOLDER_OUT\n",
    "\n",
    "library(ggplot2)\n",
    "library(scales) \n",
    "library(dplyr)\n",
    "library(tidyr)\n",
    "\n",
    "# Gets scores\n",
    "data <- as.data.frame(mi_scores)\n",
    "names(data) <- names\n",
    "data[['Neuron']] <- factor(0:(nrow(data)-1),\n",
    "                           levels = 0:(nrow(data)-1),\n",
    "                           labels = as.character(0:(nrow(data)-1)))\n",
    "data <- gather(data, key='Feature', value='Score', -Neuron)\n",
    "\n",
    "# Gets neuron selection\n",
    "sel <- as.data.frame(is_selected)\n",
    "names(sel) <- names\n",
    "sel[['Neuron']] <- factor(0:(nrow(sel)-1),\n",
    "                           levels = 0:(nrow(sel)-1),\n",
    "                           labels = as.character(0:(nrow(sel)-1)))\n",
    "sel <- gather(sel, key='Feature', value='selected', -Neuron)\n",
    "sel$selected <- ifelse(sel$selected == 1, 'X', '')\n",
    "\n",
    "# joins\n",
    "to_plot <- inner_join(data,sel, by = c(\"Neuron\", \"Feature\"))\n",
    "\n",
    "p <- ggplot(to_plot, aes(x=Feature, y=Neuron, fill=Score, label=selected)) + \n",
    "                geom_bin2d(aes='identity') +\n",
    "                geom_text(color='red') +\n",
    "                scale_fill_gradient2(midpoint=median(to_plot$Score),\n",
    "                                    low = muted(\"blue\"), mid = \"white\",high = muted(\"red\"),\n",
    "                                    limits=c(0,NA))\n",
    "\n",
    "ggsave(paste0(FOLDER_OUT, '/attribution_map.pdf'), p, width=40, height=40)\n",
    "\n",
    "p"
   ]
  },
  {
   "cell_type": "markdown",
   "metadata": {},
   "source": [
    "# Does the Unit Test"
   ]
  },
  {
   "cell_type": "code",
   "execution_count": 25,
   "metadata": {
    "collapsed": false
   },
   "outputs": [
    {
     "name": "stdout",
     "output_type": "stream",
     "text": [
      "Computing scores for prod_S0\n",
      "Computing scores for prod_S1\n"
     ]
    },
    {
     "name": "stderr",
     "output_type": "stream",
     "text": [
      "/Users/ian.huang/anaconda3/envs/py27/lib/python2.7/site-packages/sklearn/metrics/classification.py:1113: UndefinedMetricWarning: F-score is ill-defined and being set to 0.0 due to no predicted samples.\n",
      "  'precision', 'predicted', average, warn_for)\n"
     ]
    },
    {
     "name": "stdout",
     "output_type": "stream",
     "text": [
      "Computing scores for prod_S2\n",
      "Computing scores for prod_S3\n",
      "Computing scores for prod_S4\n"
     ]
    },
    {
     "data": {
      "text/plain": [
       "{'prod_S0': 0.73127057069449142,\n",
       " 'prod_S1': 0.29315768255735125,\n",
       " 'prod_S2': 0.1495050172608256,\n",
       " 'prod_S3': 0.0,\n",
       " 'prod_S4': 0.082303103656955132}"
      ]
     },
     "execution_count": 25,
     "metadata": {},
     "output_type": "execute_result"
    }
   ],
   "source": [
    "import scores\n",
    "out_base = insp.test(states, feature_frame_x, non_feature_neurons, scores.LogRegF1())\n",
    "out_base"
   ]
  },
  {
   "cell_type": "code",
   "execution_count": 26,
   "metadata": {
    "collapsed": false
   },
   "outputs": [
    {
     "name": "stdout",
     "output_type": "stream",
     "text": [
      "Computing scores for prod_S0\n",
      "ERROR Cant compute score: Found array with 0 feature(s) (shape=(60832, 0)) while a minimum of 1 is required.\n",
      "Computing scores for prod_S1\n",
      "Computing scores for prod_S2\n",
      "Computing scores for prod_S3\n",
      "Computing scores for prod_S4\n"
     ]
    },
    {
     "data": {
      "text/plain": [
       "{'prod_S0': 0,\n",
       " 'prod_S1': 0.98307812094189906,\n",
       " 'prod_S2': 0.999350027195122,\n",
       " 'prod_S3': 0.9262904239222518,\n",
       " 'prod_S4': 0.99982491975369492}"
      ]
     },
     "execution_count": 26,
     "metadata": {},
     "output_type": "execute_result"
    }
   ],
   "source": [
    "# With the correct neuronss \n",
    "out = insp.test(states, feature_frame_x, feature_neurons, scores.LogRegF1())\n",
    "out"
   ]
  },
  {
   "cell_type": "code",
   "execution_count": 27,
   "metadata": {
    "collapsed": true
   },
   "outputs": [],
   "source": [
    "# Prepares and saves a df\n",
    "testnames = out.keys()\n",
    "baseline = [out_base[t] for t in testnames]\n",
    "candidate = [out[t] for t in testnames]"
   ]
  },
  {
   "cell_type": "code",
   "execution_count": 28,
   "metadata": {
    "collapsed": false
   },
   "outputs": [
    {
     "data": {
      "image/png": "[encoded data removed]"
     },
     "metadata": {},
     "output_type": "display_data"
    }
   ],
   "source": [
    "%%R -i testnames,baseline,candidate,FOLDER_OUT\n",
    "\n",
    "toplot <- data.frame(testnames, baseline, candidate)\n",
    "write.csv(toplot, paste0(FOLDER_OUT,'/test_results'),row.names = FALSE)\n",
    "\n",
    "dat <- gather(toplot, key='Setting', value='Accuracy', -testnames)\n",
    "\n",
    "p <- ggplot(dat, aes(x=testnames, y=Accuracy, fill=Setting, color=Setting)) +\n",
    "        geom_bar(stat='identity', position='dodge') +\n",
    "        theme(axis.text.x = element_text(angle=90))\n",
    "\n",
    "print(p)\n",
    "ggsave(paste0(FOLDER_OUT, '/test_scores.pdf'), p, width=40, height=10)"
   ]
  },
  {
   "cell_type": "markdown",
   "metadata": {},
   "source": [
    "## Verifies with the Kevinizer"
   ]
  },
  {
   "cell_type": "code",
   "execution_count": 29,
   "metadata": {
    "collapsed": false
   },
   "outputs": [
    {
     "name": "stdout",
     "output_type": "stream",
     "text": [
      "*** Testing the neurons for feature prod_S3\n",
      "* Computing original accuracy\n",
      "* Computing baseline accuracies\n",
      "Round 0\n"
     ]
    },
    {
     "name": "stderr",
     "output_type": "stream",
     "text": [
      "/Users/ian.huang/anaconda3/envs/py27/lib/python2.7/site-packages/sklearn/metrics/classification.py:1113: UndefinedMetricWarning: F-score is ill-defined and being set to 0.0 in labels with no predicted samples.\n",
      "  'precision', 'predicted', average, warn_for)\n",
      "/Users/ian.huang/anaconda3/envs/py27/lib/python2.7/site-packages/sklearn/metrics/classification.py:1115: UndefinedMetricWarning: F-score is ill-defined and being set to 0.0 in labels with no true samples.\n",
      "  'recall', 'true', average, warn_for)\n"
     ]
    },
    {
     "name": "stdout",
     "output_type": "stream",
     "text": [
      "Round 1\n",
      "Round 2\n",
      "Round 3\n",
      "Round 4\n",
      "Round 5\n",
      "Round 6\n",
      "Round 7\n",
      "* Computing candidate accuracies\n",
      "Round 0\n",
      "Round 1\n",
      "Round 2\n",
      "Round 3\n",
      "Round 4\n",
      "Round 5\n",
      "Round 6\n",
      "Round 7\n",
      "{'original': {0: [0.59361013061598367], 1: [0.65168134449477044]}, 'candidate': {0: [0.1462508930601166, 0.30422489559004789, 0.1462508930601166, 0.02452384632674029, 0.02452384632674029, 0.30422489559004789, 0.30422489559004789, 0.1462508930601166], 1: [0.10011988810443587, 0.60290637955191007, 0.10011988810443587, 0.00053000604415759725, 0.00053000604415759725, 0.60290637955191007, 0.60290637955191007, 0.10011988810443587]}, 'baseline': {0: [0.077836042087459326, 0.099726046236555038, 0.59361013061598367, 0.24582412145188751, 0.33903349968287994, 0.59361013061598367, 0.20298672089487857, 0.59361013061598367], 1: [0.29633728651695906, 0.059284885852367637, 0.65168134449477044, 0.2023306647294576, 0.40169741754544375, 0.65168134449477044, 0.41736740910513559, 0.65168134449477044]}}\n",
      "*** Testing the neurons for feature prod_S2\n",
      "* Computing original accuracy\n",
      "* Computing baseline accuracies\n",
      "Round 0\n",
      "Round 1\n",
      "Round 2\n",
      "Round 3\n",
      "Round 4\n",
      "Round 5\n",
      "Round 6\n",
      "Round 7\n",
      "* Computing candidate accuracies\n",
      "Round 0\n",
      "Round 1\n",
      "Round 2\n",
      "Round 3\n",
      "Round 4\n",
      "Round 5\n",
      "Round 6\n",
      "Round 7\n",
      "{'original': {0: [0.65553210640729942], 1: [0.61289807056092849]}, 'candidate': {0: [0.042477667176194819, 0.18903314352976233, 0.042477667176194819, 0.37160428009473712, 0.042477667176194819, 0.37160428009473712, 0.37160428009473712, 0.042477667176194819], 1: [0.00030856610750349279, 0.093927147106291589, 0.00030856610750349279, 0.47614138729387195, 0.00030856610750349279, 0.47614138729387195, 0.47614138729387195, 0.00030856610750349279]}, 'baseline': {0: [0.65553210640729942, 0.2708116890797661, 0.16771141963470906, 0.0030167720931362548, 0.16771141963470906, 0.24563211629850881, 0.2708116890797661, 0.1337164471462344], 1: [0.61289807056092849, 0.40810146629007082, 0.44491184946254575, 0.024738996284429708, 0.44491184946254575, 0.37853283819671341, 0.40810146629007082, 0.063248701470959193]}}\n",
      "*** Testing the neurons for feature prod_S1\n",
      "* Computing original accuracy\n",
      "* Computing baseline accuracies\n",
      "Round 0\n",
      "Round 1\n",
      "Round 2\n",
      "Round 3\n",
      "Round 4\n",
      "Round 5\n",
      "Round 6\n",
      "Round 7\n",
      "* Computing candidate accuracies\n",
      "Round 0\n",
      "Round 1\n",
      "Round 2\n",
      "Round 3\n",
      "Round 4\n",
      "Round 5\n",
      "Round 6\n",
      "Round 7\n",
      "{'original': {0: [0.71737408835844685], 1: [0.59593049517125685]}, 'candidate': {0: [0.12791377267276297, 0.12791377267276297, 0.6789371931250564, 0.6789371931250564, 0.6789371931250564, 0.12791377267276297, 0.12791377267276297, 0.6789371931250564], 1: [0.00024530526008780987, 0.00024530526008780987, 0.36063097692501955, 0.36063097692501955, 0.36063097692501955, 0.00024530526008780987, 0.00024530526008780987, 0.36063097692501955]}, 'baseline': {0: [0.08851953615681038, 0.71737408835844685, 0.31454689383967699, 0.11712597192183691, 0.18421440684214407, 0.31454689383967699, 0.31454689383967699, 0.10446805057525535], 1: [0.23197422213554159, 0.59593049517125685, 0.48142732296344831, 0.47893179438399508, 0.3473434739844547, 0.48142732296344831, 0.48142732296344831, 0.33112937578029727]}}\n",
      "*** Testing the neurons for feature prod_S0\n",
      "* Computing original accuracy\n",
      "* Computing baseline accuracies\n",
      "Round 0\n",
      "Round 1\n",
      "Round 2\n",
      "Round 3\n",
      "Round 4\n",
      "Round 5\n",
      "Round 6\n",
      "Round 7\n",
      "* Computing candidate accuracies\n",
      "Round 0\n",
      "Round 1\n",
      "Round 2\n",
      "Round 3\n",
      "Round 4\n",
      "Round 5\n",
      "Round 6\n",
      "Round 7\n",
      "{'original': {0: [0.4602707749766573], 1: [0.57669796441885091]}, 'candidate': {0: [0.4602707749766573, 0.4602707749766573, 0.4602707749766573, 0.4602707749766573, 0.4602707749766573, 0.4602707749766573, 0.4602707749766573, 0.4602707749766573], 1: [0.57669796441885091, 0.57669796441885091, 0.57669796441885091, 0.57669796441885091, 0.57669796441885091, 0.57669796441885091, 0.57669796441885091, 0.57669796441885091]}, 'baseline': {0: [0.4602707749766573, 0.4602707749766573, 0.4602707749766573, 0.4602707749766573, 0.4602707749766573, 0.4602707749766573, 0.4602707749766573, 0.4602707749766573], 1: [0.57669796441885091, 0.57669796441885091, 0.57669796441885091, 0.57669796441885091, 0.57669796441885091, 0.57669796441885091, 0.57669796441885091, 0.57669796441885091]}}\n",
      "*** Testing the neurons for feature prod_S4\n",
      "* Computing original accuracy\n",
      "* Computing baseline accuracies\n",
      "Round 0\n",
      "Round 1\n",
      "Round 2\n",
      "Round 3\n",
      "Round 4\n",
      "Round 5\n",
      "Round 6\n",
      "Round 7\n",
      "* Computing candidate accuracies\n",
      "Round 0\n",
      "Round 1\n",
      "Round 2\n",
      "Round 3\n",
      "Round 4\n",
      "Round 5\n",
      "Round 6\n",
      "Round 7\n",
      "{'original': {0: [0.48314532797069037], 1: [0.24555195124348764]}, 'candidate': {0: [0.01893704471205648, 0.12208395200759094, 0.3095282205152845, 0.3095282205152845, 0.3095282205152845, 0.12208395200759094, 0.3095282205152845, 0.12208395200759094], 1: [0.0, 0.0, 0.24985405720957385, 0.24985405720957385, 0.24985405720957385, 0.0, 0.24985405720957385, 0.0]}, 'baseline': {0: [0.39846136118211051, 0.39846136118211051, 0.48314532797069037, 0.21625088829543371, 0.23789685802990584, 0.23789685802990584, 0.23789685802990584, 0.17321851435972643], 1: [0.13707710011507482, 0.13707710011507482, 0.24555195124348764, 0.32929734412222156, 0.066575444070744394, 0.066575444070744394, 0.066575444070744394, 0.24844392248972402]}}\n"
     ]
    }
   ],
   "source": [
    "from controllers import control\n",
    "reload(control)\n",
    "import verify\n",
    "reload(verify)\n",
    "verifier = verify.Verifier(model, feature_neurons, non_feature_neurons)\n",
    "v_scores = verifier.run(feature_frame_y, X_test, y_test, BATCH_SIZE, sample_size=SAMPLES_VERIFY)"
   ]
  },
  {
   "cell_type": "code",
   "execution_count": 30,
   "metadata": {
    "collapsed": false
   },
   "outputs": [
    {
     "name": "stdout",
     "output_type": "stream",
     "text": [
      "--- prod_S0\n",
      "- original\n",
      "0 : mean: 0.460270774977 - sd: 0.0\n",
      "1 : mean: 0.576697964419 - sd: 0.0\n",
      "- candidate\n",
      "0 : mean: 0.460270774977 - sd: 0.0\n",
      "1 : mean: 0.576697964419 - sd: 0.0\n",
      "- baseline\n",
      "0 : mean: 0.460270774977 - sd: 0.0\n",
      "1 : mean: 0.576697964419 - sd: 0.0\n",
      "--- prod_S1\n",
      "- original\n",
      "0 : mean: 0.717374088358 - sd: 0.0\n",
      "1 : mean: 0.595930495171 - sd: 0.0\n",
      "- candidate\n",
      "0 : mean: 0.403425482899 - sd: 0.275511710226\n",
      "1 : mean: 0.180438141093 - sd: 0.180192835832\n",
      "- baseline\n",
      "0 : mean: 0.269417841922 - sd: 0.192730304575\n",
      "1 : mean: 0.428698916293 - sd: 0.108206819416\n",
      "--- prod_S2\n",
      "- original\n",
      "0 : mean: 0.655532106407 - sd: 0.0\n",
      "1 : mean: 0.612898070561 - sd: 0.0\n",
      "- candidate\n",
      "0 : mean: 0.184219581565 - sd: 0.15236687931\n",
      "1 : mean: 0.190448196677 - sd: 0.223268455832\n",
      "- baseline\n",
      "0 : mean: 0.239367957422 - sd: 0.177659329319\n",
      "1 : mean: 0.348180654752 - sd: 0.187980100368\n",
      "--- prod_S3\n",
      "- original\n",
      "0 : mean: 0.593610130616 - sd: 0.0\n",
      "1 : mean: 0.651681344495 - sd: 0.0\n",
      "- candidate\n",
      "0 : mean: 0.175059382325 - sd: 0.110602255746\n",
      "1 : mean: 0.263767351882 - sd: 0.265512503933\n",
      "- baseline\n",
      "0 : mean: 0.343279602775 - sd: 0.208258382562\n",
      "1 : mean: 0.416507712154 - sd: 0.210374927933\n",
      "--- prod_S4\n",
      "- original\n",
      "0 : mean: 0.483145327971 - sd: 0.0\n",
      "1 : mean: 0.245551951243 - sd: 0.0\n",
      "- candidate\n",
      "0 : mean: 0.202912722849 - sd: 0.111194861675\n",
      "1 : mean: 0.124927028605 - sd: 0.124927028605\n",
      "- baseline\n",
      "0 : mean: 0.297903503385 - sd: 0.104614881592\n",
      "1 : mean: 0.162146718787 - sd: 0.0942082460107\n"
     ]
    }
   ],
   "source": [
    "for feat in v_scores:\n",
    "    print '---', feat\n",
    "    for setup in v_scores[feat]:\n",
    "        print '-', setup\n",
    "        for y in v_scores[feat][setup]:\n",
    "            s = v_scores[feat][setup][y]\n",
    "            print y, ':', 'mean:', np.mean(s), '- sd:', np.std(s) "
   ]
  },
  {
   "cell_type": "code",
   "execution_count": 31,
   "metadata": {
    "collapsed": false
   },
   "outputs": [
    {
     "name": "stdout",
     "output_type": "stream",
     "text": [
      "Testing for feature prod_S0\n",
      "Value 0 : Ttest_indResult(statistic=nan, pvalue=nan)\n",
      "Value 1 : Ttest_indResult(statistic=nan, pvalue=nan)\n",
      "Testing for feature prod_S1\n",
      "Value 0 : Ttest_indResult(statistic=1.0544842215891252, pvalue=0.31157495668065849)\n",
      "Value 1 : Ttest_indResult(statistic=-3.1250232095064217, pvalue=0.0092225710783976345)\n",
      "Testing for feature prod_S2\n",
      "Value 0 : Ttest_indResult(statistic=-0.6234141653912858, pvalue=0.54326565591645393)\n",
      "Value 1 : Ttest_indResult(statistic=-1.4298408743381239, pvalue=0.17532392156254081)\n",
      "Testing for feature prod_S3\n",
      "Value 0 : Ttest_indResult(statistic=-1.8874375373488437, pvalue=0.086614183208187936)\n",
      "Value 1 : Ttest_indResult(statistic=-1.1929382614260799, pvalue=0.25373450728296182)\n",
      "Testing for feature prod_S4\n",
      "Value 0 : Ttest_indResult(statistic=-1.6461623123570168, pvalue=0.12206752572861378)\n",
      "Value 1 : Ttest_indResult(statistic=-0.62935939023163534, pvalue=0.54000372109652728)\n"
     ]
    },
    {
     "data": {
      "text/plain": [
       "{('prod_S0', 0): Ttest_indResult(statistic=nan, pvalue=nan),\n",
       " ('prod_S0', 1): Ttest_indResult(statistic=nan, pvalue=nan),\n",
       " ('prod_S1',\n",
       "  0): Ttest_indResult(statistic=1.0544842215891252, pvalue=0.31157495668065849),\n",
       " ('prod_S1',\n",
       "  1): Ttest_indResult(statistic=-3.1250232095064217, pvalue=0.0092225710783976345),\n",
       " ('prod_S2',\n",
       "  0): Ttest_indResult(statistic=-0.6234141653912858, pvalue=0.54326565591645393),\n",
       " ('prod_S2',\n",
       "  1): Ttest_indResult(statistic=-1.4298408743381239, pvalue=0.17532392156254081),\n",
       " ('prod_S3',\n",
       "  0): Ttest_indResult(statistic=-1.8874375373488437, pvalue=0.086614183208187936),\n",
       " ('prod_S3',\n",
       "  1): Ttest_indResult(statistic=-1.1929382614260799, pvalue=0.25373450728296182),\n",
       " ('prod_S4',\n",
       "  0): Ttest_indResult(statistic=-1.6461623123570168, pvalue=0.12206752572861378),\n",
       " ('prod_S4',\n",
       "  1): Ttest_indResult(statistic=-0.62935939023163534, pvalue=0.54000372109652728)}"
      ]
     },
     "execution_count": 31,
     "metadata": {},
     "output_type": "execute_result"
    }
   ],
   "source": [
    "verifier.test_diff()"
   ]
  },
  {
   "cell_type": "code",
   "execution_count": 32,
   "metadata": {
    "collapsed": false
   },
   "outputs": [
    {
     "name": "stdout",
     "output_type": "stream",
     "text": [
      "--- prod_S0\n",
      "- original\n",
      "0 : mean: 0.460270774977 - sd: 0.0\n",
      "1 : mean: 0.576697964419 - sd: 0.0\n",
      "- candidate\n",
      "0 : mean: 0.460270774977 - sd: 0.0\n",
      "1 : mean: 0.576697964419 - sd: 0.0\n",
      "- baseline\n",
      "0 : mean: 0.460270774977 - sd: 0.0\n",
      "1 : mean: 0.576697964419 - sd: 0.0\n",
      "--- prod_S1\n",
      "- original\n",
      "0 : mean: 0.717374088358 - sd: 0.0\n",
      "1 : mean: 0.595930495171 - sd: 0.0\n",
      "- candidate\n",
      "0 : mean: 0.403425482899 - sd: 0.275511710226\n",
      "1 : mean: 0.180438141093 - sd: 0.180192835832\n",
      "- baseline\n",
      "0 : mean: 0.269417841922 - sd: 0.192730304575\n",
      "1 : mean: 0.428698916293 - sd: 0.108206819416\n",
      "--- prod_S2\n",
      "- original\n",
      "0 : mean: 0.655532106407 - sd: 0.0\n",
      "1 : mean: 0.612898070561 - sd: 0.0\n",
      "- candidate\n",
      "0 : mean: 0.184219581565 - sd: 0.15236687931\n",
      "1 : mean: 0.190448196677 - sd: 0.223268455832\n",
      "- baseline\n",
      "0 : mean: 0.239367957422 - sd: 0.177659329319\n",
      "1 : mean: 0.348180654752 - sd: 0.187980100368\n",
      "--- prod_S3\n",
      "- original\n",
      "0 : mean: 0.593610130616 - sd: 0.0\n",
      "1 : mean: 0.651681344495 - sd: 0.0\n",
      "- candidate\n",
      "0 : mean: 0.175059382325 - sd: 0.110602255746\n",
      "1 : mean: 0.263767351882 - sd: 0.265512503933\n",
      "- baseline\n",
      "0 : mean: 0.343279602775 - sd: 0.208258382562\n",
      "1 : mean: 0.416507712154 - sd: 0.210374927933\n",
      "--- prod_S4\n",
      "- original\n",
      "0 : mean: 0.483145327971 - sd: 0.0\n",
      "1 : mean: 0.245551951243 - sd: 0.0\n",
      "- candidate\n",
      "0 : mean: 0.202912722849 - sd: 0.111194861675\n",
      "1 : mean: 0.124927028605 - sd: 0.124927028605\n",
      "- baseline\n",
      "0 : mean: 0.297903503385 - sd: 0.104614881592\n",
      "1 : mean: 0.162146718787 - sd: 0.0942082460107\n",
      "         acc  feat_val  feature      setup\n",
      "0   0.460271         0  prod_S0   original\n",
      "0   0.576698         1  prod_S0   original\n",
      "0   0.460271         0  prod_S0  candidate\n",
      "1   0.460271         0  prod_S0  candidate\n",
      "2   0.460271         0  prod_S0  candidate\n",
      "3   0.460271         0  prod_S0  candidate\n",
      "4   0.460271         0  prod_S0  candidate\n",
      "5   0.460271         0  prod_S0  candidate\n",
      "6   0.460271         0  prod_S0  candidate\n",
      "7   0.460271         0  prod_S0  candidate\n",
      "0   0.576698         1  prod_S0  candidate\n",
      "1   0.576698         1  prod_S0  candidate\n",
      "2   0.576698         1  prod_S0  candidate\n",
      "3   0.576698         1  prod_S0  candidate\n",
      "4   0.576698         1  prod_S0  candidate\n",
      "5   0.576698         1  prod_S0  candidate\n",
      "6   0.576698         1  prod_S0  candidate\n",
      "7   0.576698         1  prod_S0  candidate\n",
      "0   0.460271         0  prod_S0   baseline\n",
      "1   0.460271         0  prod_S0   baseline\n",
      "2   0.460271         0  prod_S0   baseline\n",
      "3   0.460271         0  prod_S0   baseline\n",
      "4   0.460271         0  prod_S0   baseline\n",
      "5   0.460271         0  prod_S0   baseline\n",
      "6   0.460271         0  prod_S0   baseline\n",
      "7   0.460271         0  prod_S0   baseline\n",
      "0   0.576698         1  prod_S0   baseline\n",
      "1   0.576698         1  prod_S0   baseline\n",
      "2   0.576698         1  prod_S0   baseline\n",
      "3   0.576698         1  prod_S0   baseline\n",
      "..       ...       ...      ...        ...\n",
      "2   0.309528         0  prod_S4  candidate\n",
      "3   0.309528         0  prod_S4  candidate\n",
      "4   0.309528         0  prod_S4  candidate\n",
      "5   0.122084         0  prod_S4  candidate\n",
      "6   0.309528         0  prod_S4  candidate\n",
      "7   0.122084         0  prod_S4  candidate\n",
      "0   0.000000         1  prod_S4  candidate\n",
      "1   0.000000         1  prod_S4  candidate\n",
      "2   0.249854         1  prod_S4  candidate\n",
      "3   0.249854         1  prod_S4  candidate\n",
      "4   0.249854         1  prod_S4  candidate\n",
      "5   0.000000         1  prod_S4  candidate\n",
      "6   0.249854         1  prod_S4  candidate\n",
      "7   0.000000         1  prod_S4  candidate\n",
      "0   0.398461         0  prod_S4   baseline\n",
      "1   0.398461         0  prod_S4   baseline\n",
      "2   0.483145         0  prod_S4   baseline\n",
      "3   0.216251         0  prod_S4   baseline\n",
      "4   0.237897         0  prod_S4   baseline\n",
      "5   0.237897         0  prod_S4   baseline\n",
      "6   0.237897         0  prod_S4   baseline\n",
      "7   0.173219         0  prod_S4   baseline\n",
      "0   0.137077         1  prod_S4   baseline\n",
      "1   0.137077         1  prod_S4   baseline\n",
      "2   0.245552         1  prod_S4   baseline\n",
      "3   0.329297         1  prod_S4   baseline\n",
      "4   0.066575         1  prod_S4   baseline\n",
      "5   0.066575         1  prod_S4   baseline\n",
      "6   0.066575         1  prod_S4   baseline\n",
      "7   0.248444         1  prod_S4   baseline\n",
      "\n",
      "[170 rows x 4 columns]\n"
     ]
    }
   ],
   "source": [
    "import pandas as pd\n",
    "\n",
    "out = None\n",
    "\n",
    "for feat in v_scores:\n",
    "    print '---', feat\n",
    "    for setup in v_scores[feat]:\n",
    "        print '-', setup\n",
    "        for y in v_scores[feat][setup]:\n",
    "            s = np.array(v_scores[feat][setup][y])\n",
    "            print y, ':', 'mean:', np.mean(s), '- sd:', np.std(s) \n",
    "            s_y = np.repeat(y, len(s))\n",
    "            s_setup = np.repeat(setup, len(s))\n",
    "            s_feat = np.repeat(feat, len(s))\n",
    "            df = pd.DataFrame({\n",
    "                'acc' : s,\n",
    "                'feat_val': s_y,\n",
    "                'feature': s_feat,\n",
    "                'setup' : s_setup\n",
    "            })\n",
    "            if out is None:\n",
    "                out = df\n",
    "            else:\n",
    "                out = pd.concat([out, df], axis = 0)\n",
    "\n",
    "print out\n",
    "out.to_csv(FOLDER_OUT+'/kevinizers.csv',index=False)"
   ]
  },
  {
   "cell_type": "markdown",
   "metadata": {},
   "source": [
    "# Introduces a bug"
   ]
  },
  {
   "cell_type": "markdown",
   "metadata": {},
   "source": [
    "## Creates adversarial dataset"
   ]
  },
  {
   "cell_type": "code",
   "execution_count": 33,
   "metadata": {
    "collapsed": false,
    "scrolled": true
   },
   "outputs": [
    {
     "name": "stdout",
     "output_type": "stream",
     "text": [
      "Generating raw text size: 12500\n",
      "Generated sequence - 151942 characters\n",
      "Generating raw text size: 1250\n",
      "Generated sequence - 15208 characters\n",
      "Training smybols: 151942\n",
      "Testing smybols: 15208\n",
      "Training data:\n",
      "X: (151936, 1, 7)\n",
      "y: (151936, 7)\n",
      "Test data:\n",
      "X: (15200, 1, 7)\n",
      "y: (15200, 7)\n"
     ]
    }
   ],
   "source": [
    "reload(gram)\n",
    "reload(pre)\n",
    "\n",
    "ADV_N_SENTENCES = int(.25 * N_SENTENCES)\n",
    "\n",
    "# Creates new dataset\n",
    "adv_grammar = [('S0', '0 S0 | ( S1 )'),\n",
    "              ('S1', '1 S1 | ( S2 )'),\n",
    "              ('S2', '4 S2 | ( S3 )'),\n",
    "              ('S3', '3 S3 | ( S4 )'),\n",
    "              ('S4', 'S4 S4 | 2')]\n",
    "adv_gram_obj = gram.GrammarUseCase(adv_grammar, 'S0')\n",
    "\n",
    "\n",
    "# Generates data\n",
    "adv_train_sequence = adv_gram_obj.gen_sequence(ADV_N_SENTENCES)\n",
    "adv_test_sequence = adv_gram_obj.gen_sequence(int(ADV_N_SENTENCES * TEST_RATIO))\n",
    "\n",
    "adv_raw_train_sequence = [char2int[x] for x in adv_train_sequence]\n",
    "adv_raw_test_sequence = [char2int[x] for x in adv_test_sequence]\n",
    "\n",
    "print 'Training smybols:', len(adv_raw_train_sequence)\n",
    "print 'Testing smybols:', len(adv_raw_test_sequence)\n",
    "\n",
    "# Preprocesses\n",
    "# SPLITS\n",
    "adv_X_train_raw = adv_raw_train_sequence[:-1]\n",
    "adv_y_train_raw = adv_raw_train_sequence[1:]\n",
    "# ENCODES\n",
    "adv_X_train = keras.utils.to_categorical(adv_X_train_raw)\n",
    "adv_y_train = keras.utils.to_categorical(adv_y_train_raw)\n",
    "# SHUFFLES\n",
    "adv_train_indices = pre.shuffle_indices(len(adv_X_train_raw), BATCH_SIZE)\n",
    "adv_y_train = adv_y_train[adv_train_indices]\n",
    "# EXPANDS\n",
    "adv_X_train = adv_X_train[adv_train_indices,np.newaxis,:]\n",
    "\n",
    "\n",
    "# Preprocesses testing\n",
    "# SPLITS\n",
    "adv_X_test_raw = adv_raw_test_sequence[:-1]\n",
    "adv_y_test_raw = adv_raw_test_sequence[1:]\n",
    "# ENCODES\n",
    "adv_X_test = keras.utils.to_categorical(adv_X_test_raw)\n",
    "adv_y_test = keras.utils.to_categorical(adv_y_test_raw)\n",
    "# SHUFFLES\n",
    "adv_test_indices = pre.shuffle_indices(len(adv_X_test_raw), BATCH_SIZE)\n",
    "adv_X_test = adv_X_test[adv_test_indices, np.newaxis,:]\n",
    "adv_y_test = adv_y_test[adv_test_indices]\n",
    "\n",
    "print \"Training data:\"\n",
    "print \"X:\", adv_X_train.shape\n",
    "print \"y:\", adv_y_train.shape\n",
    "\n",
    "print \"Test data:\"\n",
    "print \"X:\", adv_X_test.shape\n",
    "print \"y:\", adv_y_test.shape\n"
   ]
  },
  {
   "cell_type": "markdown",
   "metadata": {},
   "source": [
    "## Makes the model drift!"
   ]
  },
  {
   "cell_type": "code",
   "execution_count": 34,
   "metadata": {
    "collapsed": false
   },
   "outputs": [
    {
     "name": "stdout",
     "output_type": "stream",
     "text": [
      "Epoch 1/1\n",
      "151936/151936 [==============================] - 38s - loss: 0.9266 - acc: 0.6547    \n",
      "Epoch 1/1\n",
      "151936/151936 [==============================] - 42s - loss: 0.7482 - acc: 0.6989    \n",
      "Epoch 1/1\n",
      "151936/151936 [==============================] - 41s - loss: 0.6175 - acc: 0.7287    \n",
      "Epoch 1/1\n",
      "151936/151936 [==============================] - 36s - loss: 0.5828 - acc: 0.7347    \n",
      "Epoch 1/1\n",
      "151936/151936 [==============================] - 36s - loss: 0.5599 - acc: 0.7351    \n"
     ]
    }
   ],
   "source": [
    "model.save('models/healthy_copy')\n",
    "hacked_model = load_model('models/healthy_copy',custom_objects={'MYLSTM':MYLSTM})\n",
    "\n",
    "for i in range(N_EPOCHS):\n",
    "    hacked_model.reset_states()\n",
    "    history = hacked_model.fit(adv_X_train, adv_y_train,\n",
    "                        batch_size=BATCH_SIZE,\n",
    "                        epochs=1,\n",
    "                        verbose=1,\n",
    "                        shuffle=False)"
   ]
  },
  {
   "cell_type": "code",
   "execution_count": 35,
   "metadata": {
    "collapsed": false
   },
   "outputs": [
    {
     "name": "stdout",
     "output_type": "stream",
     "text": [
      "60416/60832 [============================>.] - ETA: 0s\n",
      "BEFORE DRIFT - Test accuracy: 0.74079431878\n",
      "60576/60832 [============================>.] - ETA: 0s\n",
      "AFTER DRIFT - Test accuracy: 0.441149395055\n"
     ]
    }
   ],
   "source": [
    "# old model\n",
    "model.reset_states()\n",
    "score = model.evaluate(X_test, y_test, batch_size=BATCH_SIZE, verbose=1)\n",
    "print '\\nBEFORE DRIFT - Test accuracy:', score[1]\n",
    "\n",
    "hacked_model.reset_states()\n",
    "score = hacked_model.evaluate(X_test, y_test, batch_size=BATCH_SIZE, verbose=1)\n",
    "print '\\nAFTER DRIFT - Test accuracy:', score[1]"
   ]
  },
  {
   "cell_type": "code",
   "execution_count": 36,
   "metadata": {
    "collapsed": false
   },
   "outputs": [
    {
     "ename": "NameError",
     "evalue": "name 'hacked_model' is not defined",
     "output_type": "error",
     "traceback": [
      "\u001b[0;31m---------------------------------------------------------------------------\u001b[0m",
      "\u001b[0;31mNameError\u001b[0m                                 Traceback (most recent call last)",
      "\u001b[0;32m<ipython-input-36-556de6a2b3fa>\u001b[0m in \u001b[0;36m<module>\u001b[0;34m()\u001b[0m\n\u001b[0;32m----> 1\u001b[0;31m \u001b[0;32mprint\u001b[0m \u001b[0mgen\u001b[0m\u001b[0;34m.\u001b[0m\u001b[0mcomplete_sentence_stateful\u001b[0m\u001b[0;34m(\u001b[0m\u001b[0;34m'(1(2(3('\u001b[0m\u001b[0;34m,\u001b[0m \u001b[0mhacked_model\u001b[0m\u001b[0;34m,\u001b[0m \u001b[0;36m64\u001b[0m\u001b[0;34m,\u001b[0m \u001b[0mchar2int\u001b[0m\u001b[0;34m,\u001b[0m \u001b[0mint2char\u001b[0m\u001b[0;34m,\u001b[0m\u001b[0mBATCH_SIZE\u001b[0m\u001b[0;34m)\u001b[0m\u001b[0;34m\u001b[0m\u001b[0m\n\u001b[0m\u001b[1;32m      2\u001b[0m \u001b[0;32mprint\u001b[0m \u001b[0mgen\u001b[0m\u001b[0;34m.\u001b[0m\u001b[0mcomplete_sentence_stateful\u001b[0m\u001b[0;34m(\u001b[0m\u001b[0;34m'((((4))'\u001b[0m\u001b[0;34m,\u001b[0m \u001b[0mhacked_model\u001b[0m\u001b[0;34m,\u001b[0m \u001b[0;36m64\u001b[0m\u001b[0;34m,\u001b[0m \u001b[0mchar2int\u001b[0m\u001b[0;34m,\u001b[0m \u001b[0mint2char\u001b[0m\u001b[0;34m,\u001b[0m \u001b[0mBATCH_SIZE\u001b[0m\u001b[0;34m)\u001b[0m\u001b[0;34m\u001b[0m\u001b[0m\n",
      "\u001b[0;31mNameError\u001b[0m: name 'hacked_model' is not defined"
     ]
    }
   ],
   "source": [
    "print gen.complete_sentence_stateful('(1(2(3(', hacked_model, 64, char2int, int2char,BATCH_SIZE)\n",
    "print gen.complete_sentence_stateful('((((4))', hacked_model, 64, char2int, int2char, BATCH_SIZE)"
   ]
  },
  {
   "cell_type": "markdown",
   "metadata": {},
   "source": [
    "# Does the Unit Test Again"
   ]
  },
  {
   "cell_type": "code",
   "execution_count": 37,
   "metadata": {
    "collapsed": false
   },
   "outputs": [
    {
     "ename": "NameError",
     "evalue": "name 'hacked_model' is not defined",
     "output_type": "error",
     "traceback": [
      "\u001b[0;31m---------------------------------------------------------------------------\u001b[0m",
      "\u001b[0;31mNameError\u001b[0m                                 Traceback (most recent call last)",
      "\u001b[0;32m<ipython-input-37-6667419de435>\u001b[0m in \u001b[0;36m<module>\u001b[0;34m()\u001b[0m\n\u001b[0;32m----> 1\u001b[0;31m \u001b[0mhacked_ex\u001b[0m\u001b[0;34m=\u001b[0m\u001b[0mextractor\u001b[0m\u001b[0;34m.\u001b[0m\u001b[0mExtractor\u001b[0m\u001b[0;34m(\u001b[0m\u001b[0mhacked_model\u001b[0m\u001b[0;34m,\u001b[0m \u001b[0;34m[\u001b[0m\u001b[0;36m0\u001b[0m\u001b[0;34m]\u001b[0m\u001b[0;34m)\u001b[0m\u001b[0;34m\u001b[0m\u001b[0m\n\u001b[0m\u001b[1;32m      2\u001b[0m \u001b[0mhacked_states\u001b[0m \u001b[0;34m=\u001b[0m \u001b[0mex\u001b[0m\u001b[0;34m.\u001b[0m\u001b[0mget_states\u001b[0m\u001b[0;34m(\u001b[0m\u001b[0mX_test\u001b[0m\u001b[0;34m,\u001b[0m \u001b[0mbatch_size\u001b[0m\u001b[0;34m=\u001b[0m\u001b[0mBATCH_SIZE\u001b[0m\u001b[0;34m,\u001b[0m \u001b[0munshuffle\u001b[0m\u001b[0;34m=\u001b[0m\u001b[0mTrue\u001b[0m\u001b[0;34m)\u001b[0m\u001b[0;34m\u001b[0m\u001b[0m\n",
      "\u001b[0;31mNameError\u001b[0m: name 'hacked_model' is not defined"
     ]
    }
   ],
   "source": [
    "hacked_ex=extractor.Extractor(hacked_model, [0])\n",
    "hacked_states = ex.get_states(X_test, batch_size=BATCH_SIZE, unshuffle=True)"
   ]
  },
  {
   "cell_type": "code",
   "execution_count": 38,
   "metadata": {
    "collapsed": false
   },
   "outputs": [
    {
     "ename": "NameError",
     "evalue": "name 'hacked_states' is not defined",
     "output_type": "error",
     "traceback": [
      "\u001b[0;31m---------------------------------------------------------------------------\u001b[0m",
      "\u001b[0;31mNameError\u001b[0m                                 Traceback (most recent call last)",
      "\u001b[0;32m<ipython-input-38-c50ead7bf3e9>\u001b[0m in \u001b[0;36m<module>\u001b[0;34m()\u001b[0m\n\u001b[0;32m----> 1\u001b[0;31m \u001b[0mout_base\u001b[0m \u001b[0;34m=\u001b[0m \u001b[0minsp\u001b[0m\u001b[0;34m.\u001b[0m\u001b[0mtest\u001b[0m\u001b[0;34m(\u001b[0m\u001b[0mhacked_states\u001b[0m\u001b[0;34m,\u001b[0m \u001b[0mfeature_frame_x\u001b[0m\u001b[0;34m,\u001b[0m \u001b[0mfeature_neurons\u001b[0m\u001b[0;34m,\u001b[0m \u001b[0mscores\u001b[0m\u001b[0;34m.\u001b[0m\u001b[0mLogRegF1\u001b[0m\u001b[0;34m(\u001b[0m\u001b[0;34m)\u001b[0m\u001b[0;34m)\u001b[0m\u001b[0;34m\u001b[0m\u001b[0m\n\u001b[0m\u001b[1;32m      2\u001b[0m \u001b[0;32mprint\u001b[0m \u001b[0;34m'AFTER HACKING'\u001b[0m\u001b[0;34m\u001b[0m\u001b[0m\n\u001b[1;32m      3\u001b[0m \u001b[0mout_base\u001b[0m\u001b[0;34m\u001b[0m\u001b[0m\n",
      "\u001b[0;31mNameError\u001b[0m: name 'hacked_states' is not defined"
     ]
    }
   ],
   "source": [
    "out_base = insp.test(hacked_states, feature_frame_x, feature_neurons, scores.LogRegF1())\n",
    "print 'AFTER HACKING'\n",
    "out_base"
   ]
  },
  {
   "cell_type": "code",
   "execution_count": 39,
   "metadata": {
    "collapsed": false
   },
   "outputs": [
    {
     "ename": "TypeError",
     "evalue": "'int' object is not callable",
     "output_type": "error",
     "traceback": [
      "\u001b[0;31m---------------------------------------------------------------------------\u001b[0m",
      "\u001b[0;31mTypeError\u001b[0m                                 Traceback (most recent call last)",
      "\u001b[0;32m<ipython-input-39-98470c103f69>\u001b[0m in \u001b[0;36m<module>\u001b[0;34m()\u001b[0m\n\u001b[0;32m----> 1\u001b[0;31m \u001b[0;34m(\u001b[0m\u001b[0;34m(\u001b[0m\u001b[0;34m(\u001b[0m\u001b[0;36m3\u001b[0m\u001b[0;34m)\u001b[0m\u001b[0;34m)\u001b[0m\u001b[0;34m)\u001b[0m\u001b[0;34m(\u001b[0m\u001b[0;34m(\u001b[0m\u001b[0;36m2\u001b[0m\u001b[0;34m)\u001b[0m\u001b[0;34m)\u001b[0m\u001b[0;34m(\u001b[0m\u001b[0;36m1\u001b[0m\u001b[0;34m(\u001b[0m\u001b[0;36m2\u001b[0m\u001b[0;34m(\u001b[0m\u001b[0;36m3\u001b[0m\u001b[0;34m(\u001b[0m\u001b[0;34m)\u001b[0m\u001b[0;34m)\u001b[0m\u001b[0;34m)\u001b[0m\u001b[0;34m)\u001b[0m\u001b[0;34m\u001b[0m\u001b[0m\n\u001b[0m\u001b[1;32m      2\u001b[0m \u001b[0;36m01111100111001111111110\u001b[0m\u001b[0;34m\u001b[0m\u001b[0m\n",
      "\u001b[0;31mTypeError\u001b[0m: 'int' object is not callable"
     ]
    }
   ],
   "source": [
    "(((3)))((2))(1(2(3())))\n",
    "01111100111001111111110"
   ]
  },
  {
   "cell_type": "code",
   "execution_count": null,
   "metadata": {
    "collapsed": true
   },
   "outputs": [],
   "source": []
  }
 ],
 "metadata": {
  "kernelspec": {
   "display_name": "Python 3",
   "language": "python",
   "name": "python3"
  },
  "language_info": {
   "codemirror_mode": {
    "name": "ipython",
    "version": 3
   },
   "file_extension": ".py",
   "mimetype": "text/x-python",
   "name": "python",
   "nbconvert_exporter": "python",
   "pygments_lexer": "ipython3",
   "version": "3.6.0"
  }
 },
 "nbformat": 4,
 "nbformat_minor": 2
}
