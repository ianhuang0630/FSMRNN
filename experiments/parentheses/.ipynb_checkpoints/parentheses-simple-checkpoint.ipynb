{
 "cells": [
  {
   "cell_type": "markdown",
   "metadata": {},
   "source": [
    "# Libraries, Headers and Stuff"
   ]
  },
  {
   "cell_type": "code",
   "execution_count": 1,
   "metadata": {
    "collapsed": true
   },
   "outputs": [],
   "source": [
    "import sys\n",
    "sys.path.append('../../src')"
   ]
  },
  {
   "cell_type": "code",
   "execution_count": 2,
   "metadata": {
    "collapsed": true
   },
   "outputs": [],
   "source": [
    "N_SENTENCES = 50000\n",
    "TEST_RATIO = .1\n",
    "WINDOW_SIZE = 16\n",
    "N_EPOCHS = 2\n",
    "CACHED = True\n",
    "N_STATES = 4"
   ]
  },
  {
   "cell_type": "code",
   "execution_count": 3,
   "metadata": {
    "collapsed": false
   },
   "outputs": [
    {
     "ename": "ImportError",
     "evalue": "No module named keras",
     "output_type": "error",
     "traceback": [
      "\u001b[0;31m----------------------------------------------------------\u001b[0m",
      "\u001b[0;31mImportError\u001b[0m              Traceback (most recent call last)",
      "\u001b[0;32m<ipython-input-3-11d83e33fe16>\u001b[0m in \u001b[0;36m<module>\u001b[0;34m()\u001b[0m\n\u001b[1;32m      1\u001b[0m \u001b[0;32mimport\u001b[0m \u001b[0mnumpy\u001b[0m \u001b[0;32mas\u001b[0m \u001b[0mnp\u001b[0m\u001b[0;34m\u001b[0m\u001b[0m\n\u001b[0;32m----> 2\u001b[0;31m \u001b[0;32mimport\u001b[0m \u001b[0mkeras\u001b[0m\u001b[0;34m\u001b[0m\u001b[0m\n\u001b[0m",
      "\u001b[0;31mImportError\u001b[0m: No module named keras"
     ]
    }
   ],
   "source": [
    "import numpy as np\n",
    "import keras"
   ]
  },
  {
   "cell_type": "code",
   "execution_count": null,
   "metadata": {
    "collapsed": true
   },
   "outputs": [],
   "source": [
    "%load_ext rpy2.ipython"
   ]
  },
  {
   "cell_type": "code",
   "execution_count": 5,
   "metadata": {
    "collapsed": true
   },
   "outputs": [],
   "source": [
    "import random\n",
    "random.seed(55555)"
   ]
  },
  {
   "cell_type": "markdown",
   "metadata": {},
   "source": [
    "# Creates Dataset"
   ]
  },
  {
   "cell_type": "code",
   "execution_count": 6,
   "metadata": {
    "collapsed": true
   },
   "outputs": [],
   "source": [
    "import utils.grammar as gram\n",
    "reload(gram)\n",
    "grammar = [('S0', '0 S0 | ( S1 )'),\n",
    "           ('S1', '1 S1 | ( S2 )'),\n",
    "           ('S2', '2 S2 | ( S3 )'),\n",
    "           ('S3', '3 S3 | ( S4 )'),\n",
    "           ('S4', 'S4 S4 | 4')]\n",
    "gram_obj = gram.GrammarUseCase(grammar, 'S0')"
   ]
  },
  {
   "cell_type": "code",
   "execution_count": 7,
   "metadata": {
    "collapsed": false
   },
   "outputs": [
    {
     "name": "stdout",
     "output_type": "stream",
     "text": [
      "Generating raw text size: 50000\n",
      "Generated sequence - 607083 characters\n",
      "Generating raw text size: 5000\n",
      "Generated sequence - 60861 characters\n",
      "Encoding\n",
      "Total vocabulary size:  7\n",
      "Training smybols: 607083\n",
      "Testing smybols: 60861\n",
      "Size vocabulay: 7\n"
     ]
    }
   ],
   "source": [
    "import utils.preprocess as pre\n",
    "reload(pre)\n",
    "# Generates data\n",
    "train_sequence = gram_obj.gen_sequence(N_SENTENCES)\n",
    "test_sequence = gram_obj.gen_sequence(int(N_SENTENCES * TEST_RATIO))\n",
    "\n",
    "raw_train_sequence, raw_test_sequence, char2int, int2char = pre.encode_split(train_sequence, test_sequence)\n",
    "\n",
    "print 'Training smybols:', len(raw_train_sequence)\n",
    "print 'Testing smybols:', len(raw_test_sequence)\n",
    "print 'Size vocabulay:', len(char2int)"
   ]
  },
  {
   "cell_type": "code",
   "execution_count": 8,
   "metadata": {
    "collapsed": false
   },
   "outputs": [
    {
     "name": "stdout",
     "output_type": "stream",
     "text": [
      "Training data:\n",
      "X: (607067, 16, 7)\n",
      "y: (607067, 7)\n",
      "Test data:\n",
      "X: (60845, 16, 7)\n",
      "y: (60845, 7)\n",
      "Raw test data:\n",
      "X: 60860\n",
      "Test sequences: ['(', '(', '(', '3', '('] ['(', '(', '3', '(', '4']\n",
      "length: 60860 60860\n"
     ]
    }
   ],
   "source": [
    "# Vectorizes, encodes and removes last line (we have no label for that one)\n",
    "train_seq = raw_train_sequence[:-1]\n",
    "train_seq_enc = [int2char[x] for x in train_seq]\n",
    "\n",
    "test_seq = raw_test_sequence[:-1]\n",
    "test_seq_enc = [int2char[x] for x in test_seq]\n",
    "\n",
    "X_train = pre.vectorize(train_seq, WINDOW_SIZE)\n",
    "X_train = pre.one_hot_encode_matrix(X_train)\n",
    "\n",
    "X_test = pre.vectorize(test_seq, WINDOW_SIZE)\n",
    "X_test = pre.one_hot_encode_matrix(X_test)\n",
    "\n",
    "# Creates labels\n",
    "y_train = raw_train_sequence[WINDOW_SIZE:]\n",
    "y_train = keras.utils.to_categorical(y_train)\n",
    "\n",
    "y_test = raw_test_sequence[WINDOW_SIZE:]\n",
    "y_test = keras.utils.to_categorical(y_test)\n",
    "\n",
    "print \"Training data:\"\n",
    "print \"X:\", X_train.shape\n",
    "print \"y:\", y_train.shape\n",
    "\n",
    "print \"Test data:\"\n",
    "print \"X:\", X_test.shape\n",
    "print \"y:\", y_test.shape\n",
    "\n",
    "print \"Raw test data:\"\n",
    "print \"X:\", len(test_seq_enc)\n",
    "\n",
    "# Recovers the original training data\n",
    "X_test_sequence = test_sequence[:-1]\n",
    "y_test_sequence = test_sequence[1:]\n",
    "print 'Test sequences:', X_test_sequence[:5], y_test_sequence[:5]\n",
    "print 'length:', len(X_test_sequence), len(y_test_sequence)"
   ]
  },
  {
   "cell_type": "markdown",
   "metadata": {},
   "source": [
    "# Creates the model"
   ]
  },
  {
   "cell_type": "code",
   "execution_count": 9,
   "metadata": {
    "collapsed": true
   },
   "outputs": [],
   "source": [
    "from keras.models import Sequential\n",
    "from keras.layers import Dense\n",
    "from keras.layers import Dropout\n",
    "from keras.layers import LSTM\n",
    "from keras.layers import Lambda\n",
    "\n",
    "in_dim = X_train.shape[1:]\n",
    "out_dim = y_train.shape[1]\n",
    "\n",
    "model = Sequential()\n",
    "model.add(LSTM(N_STATES, return_sequences=True, input_shape=in_dim))\n",
    "model.add(Lambda(lambda x: x[:,-1, :]))\n",
    "model.add(Dense(out_dim, activation='softmax'))\n",
    "model.compile(loss='categorical_crossentropy',\n",
    "              optimizer='adam',\n",
    "              metrics=['acc'])"
   ]
  },
  {
   "cell_type": "code",
   "execution_count": 11,
   "metadata": {
    "collapsed": true
   },
   "outputs": [],
   "source": [
    "from keras.models import load_model\n",
    "\n",
    "if not CACHED:\n",
    "    for i in range(N_EPOCHS):\n",
    "        history = model.fit(X_train, y_train,\n",
    "                            batch_size=32,\n",
    "                            epochs=1,\n",
    "                            verbose=1,\n",
    "                            validation_split=0.1)\n",
    "        model.save('models/parentheses_nonstateful')\n",
    "else:\n",
    "    model = load_model('models/parentheses_nonstateful')"
   ]
  },
  {
   "cell_type": "code",
   "execution_count": 12,
   "metadata": {
    "collapsed": false
   },
   "outputs": [
    {
     "name": "stdout",
     "output_type": "stream",
     "text": [
      "60736/60845 [============================>.] - ETA: 0s('Test score:', 0.4158027843908253)\n",
      "('Test accuracy:', 0.74139206180910278)\n"
     ]
    }
   ],
   "source": [
    "score = model.evaluate(X_test, y_test, batch_size=64, verbose=1)\n",
    "print('Test score:', score[0])\n",
    "print('Test accuracy:', score[1])"
   ]
  },
  {
   "cell_type": "markdown",
   "metadata": {},
   "source": [
    "# Extracts all kind of features"
   ]
  },
  {
   "cell_type": "code",
   "execution_count": 13,
   "metadata": {
    "collapsed": true
   },
   "outputs": [],
   "source": [
    "import features as feat\n",
    "\n",
    "bin_feature = gram_obj.gen_bin_feat()\n",
    "alphabet = feat.alphabet()\n",
    "\n",
    "features = [bin_feature]"
   ]
  },
  {
   "cell_type": "code",
   "execution_count": 14,
   "metadata": {
    "collapsed": false
   },
   "outputs": [
    {
     "name": "stdout",
     "output_type": "stream",
     "text": [
      "Generating feature scores\n",
      "Running feature 0 out of 1\n",
      "Parsed 0 symbols out of 60860\n",
      "Parsed 1000 symbols out of 60860\n",
      "Parsed 2000 symbols out of 60860\n",
      "Parsed 3000 symbols out of 60860\n",
      "Parsed 4000 symbols out of 60860\n",
      "Parsed 5000 symbols out of 60860\n",
      "Parsed 6000 symbols out of 60860\n",
      "Parsed 7000 symbols out of 60860\n",
      "Parsed 8000 symbols out of 60860\n",
      "Parsed 9000 symbols out of 60860\n",
      "Parsed 10000 symbols out of 60860\n",
      "Parsed 11000 symbols out of 60860\n",
      "Parsed 12000 symbols out of 60860\n",
      "Parsed 13000 symbols out of 60860\n",
      "Parsed 14000 symbols out of 60860\n",
      "Parsed 15000 symbols out of 60860\n",
      "Parsed 16000 symbols out of 60860\n",
      "Parsed 17000 symbols out of 60860\n",
      "Parsed 18000 symbols out of 60860\n",
      "Parsed 19000 symbols out of 60860\n",
      "Parsed 20000 symbols out of 60860\n",
      "Parsed 21000 symbols out of 60860\n",
      "Parsed 22000 symbols out of 60860\n",
      "Parsed 23000 symbols out of 60860\n",
      "Parsed 24000 symbols out of 60860\n",
      "Parsed 25000 symbols out of 60860\n",
      "Parsed 26000 symbols out of 60860\n",
      "Parsed 27000 symbols out of 60860\n",
      "Parsed 28000 symbols out of 60860\n",
      "Parsed 29000 symbols out of 60860\n",
      "Parsed 30000 symbols out of 60860\n",
      "Parsed 31000 symbols out of 60860\n",
      "Parsed 32000 symbols out of 60860\n",
      "Parsed 33000 symbols out of 60860\n",
      "Parsed 34000 symbols out of 60860\n",
      "Parsed 35000 symbols out of 60860\n",
      "Parsed 36000 symbols out of 60860\n",
      "Parsed 37000 symbols out of 60860\n",
      "Parsed 38000 symbols out of 60860\n",
      "Parsed 39000 symbols out of 60860\n",
      "Parsed 40000 symbols out of 60860\n",
      "Parsed 41000 symbols out of 60860\n",
      "Parsed 42000 symbols out of 60860\n",
      "Parsed 43000 symbols out of 60860\n",
      "Parsed 44000 symbols out of 60860\n",
      "Parsed 45000 symbols out of 60860\n",
      "Parsed 46000 symbols out of 60860\n",
      "Parsed 47000 symbols out of 60860\n",
      "Parsed 48000 symbols out of 60860\n",
      "Parsed 49000 symbols out of 60860\n",
      "Parsed 50000 symbols out of 60860\n",
      "Parsed 51000 symbols out of 60860\n",
      "Parsed 52000 symbols out of 60860\n",
      "Parsed 53000 symbols out of 60860\n",
      "Parsed 54000 symbols out of 60860\n",
      "Parsed 55000 symbols out of 60860\n",
      "Parsed 56000 symbols out of 60860\n",
      "Parsed 57000 symbols out of 60860\n",
      "Parsed 58000 symbols out of 60860\n",
      "Parsed 59000 symbols out of 60860\n",
      "Parsed 60000 symbols out of 60860\n",
      "Done parsing\n",
      "Added features ['prod_S3', 'prod_S2', 'prod_S1', 'prod_S0', 'prod_S4', '...']\n",
      "Tidying...\n",
      "Computed feature matrix, with shape: (60860, 5)\n",
      "Snippet of the features\n",
      "(444))))00(11((33(44))))(1(2(3(444))))(1(2(3(44)))\n",
      "['prod_S3', 'prod_S2', 'prod_S1', 'prod_S0', 'prod_S4']\n",
      "[[1 1 1 1 0]\n",
      " [1 1 1 1 1]\n",
      " [1 1 1 1 1]\n",
      " [1 1 1 1 1]\n",
      " [1 1 1 1 0]\n",
      " [0 1 1 1 0]\n",
      " [0 0 1 1 0]\n",
      " [0 0 0 1 0]\n",
      " [0 0 0 1 0]\n",
      " [0 0 0 1 0]\n",
      " [0 0 0 1 0]\n",
      " [0 0 1 1 0]\n",
      " [0 0 1 1 0]\n",
      " [0 0 1 1 0]\n",
      " [0 1 1 1 0]\n",
      " [1 1 1 1 0]\n",
      " [1 1 1 1 0]\n",
      " [1 1 1 1 0]\n",
      " [1 1 1 1 1]\n",
      " [1 1 1 1 1]\n",
      " [1 1 1 1 0]\n",
      " [0 1 1 1 0]\n",
      " [0 0 1 1 0]\n",
      " [0 0 0 1 0]\n",
      " [0 0 0 1 0]\n",
      " [0 0 1 1 0]\n",
      " [0 0 1 1 0]\n",
      " [0 1 1 1 0]\n",
      " [0 1 1 1 0]\n",
      " [1 1 1 1 0]\n",
      " [1 1 1 1 0]\n",
      " [1 1 1 1 1]\n",
      " [1 1 1 1 1]\n",
      " [1 1 1 1 1]\n",
      " [1 1 1 1 0]\n",
      " [0 1 1 1 0]\n",
      " [0 0 1 1 0]\n",
      " [0 0 0 1 0]\n",
      " [0 0 0 0 0]\n",
      " [0 0 1 0 0]\n",
      " [0 0 1 0 0]\n",
      " [0 1 1 0 0]\n",
      " [0 1 1 0 0]\n",
      " [1 1 1 0 0]\n",
      " [1 1 1 0 0]\n",
      " [1 1 1 0 1]\n",
      " [1 1 1 0 1]\n",
      " [1 1 1 0 0]\n",
      " [0 1 1 0 0]\n",
      " [0 0 1 0 0]]\n",
      "Generating feature scores\n",
      "Running feature 0 out of 1\n",
      "Parsed 0 symbols out of 60860\n",
      "Parsed 1000 symbols out of 60860\n",
      "Parsed 2000 symbols out of 60860\n",
      "Parsed 3000 symbols out of 60860\n",
      "Parsed 4000 symbols out of 60860\n",
      "Parsed 5000 symbols out of 60860\n",
      "Parsed 6000 symbols out of 60860\n",
      "Parsed 7000 symbols out of 60860\n",
      "Parsed 8000 symbols out of 60860\n",
      "Parsed 9000 symbols out of 60860\n",
      "Parsed 10000 symbols out of 60860\n",
      "Parsed 11000 symbols out of 60860\n",
      "Parsed 12000 symbols out of 60860\n",
      "Parsed 13000 symbols out of 60860\n",
      "Parsed 14000 symbols out of 60860\n",
      "Parsed 15000 symbols out of 60860\n",
      "Parsed 16000 symbols out of 60860\n",
      "Parsed 17000 symbols out of 60860\n",
      "Parsed 18000 symbols out of 60860\n",
      "Parsed 19000 symbols out of 60860\n",
      "Parsed 20000 symbols out of 60860\n",
      "Parsed 21000 symbols out of 60860\n",
      "Parsed 22000 symbols out of 60860\n",
      "Parsed 23000 symbols out of 60860\n",
      "Parsed 24000 symbols out of 60860\n",
      "Parsed 25000 symbols out of 60860\n",
      "Parsed 26000 symbols out of 60860\n",
      "Parsed 27000 symbols out of 60860\n",
      "Parsed 28000 symbols out of 60860\n",
      "Parsed 29000 symbols out of 60860\n",
      "Parsed 30000 symbols out of 60860\n",
      "Parsed 31000 symbols out of 60860\n",
      "Parsed 32000 symbols out of 60860\n",
      "Parsed 33000 symbols out of 60860\n",
      "Parsed 34000 symbols out of 60860\n",
      "Parsed 35000 symbols out of 60860\n",
      "Parsed 36000 symbols out of 60860\n",
      "Parsed 37000 symbols out of 60860\n",
      "Parsed 38000 symbols out of 60860\n",
      "Parsed 39000 symbols out of 60860\n",
      "Parsed 40000 symbols out of 60860\n",
      "Parsed 41000 symbols out of 60860\n",
      "Parsed 42000 symbols out of 60860\n",
      "Parsed 43000 symbols out of 60860\n",
      "Parsed 44000 symbols out of 60860\n",
      "Parsed 45000 symbols out of 60860\n",
      "Parsed 46000 symbols out of 60860\n",
      "Parsed 47000 symbols out of 60860\n",
      "Parsed 48000 symbols out of 60860\n",
      "Parsed 49000 symbols out of 60860\n",
      "Parsed 50000 symbols out of 60860\n",
      "Parsed 51000 symbols out of 60860\n",
      "Parsed 52000 symbols out of 60860\n",
      "Parsed 53000 symbols out of 60860\n",
      "Parsed 54000 symbols out of 60860\n",
      "Parsed 55000 symbols out of 60860\n",
      "Parsed 56000 symbols out of 60860\n",
      "Parsed 57000 symbols out of 60860\n",
      "Parsed 58000 symbols out of 60860\n",
      "Parsed 59000 symbols out of 60860\n",
      "Parsed 60000 symbols out of 60860\n",
      "Done parsing\n",
      "Added features ['prod_S3', 'prod_S2', 'prod_S1', 'prod_S0', 'prod_S4', '...']\n",
      "Tidying...\n",
      "Computed feature matrix, with shape: (60860, 5)\n",
      "Snippet of the features\n",
      "444))))00(11((33(44))))(1(2(3(444))))(1(2(3(44))))\n",
      "['prod_S3', 'prod_S2', 'prod_S1', 'prod_S0', 'prod_S4']\n",
      "[[1 1 1 1 1]\n",
      " [1 1 1 1 1]\n",
      " [1 1 1 1 1]\n",
      " [1 1 1 1 0]\n",
      " [0 1 1 1 0]\n",
      " [0 0 1 1 0]\n",
      " [0 0 0 1 0]\n",
      " [0 0 0 1 0]\n",
      " [0 0 0 1 0]\n",
      " [0 0 0 1 0]\n",
      " [0 0 1 1 0]\n",
      " [0 0 1 1 0]\n",
      " [0 0 1 1 0]\n",
      " [0 1 1 1 0]\n",
      " [1 1 1 1 0]\n",
      " [1 1 1 1 0]\n",
      " [1 1 1 1 0]\n",
      " [1 1 1 1 1]\n",
      " [1 1 1 1 1]\n",
      " [1 1 1 1 0]\n",
      " [0 1 1 1 0]\n",
      " [0 0 1 1 0]\n",
      " [0 0 0 1 0]\n",
      " [0 0 0 1 0]\n",
      " [0 0 1 1 0]\n",
      " [0 0 1 1 0]\n",
      " [0 1 1 1 0]\n",
      " [0 1 1 1 0]\n",
      " [1 1 1 1 0]\n",
      " [1 1 1 1 0]\n",
      " [1 1 1 1 1]\n",
      " [1 1 1 1 1]\n",
      " [1 1 1 1 1]\n",
      " [1 1 1 1 0]\n",
      " [0 1 1 1 0]\n",
      " [0 0 1 1 0]\n",
      " [0 0 0 1 0]\n",
      " [0 0 0 1 0]\n",
      " [0 0 1 1 0]\n",
      " [0 0 1 1 0]\n",
      " [0 1 1 1 0]\n",
      " [0 1 1 1 0]\n",
      " [1 1 1 1 0]\n",
      " [1 1 1 1 0]\n",
      " [1 1 1 1 1]\n",
      " [1 1 1 1 1]\n",
      " [1 1 1 1 0]\n",
      " [0 1 1 1 0]\n",
      " [0 0 1 1 0]\n",
      " [0 0 0 1 0]]\n",
      "Features for test sequence:\n",
      "['prod_S3', 'prod_S2', 'prod_S1', 'prod_S0', 'prod_S4']\n",
      "[[0 0 0 1 0]\n",
      " [0 0 1 1 0]\n",
      " [0 1 1 1 0]\n",
      " [1 1 1 1 0]\n",
      " [1 1 1 1 0]\n",
      " [1 1 1 1 1]\n",
      " [1 1 1 1 1]\n",
      " [1 1 1 1 1]\n",
      " [1 1 1 1 0]\n",
      " [0 1 1 1 0]\n",
      " [0 0 1 1 0]\n",
      " [0 0 0 1 0]\n",
      " [0 0 0 1 0]\n",
      " [0 0 1 1 0]\n",
      " [0 1 1 1 0]]\n",
      "Features for test sequence labels:\n",
      "['prod_S3', 'prod_S2', 'prod_S1', 'prod_S0', 'prod_S4']\n",
      "[[0 0 1 0 0]\n",
      " [0 1 1 0 0]\n",
      " [1 1 1 0 0]\n",
      " [1 1 1 0 0]\n",
      " [1 1 1 0 1]\n",
      " [1 1 1 0 1]\n",
      " [1 1 1 0 1]\n",
      " [1 1 1 0 0]\n",
      " [0 1 1 0 0]\n",
      " [0 0 1 0 0]\n",
      " [0 0 0 0 0]\n",
      " [0 0 0 1 0]\n",
      " [0 0 1 1 0]\n",
      " [0 1 1 1 0]\n",
      " [0 1 1 1 0]]\n"
     ]
    }
   ],
   "source": [
    "reload(feat)\n",
    "\n",
    "feature_frame_x = feat.FeatureFrame(features, X_test_sequence)\n",
    "feature_frame_x.extract()\n",
    "\n",
    "feature_frame_y = feat.FeatureFrame(features, y_test_sequence)\n",
    "feature_frame_y.extract()\n",
    "\n",
    "print'Features for test sequence:'\n",
    "print feature_frame_x.names\n",
    "print feature_frame_x.values[:15,:]\n",
    "\n",
    "print 'Features for test sequence labels:'\n",
    "print feature_frame_y.names\n",
    "print feature_frame_y.values[:15,:]"
   ]
  },
  {
   "cell_type": "markdown",
   "metadata": {},
   "source": [
    "# Extracts the Hidden States"
   ]
  },
  {
   "cell_type": "code",
   "execution_count": 15,
   "metadata": {
    "collapsed": false
   },
   "outputs": [
    {
     "name": "stdout",
     "output_type": "stream",
     "text": [
      "BEWARE _ ONLY SUPPORTS CONSECUTIVE LAYER IDS STARTING AT 0\n",
      "Creates spy models\n",
      "... for id 0 : <keras.layers.recurrent.LSTM object at 0x11bae9550>\n",
      "... for id 2 : <keras.layers.core.Dense object at 0x11bae9a10>\n",
      "Gets the activations for the hidden states\n",
      "Gets structure\n",
      "Gets offets\n",
      "WARNING +++ NOT SUITABLE FOR NON_FORWARD LAYERS\n",
      "Gets structure\n",
      "states shape: (60845, 71)\n",
      "config: [('<keras.layers.recurrent.LSTM object at 0x11bae9550>', 16, 4), ('<keras.layers.core.Dense object at 0x11bae9a10>', 1, 7)]\n",
      "offets: {(0, 1): 1, (0, 0): 0, (0, 15): 15, (0, 14): 14, (1, 0): 15, (0, 13): 13, (0, 7): 7, (0, 12): 12, (0, 6): 6, (0, 11): 11, (0, 5): 5, (0, 10): 10, (0, 4): 4, (0, 9): 9, (0, 3): 3, (0, 8): 8, (0, 2): 2}\n"
     ]
    }
   ],
   "source": [
    "import extractor\n",
    "reload(extractor)\n",
    "\n",
    "ex=extractor.Extractor(model, [0,2])\n",
    "states = ex.get_states(X_test)\n",
    "nn_config = ex.get_structure()\n",
    "nn_offsets = ex.get_offets()\n",
    "\n",
    "print 'states shape:', states.shape\n",
    "print 'config:', nn_config\n",
    "print 'offets:', nn_offsets"
   ]
  },
  {
   "cell_type": "markdown",
   "metadata": {
    "collapsed": true
   },
   "source": [
    "# Inspects - mutual information"
   ]
  },
  {
   "cell_type": "code",
   "execution_count": 16,
   "metadata": {
    "collapsed": false
   },
   "outputs": [
    {
     "name": "stdout",
     "output_type": "stream",
     "text": [
      "Snippet test sequence: ['(', '(', '(', '3', '(', '4', '4', '4', ')', ')', ')', ')', '(', '(', '2', '(', '(', '4', ')', ')', ')', ')', '(', '1', '(', '2', '(', '(', '4', ')', ')', ')', ')', '0', '(', '(', '(', '(', '4', '4', ')', ')', ')', ')', '0', '(', '1', '(', '2', '(', '3', '(', '4', '4', ')', ')', ')', ')', '(', '1', '1', '(', '(', '(', '4', '4', '4', ')', ')', ')', ')', '0', '(', '1', '(', '2', '(', '3', '3', '(', '4', ')', ')', ')', ')', '0', '0', '(', '(', '(', '(', '4', '4', '4', ')', ')', ')', ')', '0', '(']\n",
      "Size 60860\n",
      "Computing attribution scores\n",
      "Feture matrix dimensions: (60860, 5)\n",
      "States dimensions: (60845, 71)\n",
      "Computing score for feature 0: prod_S3\n",
      "Layer 0\n",
      "Timestep 0\n",
      "Scoring neurons 0 to 3\n",
      "Timestep 1\n",
      "Scoring neurons 4 to 7\n",
      "Timestep 2\n",
      "Scoring neurons 8 to 11\n",
      "Timestep 3\n",
      "Scoring neurons 12 to 15\n",
      "Timestep 4\n",
      "Scoring neurons 16 to 19\n",
      "Timestep 5\n",
      "Scoring neurons 20 to 23\n",
      "Timestep 6\n",
      "Scoring neurons 24 to 27\n",
      "Timestep 7\n",
      "Scoring neurons 28 to 31\n",
      "Timestep 8\n",
      "Scoring neurons 32 to 35\n",
      "Timestep 9\n",
      "Scoring neurons 36 to 39\n",
      "Timestep 10\n",
      "Scoring neurons 40 to 43\n",
      "Timestep 11\n",
      "Scoring neurons 44 to 47\n",
      "Timestep 12\n",
      "Scoring neurons 48 to 51\n",
      "Timestep 13\n",
      "Scoring neurons 52 to 55\n",
      "Timestep 14\n",
      "Scoring neurons 56 to 59\n",
      "Timestep 15\n",
      "Scoring neurons 60 to 63\n",
      "Layer 1\n",
      "Timestep 0\n",
      "Scoring neurons 64 to 70\n",
      "Computing score for feature 1: prod_S2\n",
      "Layer 0\n",
      "Timestep 0\n",
      "Scoring neurons 0 to 3\n",
      "Timestep 1\n",
      "Scoring neurons 4 to 7\n",
      "Timestep 2\n",
      "Scoring neurons 8 to 11\n",
      "Timestep 3\n",
      "Scoring neurons 12 to 15\n",
      "Timestep 4\n",
      "Scoring neurons 16 to 19\n",
      "Timestep 5\n",
      "Scoring neurons 20 to 23\n",
      "Timestep 6\n",
      "Scoring neurons 24 to 27\n",
      "Timestep 7\n",
      "Scoring neurons 28 to 31\n",
      "Timestep 8\n",
      "Scoring neurons 32 to 35\n",
      "Timestep 9\n",
      "Scoring neurons 36 to 39\n",
      "Timestep 10\n",
      "Scoring neurons 40 to 43\n",
      "Timestep 11\n",
      "Scoring neurons 44 to 47\n",
      "Timestep 12\n",
      "Scoring neurons 48 to 51\n",
      "Timestep 13\n",
      "Scoring neurons 52 to 55\n",
      "Timestep 14\n",
      "Scoring neurons 56 to 59\n",
      "Timestep 15\n",
      "Scoring neurons 60 to 63\n",
      "Layer 1\n",
      "Timestep 0\n",
      "Scoring neurons 64 to 70\n",
      "Computing score for feature 2: prod_S1\n",
      "Layer 0\n",
      "Timestep 0\n",
      "Scoring neurons 0 to 3\n",
      "Timestep 1\n",
      "Scoring neurons 4 to 7\n",
      "Timestep 2\n",
      "Scoring neurons 8 to 11\n",
      "Timestep 3\n",
      "Scoring neurons 12 to 15\n",
      "Timestep 4\n",
      "Scoring neurons 16 to 19\n",
      "Timestep 5\n",
      "Scoring neurons 20 to 23\n",
      "Timestep 6\n",
      "Scoring neurons 24 to 27\n",
      "Timestep 7\n",
      "Scoring neurons 28 to 31\n",
      "Timestep 8\n",
      "Scoring neurons 32 to 35\n",
      "Timestep 9\n",
      "Scoring neurons 36 to 39\n",
      "Timestep 10\n",
      "Scoring neurons 40 to 43\n",
      "Timestep 11\n",
      "Scoring neurons 44 to 47\n",
      "Timestep 12\n",
      "Scoring neurons 48 to 51\n",
      "Timestep 13\n",
      "Scoring neurons 52 to 55\n",
      "Timestep 14\n",
      "Scoring neurons 56 to 59\n",
      "Timestep 15\n",
      "Scoring neurons 60 to 63\n",
      "Layer 1\n",
      "Timestep 0\n",
      "Scoring neurons 64 to 70\n",
      "Computing score for feature 3: prod_S0\n",
      "Layer 0\n",
      "Timestep 0\n",
      "Scoring neurons 0 to 3\n",
      "Timestep 1\n",
      "Scoring neurons 4 to 7\n",
      "Timestep 2\n",
      "Scoring neurons 8 to 11\n",
      "Timestep 3\n",
      "Scoring neurons 12 to 15\n",
      "Timestep 4\n",
      "Scoring neurons 16 to 19\n",
      "Timestep 5\n",
      "Scoring neurons 20 to 23\n",
      "Timestep 6\n",
      "Scoring neurons 24 to 27\n",
      "Timestep 7\n",
      "Scoring neurons 28 to 31\n",
      "Timestep 8\n",
      "Scoring neurons 32 to 35\n",
      "Timestep 9\n",
      "Scoring neurons 36 to 39\n",
      "Timestep 10\n",
      "Scoring neurons 40 to 43\n",
      "Timestep 11\n",
      "Scoring neurons 44 to 47\n",
      "Timestep 12\n",
      "Scoring neurons 48 to 51\n",
      "Timestep 13\n",
      "Scoring neurons 52 to 55\n",
      "Timestep 14\n",
      "Scoring neurons 56 to 59\n",
      "Timestep 15\n",
      "Scoring neurons 60 to 63\n",
      "Layer 1\n",
      "Timestep 0\n",
      "Scoring neurons 64 to 70\n",
      "Computing score for feature 4: prod_S4\n",
      "Layer 0\n",
      "Timestep 0\n",
      "Scoring neurons 0 to 3\n",
      "Timestep 1\n",
      "Scoring neurons 4 to 7\n",
      "Timestep 2\n",
      "Scoring neurons 8 to 11\n",
      "Timestep 3\n",
      "Scoring neurons 12 to 15\n",
      "Timestep 4\n",
      "Scoring neurons 16 to 19\n",
      "Timestep 5\n",
      "Scoring neurons 20 to 23\n",
      "Timestep 6\n",
      "Scoring neurons 24 to 27\n",
      "Timestep 7\n",
      "Scoring neurons 28 to 31\n",
      "Timestep 8\n",
      "Scoring neurons 32 to 35\n",
      "Timestep 9\n",
      "Scoring neurons 36 to 39\n",
      "Timestep 10\n",
      "Scoring neurons 40 to 43\n",
      "Timestep 11\n",
      "Scoring neurons 44 to 47\n",
      "Timestep 12\n",
      "Scoring neurons 48 to 51\n",
      "Timestep 13\n",
      "Scoring neurons 52 to 55\n",
      "Timestep 14\n",
      "Scoring neurons 56 to 59\n",
      "Timestep 15\n",
      "Scoring neurons 60 to 63\n",
      "Layer 1\n",
      "Timestep 0\n",
      "Scoring neurons 64 to 70\n",
      "(71, 5)\n"
     ]
    }
   ],
   "source": [
    "import scores\n",
    "reload(scores)\n",
    "import inspector as ip\n",
    "reload(ip)\n",
    "\n",
    "print 'Snippet test sequence:', X_test_sequence[:100]\n",
    "print 'Size', len(X_test_sequence)\n",
    "\n",
    "insp = ip.Inspector(nn_config, nn_offsets)\n",
    "mi_scores,names = insp.inspect(states, feature_frame_x, scores.Correlation())\n",
    "\n",
    "print mi_scores.shape"
   ]
  },
  {
   "cell_type": "code",
   "execution_count": 17,
   "metadata": {
    "collapsed": true
   },
   "outputs": [],
   "source": [
    "feature_neurons = insp.filter_attributions(ip.filter_threshold_abs(.05))\n",
    "non_feature_neurons = insp.not_attributed()\n",
    "\n",
    "is_selected = np.zeros_like(mi_scores)\n",
    "for j, fname in enumerate(names):\n",
    "    for i in insp.attributed_columns[fname]:\n",
    "        is_selected[i,j] = 1"
   ]
  },
  {
   "cell_type": "code",
   "execution_count": null,
   "metadata": {
    "collapsed": false
   },
   "outputs": [
    {
     "name": "stderr",
     "output_type": "stream",
     "text": [
      "/Users/thib/.virtualenvs/keras/lib/python2.7/site-packages/rpy2/rinterface/__init__.py:185: RRuntimeWarning: \n",
      "Attachement du package : ‘dplyr’\n",
      "\n",
      "\n",
      "  warnings.warn(x, RRuntimeWarning)\n",
      "/Users/thib/.virtualenvs/keras/lib/python2.7/site-packages/rpy2/rinterface/__init__.py:185: RRuntimeWarning: The following objects are masked from ‘package:stats’:\n",
      "\n",
      "    filter, lag\n",
      "\n",
      "\n",
      "  warnings.warn(x, RRuntimeWarning)\n",
      "/Users/thib/.virtualenvs/keras/lib/python2.7/site-packages/rpy2/rinterface/__init__.py:185: RRuntimeWarning: The following objects are masked from ‘package:base’:\n",
      "\n",
      "    intersect, setdiff, setequal, union\n",
      "\n",
      "\n",
      "  warnings.warn(x, RRuntimeWarning)\n",
      "/Users/thib/.virtualenvs/keras/lib/python2.7/site-packages/rpy2/rinterface/__init__.py:185: RRuntimeWarning: Warning:\n",
      "  warnings.warn(x, RRuntimeWarning)\n",
      "/Users/thib/.virtualenvs/keras/lib/python2.7/site-packages/rpy2/rinterface/__init__.py:185: RRuntimeWarning:  Ignoring unknown parameters: aes\n",
      "\n",
      "  warnings.warn(x, RRuntimeWarning)\n"
     ]
    },
    {
     "data": {
      "image/png": "[encoded data removed]"
     },
     "metadata": {},
     "output_type": "display_data"
    }
   ],
   "source": [
    "%%R -i mi_scores,names,is_selected\n",
    "\n",
    "library(ggplot2)\n",
    "library(scales) \n",
    "library(dplyr)\n",
    "library(tidyr)\n",
    "\n",
    "# Gets scores\n",
    "data <- as.data.frame(mi_scores)\n",
    "names(data) <- names\n",
    "data[['Neuron']] <- factor(0:(nrow(data)-1),\n",
    "                           levels = 0:(nrow(data)-1),\n",
    "                           labels = as.character(0:(nrow(data)-1)))\n",
    "data <- gather(data, key='Feature', value='Score', -Neuron)\n",
    "\n",
    "# Gets neuron selection\n",
    "sel <- as.data.frame(is_selected)\n",
    "names(sel) <- names\n",
    "sel[['Neuron']] <- factor(0:(nrow(sel)-1),\n",
    "                           levels = 0:(nrow(sel)-1),\n",
    "                           labels = as.character(0:(nrow(sel)-1)))\n",
    "sel <- gather(sel, key='Feature', value='selected', -Neuron)\n",
    "sel$selected <- ifelse(sel$selected == 1, 'X', '')\n",
    "\n",
    "# joins\n",
    "to_plot <- inner_join(data,sel, by = c(\"Neuron\", \"Feature\"))\n",
    "\n",
    "# Filters and plots\n",
    "# to_plot <- to_plot %>% filter(Feature %in% c('line_pos', 'dep_()_1',\n",
    "#                                  'dep_()_2',\n",
    "#                                  'dep_()_3',\n",
    "#                                  'dep_()_4',\n",
    "#                                  'dep_{}_1',\n",
    "#                                  'dep_{}_2',\n",
    "#                                  'dep_{}_3',\n",
    "#                                  'dep_{}_4',\n",
    "#                                  'dep_{}_5'))\n",
    "\n",
    "p <- ggplot(to_plot, aes(x=Feature, y=Neuron, fill=Score, label=selected)) + \n",
    "                geom_bin2d(aes='identity') +\n",
    "                geom_text(color='red') +\n",
    "                scale_fill_gradient2(midpoint=median(to_plot$Score),\n",
    "                                    low = muted(\"blue\"), mid = \"white\",high = muted(\"red\"),\n",
    "                                    limits=c(0,NA)) +\n",
    "                theme(axis.text.x = element_text(angle=90))\n",
    "p"
   ]
  },
  {
   "cell_type": "markdown",
   "metadata": {},
   "source": [
    "# Does the Unit Test"
   ]
  },
  {
   "cell_type": "code",
   "execution_count": null,
   "metadata": {
    "collapsed": false
   },
   "outputs": [
    {
     "name": "stdout",
     "output_type": "stream",
     "text": [
      "Computing scores for prod_S0\n",
      "ERROR Cant compute score: Found array with 0 feature(s) (shape=(60860, 0)) while a minimum of 1 is required.\n",
      "Computing scores for prod_S1\n",
      "Computing scores for prod_S2\n"
     ]
    }
   ],
   "source": [
    "import scores\n",
    "import inspector as ip\n",
    "reload(scores)\n",
    "reload(ip)\n",
    "\n",
    "out = insp.test(states, feature_frame_x, feature_neurons, scores.LogRegF1())\n",
    "out"
   ]
  },
  {
   "cell_type": "code",
   "execution_count": null,
   "metadata": {
    "collapsed": true
   },
   "outputs": [],
   "source": [
    "out_base = insp.test(states, feature_frame_x, non_feature_neurons, scores.LogRegF1())\n",
    "out_base"
   ]
  },
  {
   "cell_type": "code",
   "execution_count": null,
   "metadata": {
    "collapsed": true
   },
   "outputs": [],
   "source": [
    "print sorted(non_feature_neurons['prod_S4'])\n",
    "print '-----'\n",
    "print sorted(feature_neurons['prod_S4'])"
   ]
  },
  {
   "cell_type": "markdown",
   "metadata": {},
   "source": [
    "# Introduces a bug"
   ]
  },
  {
   "cell_type": "code",
   "execution_count": null,
   "metadata": {
    "collapsed": true
   },
   "outputs": [],
   "source": [
    "reload(gram)\n",
    "reload(pre)\n",
    "\n",
    "ADV_N_SENTENCES = int(.5 * N_SENTENCES)\n",
    "\n",
    "# Creates new dataset\n",
    "adv_grammar = [('S0', '0 S0 | ( S1 )'),\n",
    "               ('S1', '1 S1 | ( S2 )'),\n",
    "               ('S2', '2 S2 | ) S3 ('),\n",
    "               ('S3', '3 S3 | ( S4 )'),\n",
    "               ('S4', 'S4 S4 | 4')]\n",
    "adv_gram_obj = gram.GrammarUseCase(adv_grammar, 'S0')\n",
    "\n",
    "\n",
    "# Generates data\n",
    "adv_train_sequence = adv_gram_obj.gen_sequence(ADV_N_SENTENCES)\n",
    "adv_test_sequence = adv_gram_obj.gen_sequence(int(ADV_N_SENTENCES * TEST_RATIO))\n",
    "\n",
    "print adv_train_sequence[:50]\n",
    "\n",
    "adv_raw_train_sequence = [char2int[x] for x in adv_train_sequence]\n",
    "adv_raw_test_sequence = [char2int[x] for x in adv_test_sequence]\n",
    "\n",
    "print 'Training smybols:', len(adv_raw_train_sequence)\n",
    "print 'Testing smybols:', len(adv_raw_test_sequence)\n",
    "\n",
    "# Vectorizes, encodes and removes last line (we have no label for that one)\n",
    "adv_train_seq = adv_raw_train_sequence[:-1]\n",
    "adv_train_seq_enc = [int2char[x] for x in adv_train_seq]\n",
    "\n",
    "adv_test_seq = adv_raw_test_sequence[:-1]\n",
    "adv_test_seq_enc = [int2char[x] for x in adv_test_seq]\n",
    "\n",
    "adv_X_train = pre.vectorize(adv_train_seq, WINDOW_SIZE)\n",
    "adv_X_train = pre.one_hot_encode_matrix(adv_X_train)\n",
    "\n",
    "adv_X_test = pre.vectorize(adv_test_seq, WINDOW_SIZE)\n",
    "adv_X_test = pre.one_hot_encode_matrix(adv_X_test)\n",
    "\n",
    "# Creates labels\n",
    "adv_y_train = adv_raw_train_sequence[WINDOW_SIZE:]\n",
    "adv_y_train = keras.utils.to_categorical(adv_y_train)\n",
    "\n",
    "adv_y_test = raw_test_sequence[WINDOW_SIZE:]\n",
    "adv_y_test = keras.utils.to_categorical(adv_y_test)"
   ]
  },
  {
   "cell_type": "code",
   "execution_count": null,
   "metadata": {
    "collapsed": true
   },
   "outputs": [],
   "source": [
    "model.save('models/healthy_copy')\n",
    "hacked_model = load_model('models/healthy_copy')\n",
    "for i in range(N_EPOCHS):\n",
    "    hacked_model.reset_states()\n",
    "    history = hacked_model.fit(adv_X_train, adv_y_train,\n",
    "                        batch_size=32,\n",
    "                        epochs=1,\n",
    "                        verbose=1,\n",
    "                        validation_split=0.1)"
   ]
  },
  {
   "cell_type": "code",
   "execution_count": null,
   "metadata": {
    "collapsed": true
   },
   "outputs": [],
   "source": [
    "import generator as gen\n",
    "print gen.complete_sentence('((((4))))(1(2(3(', hacked_model, 128, char2int, int2char )\n",
    "print gen.complete_sentence('((((4))))(1(2(3(', hacked_model, 128, char2int, int2char )"
   ]
  },
  {
   "cell_type": "code",
   "execution_count": null,
   "metadata": {
    "collapsed": true
   },
   "outputs": [],
   "source": [
    "# old model\n",
    "model.reset_states()\n",
    "score = model.evaluate(X_test, y_test, verbose=1)\n",
    "print '\\nBEFORE DRIFT - Test accuracy:', score[1]\n",
    "\n",
    "hacked_model.reset_states()\n",
    "hscore = hacked_model.evaluate(X_test, y_test, verbose=1)\n",
    "print '\\nAFTER DRIFT - Test accuracy:', hscore[1]"
   ]
  },
  {
   "cell_type": "code",
   "execution_count": null,
   "metadata": {
    "collapsed": true
   },
   "outputs": [],
   "source": [
    "# Tests on the critical points\n",
    "print 'BEFORE:'\n",
    "for k in range(len(int2char)):\n",
    "    pain_points = (y_test[:,k] == 1)\n",
    "    model.reset_states()\n",
    "    hscore = model.evaluate(X_test[pain_points,...], y_test[pain_points], verbose=1)\n",
    "    print '\\nPredicting digit:', int2char[k], 'acc:', hscore[1]\n",
    "\n",
    "print '\\nAFTER:'\n",
    "for k in range(len(int2char)):\n",
    "    pain_points = (y_test[:,k] == 1)\n",
    "    hacked_model.reset_states()\n",
    "    hscore = hacked_model.evaluate(X_test[pain_points,...], y_test[pain_points], verbose=1)\n",
    "    print '\\nPredicting digit:', int2char[k], 'acc:', hscore[1]"
   ]
  },
  {
   "cell_type": "markdown",
   "metadata": {},
   "source": [
    "# Does the Unit Test Again"
   ]
  },
  {
   "cell_type": "code",
   "execution_count": null,
   "metadata": {
    "collapsed": true
   },
   "outputs": [],
   "source": [
    "hacked_ex=extractor.Extractor(hacked_model, [0,2])\n",
    "hacked_states = ex.get_states(X_test)"
   ]
  },
  {
   "cell_type": "code",
   "execution_count": null,
   "metadata": {
    "collapsed": true
   },
   "outputs": [],
   "source": [
    "out = insp.test(hacked_states, feature_frame_x, feature_neurons, scores.LogRegF1())\n",
    "print out"
   ]
  },
  {
   "cell_type": "code",
   "execution_count": null,
   "metadata": {
    "collapsed": true
   },
   "outputs": [],
   "source": []
  }
 ],
 "metadata": {
  "kernelspec": {
   "display_name": "Python 3",
   "language": "python",
   "name": "python3"
  },
  "language_info": {
   "codemirror_mode": {
    "name": "ipython",
    "version": 3
   },
   "file_extension": ".py",
   "mimetype": "text/x-python",
   "name": "python",
   "nbconvert_exporter": "python",
   "pygments_lexer": "ipython3",
   "version": "3.6.0"
  }
 },
 "nbformat": 4,
 "nbformat_minor": 2
}
