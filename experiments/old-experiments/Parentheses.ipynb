{
 "cells": [
  {
   "cell_type": "code",
   "execution_count": 1,
   "metadata": {
    "collapsed": true
   },
   "outputs": [],
   "source": [
    "#SIZE_TEST = 50000\n",
    "N_SENTENCES_TRAIN = 20000\n",
    "N_SENTENCES_TEST = 5000\n",
    "N_EPOCHS = 1\n",
    "CACHED = True"
   ]
  },
  {
   "cell_type": "code",
   "execution_count": 20,
   "metadata": {
    "collapsed": true
   },
   "outputs": [],
   "source": [
    "%load_ext rpy2.ipython"
   ]
  },
  {
   "cell_type": "code",
   "execution_count": 2,
   "metadata": {
    "collapsed": true
   },
   "outputs": [],
   "source": [
    "import sys\n",
    "sys.path.append('../src')"
   ]
  },
  {
   "cell_type": "code",
   "execution_count": 3,
   "metadata": {
    "collapsed": true
   },
   "outputs": [],
   "source": [
    "import numpy as np"
   ]
  },
  {
   "cell_type": "markdown",
   "metadata": {},
   "source": [
    "# Creates Dataset"
   ]
  },
  {
   "cell_type": "code",
   "execution_count": 4,
   "metadata": {},
   "outputs": [
    {
     "name": "stderr",
     "output_type": "stream",
     "text": [
      "Using TensorFlow backend.\n"
     ]
    },
    {
     "name": "stdout",
     "output_type": "stream",
     "text": [
      "Generating raw text, with training size: 20000 and testing size 5000\n",
      "Generated train sequence - 240761 characters\n",
      "Generated test sequence - 60139 characters\n",
      "Total vocabulary size:  7\n",
      "Total Patterns:  240726\n",
      "Total Patterns:  60104\n"
     ]
    }
   ],
   "source": [
    "# Creates Nietzsche dataset\n",
    "import dataset\n",
    "reload(dataset)\n",
    "\n",
    "data_obj = dataset.ToyLang()\n",
    "data_obj.create(n_sentences_train=N_SENTENCES_TRAIN, n_sentences_test=N_SENTENCES_TEST)"
   ]
  },
  {
   "cell_type": "code",
   "execution_count": 5,
   "metadata": {
    "scrolled": true
   },
   "outputs": [
    {
     "name": "stdout",
     "output_type": "stream",
     "text": [
      "(240726, 35, 7)\n",
      "(240726, 7)\n",
      "240761\n",
      "\n",
      "(60104, 35, 7)\n",
      "(60104, 7)\n",
      "60139\n"
     ]
    }
   ],
   "source": [
    "print data_obj.train['X'].shape\n",
    "print data_obj.train['y'].shape\n",
    "print len(data_obj.train_raw)\n",
    "print ''\n",
    "print data_obj.test['X'].shape\n",
    "print data_obj.test['y'].shape\n",
    "print len(data_obj.test_raw)"
   ]
  },
  {
   "cell_type": "markdown",
   "metadata": {},
   "source": [
    "# Creates and trains character model"
   ]
  },
  {
   "cell_type": "code",
   "execution_count": 6,
   "metadata": {
    "scrolled": true
   },
   "outputs": [
    {
     "name": "stdout",
     "output_type": "stream",
     "text": [
      "Epoch 1/1\n",
      "240726/240726 [==============================] - 240s - loss: 0.5804 - acc: 0.7301   \n",
      "('Saved model to file:', '../models/parenthesis_0')\n"
     ]
    }
   ],
   "source": [
    "import model\n",
    "reload(model)\n",
    "\n",
    "nn_model = model.VanillaLSTM(data_obj, 128, n_epochs=1)\n",
    "nn_model.build()\n",
    "\n",
    "if CACHED:\n",
    "    nn_model.load_from_file('../models/parenthesis_0')\n",
    "else:\n",
    "    for i in range(N_EPOCHS):\n",
    "        nn_model.train()\n",
    "        nn_model.save('../models/parenthesis_' + str(i))"
   ]
  },
  {
   "cell_type": "code",
   "execution_count": 7,
   "metadata": {},
   "outputs": [
    {
     "name": "stdout",
     "output_type": "stream",
     "text": [
      "Dimensions: (1, 35, 7)\n",
      "[0 0 0 0 6 1 1 1 1 0 3 0 0 0 6 6 1 1 1 1 0 0 0 0 6 6 1 1 1 1 2 0 0 4 0 0 6\n",
      " 6 1 1 1 1 0 0 0 0 6 6 6 1 1 1 1 0 3 3 0 0 5 0 6 6 1 1 1 1 0 3 2 0 0 0 6 6\n",
      " 1 1 1 1 2 0 3 0 0 0 6]\n"
     ]
    },
    {
     "data": {
      "text/plain": [
       "'((((4))))(1(((44))))((((44))))0((2((44))))((((444))))(11((3(44))))(10(((44))))0(1(((4'"
      ]
     },
     "execution_count": 7,
     "metadata": {},
     "output_type": "execute_result"
    }
   ],
   "source": [
    "# Creates a sentence\n",
    "nn_model.complete_sentence(50)"
   ]
  },
  {
   "cell_type": "markdown",
   "metadata": {},
   "source": [
    "# Extracts States"
   ]
  },
  {
   "cell_type": "code",
   "execution_count": 8,
   "metadata": {},
   "outputs": [
    {
     "name": "stdout",
     "output_type": "stream",
     "text": [
      "(60139, 32)\n"
     ]
    }
   ],
   "source": [
    "# Gets hidden states\n",
    "states = nn_model.extract_states()\n",
    "print states.shape"
   ]
  },
  {
   "cell_type": "markdown",
   "metadata": {},
   "source": [
    "# Computes Features"
   ]
  },
  {
   "cell_type": "code",
   "execution_count": 9,
   "metadata": {},
   "outputs": [
    {
     "name": "stdout",
     "output_type": "stream",
     "text": [
      "Computing feature values\n",
      "0 out of 13 features processed\n",
      "10 out of 13 features processed\n"
     ]
    },
    {
     "data": {
      "text/plain": [
       "{'feat_matrix': array([[1, 0, 0, ..., 0, 0, 0],\n",
       "        [0, 0, 0, ..., 0, 0, 1],\n",
       "        [0, 0, 0, ..., 0, 0, 2],\n",
       "        ..., \n",
       "        [0, 0, 0, ..., 0, 0, 2],\n",
       "        [0, 0, 0, ..., 0, 0, 1],\n",
       "        [0, 0, 0, ..., 0, 0, 0]]),\n",
       " 'labels': ['0',\n",
       "  '1',\n",
       "  '2',\n",
       "  '3',\n",
       "  '4',\n",
       "  '(',\n",
       "  ')',\n",
       "  'indent-0',\n",
       "  'indent-1',\n",
       "  'indent-2',\n",
       "  'indent-3',\n",
       "  'indent-4',\n",
       "  'indent-seq']}"
      ]
     },
     "execution_count": 9,
     "metadata": {},
     "output_type": "execute_result"
    }
   ],
   "source": [
    "import features\n",
    "reload(features)\n",
    "features_obj = features.ToyFeatures(data_obj)\n",
    "features_obj.build_feature_functions()\n",
    "computed_features = features_obj.compute_feat_matrix()\n",
    "\n",
    "computed_features"
   ]
  },
  {
   "cell_type": "markdown",
   "metadata": {},
   "source": [
    "# Computes and Plots Scores"
   ]
  },
  {
   "cell_type": "code",
   "execution_count": 77,
   "metadata": {
    "scrolled": true
   },
   "outputs": [
    {
     "name": "stdout",
     "output_type": "stream",
     "text": [
      "Scoring feature 0 out of 13\n",
      "Scoring feature 10 out of 13\n",
      "Scoring feature 12 out of 13\n"
     ]
    }
   ],
   "source": [
    "import score\n",
    "reload(score)\n",
    "score_obj = score.CorrelationScore(states, computed_features['feat_matrix'])\n",
    "score_obj.compute_scores()"
   ]
  },
  {
   "cell_type": "code",
   "execution_count": 78,
   "metadata": {},
   "outputs": [
    {
     "name": "stdout",
     "output_type": "stream",
     "text": [
      "Filtering feature matrix\n"
     ]
    },
    {
     "data": {
      "image/png": "[encoded data removed]",
      "text/plain": [
       "<matplotlib.figure.Figure at 0x121c73090>"
      ]
     },
     "metadata": {},
     "output_type": "display_data"
    },
    {
     "name": "stdout",
     "output_type": "stream",
     "text": [
      "['0', '1', '2', '3', '4', '(', ')', 'indent-0', 'indent-1', 'indent-2', 'indent-3', 'indent-4', 'indent-seq']\n"
     ]
    }
   ],
   "source": [
    "%matplotlib inline\n",
    "\n",
    "N_FEATURES_TO_PLOT = 50\n",
    "\n",
    "import matplotlib\n",
    "import matplotlib.pyplot as plt\n",
    "from matplotlib.colors import Normalize\n",
    "import os\n",
    "import numpy as np\n",
    "\n",
    "to_plot = score_obj.filter_scores(N_FEATURES_TO_PLOT)\n",
    "\n",
    "n_values   = to_plot.shape[0]\n",
    "dummy_vals = np.linspace(0,1,num=n_values)\n",
    "dummy_vals = np.expand_dims(dummy_vals, axis=1)\n",
    "to_plot  = np.append(to_plot, dummy_vals, axis = 1)\n",
    "\n",
    "plt.imshow(to_plot, cmap='hot',\n",
    "                      norm=Normalize(vmin=0),\n",
    "                      interpolation='nearest',\n",
    "                      aspect='auto')\n",
    "plt.show()\n",
    "#plt.savefig('correlation_matrix.pdf',  bbox_inches='tight')\n",
    "\n",
    "colnames = computed_features['labels']\n",
    "print computed_features['labels'][:N_FEATURES_TO_PLOT]"
   ]
  },
  {
   "cell_type": "code",
   "execution_count": 79,
   "metadata": {},
   "outputs": [
    {
     "data": {
      "text/plain": [
       "    Neuron  Feature  Correlation\n",
       "1        1 indent-1 0.0814741599\n",
       "2        2 indent-1 0.2752243723\n",
       "3        3 indent-1 0.2248844281\n",
       "4        4 indent-1 0.2979821291\n",
       "5        5 indent-1 0.0514814973\n",
       "6        6 indent-1 0.1398487883\n",
       "7        7 indent-1 0.5612666836\n",
       "8        8 indent-1 0.3257117692\n",
       "9        9 indent-1 0.1196788529\n",
       "10      10 indent-1 0.1069675377\n",
       "11      11 indent-1 0.0444207469\n",
       "12      12 indent-1 0.2601505170\n",
       "13      13 indent-1 0.0895923290\n",
       "14      14 indent-1 0.3360621545\n",
       "15      15 indent-1 0.3486475046\n",
       "16      16 indent-1 0.4593410166\n",
       "17      17 indent-1 0.4919705402\n",
       "18      18 indent-1 0.0566875373\n",
       "19      19 indent-1 0.0443387786\n",
       "20      20 indent-1 0.0312920834\n",
       "21      21 indent-1 0.0593732582\n",
       "22      22 indent-1 0.1706777511\n",
       "23      23 indent-1 0.5114807097\n",
       "24      24 indent-1 0.2125851583\n",
       "25      25 indent-1 0.5713275402\n",
       "26      26 indent-1 0.4108167094\n",
       "27      27 indent-1 0.1169874295\n",
       "28      28 indent-1 0.4200970460\n",
       "29      29 indent-1 0.2304215865\n",
       "30      30 indent-1 0.2147169559\n",
       "31      31 indent-1 0.0431041710\n",
       "32      32 indent-1 0.2087659787\n",
       "33       1 indent-2 0.3840316398\n",
       "34       2 indent-2 0.2285249032\n",
       "35       3 indent-2 0.3491022711\n",
       "36       4 indent-2 0.0609978404\n",
       "37       5 indent-2 0.2568008662\n",
       "38       6 indent-2 0.4430954380\n",
       "39       7 indent-2 0.1272478199\n",
       "40       8 indent-2 0.0195904200\n",
       "41       9 indent-2 0.2087371142\n",
       "42      10 indent-2 0.2624091640\n",
       "43      11 indent-2 0.4054903897\n",
       "44      12 indent-2 0.2249453558\n",
       "45      13 indent-2 0.3284541347\n",
       "46      14 indent-2 0.2946721135\n",
       "47      15 indent-2 0.3100132944\n",
       "48      16 indent-2 0.1678840770\n",
       "49      17 indent-2 0.1770124672\n",
       "50      18 indent-2 0.0054484299\n",
       "51      19 indent-2 0.1956644113\n",
       "52      20 indent-2 0.0893498061\n",
       "53      21 indent-2 0.3312393222\n",
       "54      22 indent-2 0.0258084179\n",
       "55      23 indent-2 0.2509554235\n",
       "56      24 indent-2 0.2541509077\n",
       "57      25 indent-2 0.0122324895\n",
       "58      26 indent-2 0.0419800130\n",
       "59      27 indent-2 0.1821497757\n",
       "60      28 indent-2 0.1934044936\n",
       "61      29 indent-2 0.4463194286\n",
       "62      30 indent-2 0.1819499435\n",
       "63      31 indent-2 0.1987492478\n",
       "64      32 indent-2 0.2830949009\n",
       "65       1 indent-3 0.4395519382\n",
       "66       2 indent-3 0.4501175950\n",
       "67       3 indent-3 0.2832194433\n",
       "68       4 indent-3 0.0134737029\n",
       "69       5 indent-3 0.4390798672\n",
       "70       6 indent-3 0.0378634894\n",
       "71       7 indent-3 0.1187372383\n",
       "72       8 indent-3 0.1100845016\n",
       "73       9 indent-3 0.3594626540\n",
       "74      10 indent-3 0.1887948966\n",
       "75      11 indent-3 0.4038381733\n",
       "76      12 indent-3 0.3085283845\n",
       "77      13 indent-3 0.2755913906\n",
       "78      14 indent-3 0.2713972614\n",
       "79      15 indent-3 0.3182316533\n",
       "80      16 indent-3 0.1830548431\n",
       "81      17 indent-3 0.1875025038\n",
       "82      18 indent-3 0.2095278230\n",
       "83      19 indent-3 0.3750159685\n",
       "84      20 indent-3 0.2410138062\n",
       "85      21 indent-3 0.3898581455\n",
       "86      22 indent-3 0.1496103311\n",
       "87      23 indent-3 0.3957624072\n",
       "88      24 indent-3 0.2242953146\n",
       "89      25 indent-3 0.4486277610\n",
       "90      26 indent-3 0.1886860711\n",
       "91      27 indent-3 0.1187649018\n",
       "92      28 indent-3 0.1962868292\n",
       "93      29 indent-3 0.3195149061\n",
       "94      30 indent-3 0.2557580438\n",
       "95      31 indent-3 0.4341670831\n",
       "96      32 indent-3 0.3438234463\n",
       "97       1 indent-4 0.3195960307\n",
       "98       2 indent-4 0.2374558298\n",
       "99       3 indent-4 0.1580517081\n",
       "100      4 indent-4 0.0041095971\n",
       "101      5 indent-4 0.2660464211\n",
       "102      6 indent-4 0.1493916384\n",
       "103      7 indent-4 0.0183725422\n",
       "104      8 indent-4 0.1836822915\n",
       "105      9 indent-4 0.1784791814\n",
       "106     10 indent-4 0.1042995271\n",
       "107     11 indent-4 0.1782039622\n",
       "108     12 indent-4 0.1591706212\n",
       "109     13 indent-4 0.0653777524\n",
       "110     14 indent-4 0.0899580194\n",
       "111     15 indent-4 0.2226872689\n",
       "112     16 indent-4 0.1704416001\n",
       "113     17 indent-4 0.2820836756\n",
       "114     18 indent-4 0.2924753006\n",
       "115     19 indent-4 0.2005243273\n",
       "116     20 indent-4 0.3675834544\n",
       "117     21 indent-4 0.2150949286\n",
       "118     22 indent-4 0.0001531735\n",
       "119     23 indent-4 0.2194601812\n",
       "120     24 indent-4 0.0381035597\n",
       "121     25 indent-4 0.4321576221\n",
       "122     26 indent-4 0.0145060223\n",
       "123     27 indent-4 0.0916751137\n",
       "124     28 indent-4 0.2002712718\n",
       "125     29 indent-4 0.1232129522\n",
       "126     30 indent-4 0.2364252288\n",
       "127     31 indent-4 0.3181767110\n",
       "128     32 indent-4 0.1659607904\n"
      ]
     },
     "metadata": {},
     "output_type": "display_data"
    },
    {
     "data": {
      "image/png": "[encoded data removed]"
     },
     "metadata": {},
     "output_type": "display_data"
    }
   ],
   "source": [
    "%%R -i to_plot,colnames\n",
    "library(ggplot2)\n",
    "library(dplyr)\n",
    "library(tidyr)\n",
    "\n",
    "data <- as.data.frame(to_plot)\n",
    "names(data) <- colnames\n",
    "\n",
    "data[['Neuron']] <- 1:nrow(data)\n",
    "data <- gather(data, key='Feature', value='Correlation', -Neuron) %>%\n",
    "            filter(Feature %in% c('indent-1', 'indent-2','indent-3', 'indent-4'))\n",
    "print(data)\n",
    "ggplot(data, aes(x=Feature, y=as.factor(Neuron), fill=Correlation)) + geom_bin2d(aes='identity')"
   ]
  },
  {
   "cell_type": "code",
   "execution_count": 80,
   "metadata": {},
   "outputs": [
    {
     "data": {
      "text/plain": [
       "    Neuron Feature  Correlation\n",
       "1        1       1 0.6717188408\n",
       "2        2       1 0.8596257321\n",
       "3        3       1 0.5208845967\n",
       "4        4       1 0.0307781413\n",
       "5        5       1 0.7711781611\n",
       "6        6       1 0.3855976039\n",
       "7        7       1 0.3852891007\n",
       "8        8       1 0.6644860490\n",
       "9        9       1 0.7113804417\n",
       "10      10       1 0.7319080957\n",
       "11      11       1 0.8360050559\n",
       "12      12       1 0.5922404869\n",
       "13      13       1 0.9243803492\n",
       "14      14       1 0.6169223947\n",
       "15      15       1 0.5047044961\n",
       "16      16       1 0.2051416095\n",
       "17      17       1 0.0107852897\n",
       "18      18       1 0.0587661273\n",
       "19      19       1 0.7122527977\n",
       "20      20       1 0.0047162227\n",
       "21      21       1 0.7248855567\n",
       "22      22       1 0.4369940921\n",
       "23      23       1 0.7385162143\n",
       "24      24       1 0.7165696157\n",
       "25      25       1 0.4909409697\n",
       "26      26       1 0.5221097564\n",
       "27      27       1 0.5139597107\n",
       "28      28       1 0.1911285821\n",
       "29      29       1 0.6926638556\n",
       "30      30       1 0.2974375341\n",
       "31      31       1 0.6619796398\n",
       "32      32       1 0.6848717709\n",
       "33       1       2 0.2781914282\n",
       "34       2       2 0.0658743696\n",
       "35       3       2 0.5218681279\n",
       "36       4       2 0.0046786947\n",
       "37       5       2 0.0349763816\n",
       "38       6       2 0.8707045877\n",
       "39       7       2 0.0453582082\n",
       "40       8       2 0.1877320026\n",
       "41       9       2 0.2099614305\n",
       "42      10       2 0.1326019229\n",
       "43      11       2 0.2474708721\n",
       "44      12       2 0.1594496381\n",
       "45      13       2 0.1536986241\n",
       "46      14       2 0.0803749032\n",
       "47      15       2 0.2109177475\n",
       "48      16       2 0.1573907948\n",
       "49      17       2 0.0891188304\n",
       "50      18       2 0.3773155312\n",
       "51      19       2 0.2503375927\n",
       "52      20       2 0.6804244523\n",
       "53      21       2 0.1211504569\n",
       "54      22       2 0.5239706492\n",
       "55      23       2 0.3357118694\n",
       "56      24       2 0.2847413368\n",
       "57      25       2 0.3143250956\n",
       "58      26       2 0.2702437054\n",
       "59      27       2 0.2340367283\n",
       "60      28       2 0.1815215655\n",
       "61      29       2 0.5090314442\n",
       "62      30       2 0.1927561207\n",
       "63      31       2 0.1534526415\n",
       "64      32       2 0.0616036713\n",
       "65       1       3 0.8189845460\n",
       "66       2       3 0.6883456411\n",
       "67       3       3 0.6292582507\n",
       "68       4       3 0.6263639347\n",
       "69       5       3 0.8778930918\n",
       "70       6       3 0.1342282610\n",
       "71       7       3 0.1285257626\n",
       "72       8       3 0.2438173114\n",
       "73       9       3 0.7812128720\n",
       "74      10       3 0.5895772382\n",
       "75      11       3 0.7545996717\n",
       "76      12       3 0.8710624770\n",
       "77      13       3 0.5951376426\n",
       "78      14       3 0.9092845740\n",
       "79      15       3 0.8594654361\n",
       "80      16       3 0.7312575251\n",
       "81      17       3 0.6949884031\n",
       "82      18       3 0.8532611997\n",
       "83      19       3 0.7907661518\n",
       "84      20       3 0.6879692582\n",
       "85      21       3 0.8828830780\n",
       "86      22       3 0.7678508696\n",
       "87      23       3 0.2327948927\n",
       "88      24       3 0.7728149721\n",
       "89      25       3 0.4700386107\n",
       "90      26       3 0.0967505595\n",
       "91      27       3 0.7546697612\n",
       "92      28       3 0.7283262818\n",
       "93      29       3 0.6702133495\n",
       "94      30       3 0.7154514473\n",
       "95      31       3 0.9326154482\n",
       "96      32       3 0.9289373039\n",
       "97       1       4 0.0839750104\n",
       "98       2       4 0.1404733045\n",
       "99       3       4 0.4208595914\n",
       "100      4       4 0.7958159425\n",
       "101      5       4 0.0042852563\n",
       "102      6       4 0.0050366333\n",
       "103      7       4 0.1478861998\n",
       "104      8       4 0.4384417037\n",
       "105      9       4 0.3435995199\n",
       "106     10       4 0.1404155466\n",
       "107     11       4 0.1708636883\n",
       "108     12       4 0.3612606349\n",
       "109     13       4 0.3658358970\n",
       "110     14       4 0.1074191075\n",
       "111     15       4 0.2823730770\n",
       "112     16       4 0.5461847776\n",
       "113     17       4 0.4859450372\n",
       "114     18       4 0.3187293554\n",
       "115     19       4 0.3649717496\n",
       "116     20       4 0.1078771568\n",
       "117     21       4 0.0005862131\n",
       "118     22       4 0.1646299836\n",
       "119     23       4 0.1968008522\n",
       "120     24       4 0.3169657543\n",
       "121     25       4 0.2760405766\n",
       "122     26       4 0.6951725001\n",
       "123     27       4 0.4919288779\n",
       "124     28       4 0.5325510278\n",
       "125     29       4 0.1301846942\n",
       "126     30       4 0.0994753747\n",
       "127     31       4 0.0393889697\n",
       "128     32       4 0.1035093893\n",
       "129      1       ( 0.4642398650\n",
       "130      2       ( 0.2506129960\n",
       "131      3       ( 0.6111601156\n",
       "132      4       ( 0.1768874493\n",
       "133      5       ( 0.2806218915\n",
       "134      6       ( 0.6798944261\n",
       "135      7       ( 0.0011957126\n",
       "136      8       ( 0.0855450191\n",
       "137      9       ( 0.0499655480\n",
       "138     10       ( 0.2806509421\n",
       "139     11       ( 0.4208164145\n",
       "140     12       ( 0.3818880397\n",
       "141     13       ( 0.2971571816\n",
       "142     14       ( 0.3276455911\n",
       "143     15       ( 0.4206401272\n",
       "144     16       ( 0.3402013684\n",
       "145     17       ( 0.2735352894\n",
       "146     18       ( 0.0662157421\n",
       "147     19       ( 0.0203142375\n",
       "148     20       ( 0.3622686149\n",
       "149     21       ( 0.3532186076\n",
       "150     22       ( 0.2124968860\n",
       "151     23       ( 0.3431815194\n",
       "152     24       ( 0.4570957847\n",
       "153     25       ( 0.1250734840\n",
       "154     26       ( 0.1953978152\n",
       "155     27       ( 0.4097772269\n",
       "156     28       ( 0.3596527609\n",
       "157     29       ( 0.6121126040\n",
       "158     30       ( 0.0460866471\n",
       "159     31       ( 0.1408970873\n",
       "160     32       ( 0.2159289626\n",
       "161      1       ) 0.2601008159\n",
       "162      2       ) 0.0887139743\n",
       "163      3       ) 0.2366122788\n",
       "164      4       ) 0.1796951678\n",
       "165      5       ) 0.0635547811\n",
       "166      6       ) 0.2428900157\n",
       "167      7       ) 0.1842085361\n",
       "168      8       ) 0.2467328826\n",
       "169      9       ) 0.1081151161\n",
       "170     10       ) 0.0353075067\n",
       "171     11       ) 0.1531125069\n",
       "172     12       ) 0.0647652760\n",
       "173     13       ) 0.1327640311\n",
       "174     14       ) 0.2171585680\n",
       "175     15       ) 0.2331613869\n",
       "176     16       ) 0.1978987716\n",
       "177     17       ) 0.3472883636\n",
       "178     18       ) 0.4592508799\n",
       "179     19       ) 0.1031706839\n",
       "180     20       ) 0.1234270525\n",
       "181     21       ) 0.2507834717\n",
       "182     22       ) 0.2383437189\n",
       "183     23       ) 0.0782216146\n",
       "184     24       ) 0.0704921719\n",
       "185     25       ) 0.1155328110\n",
       "186     26       ) 0.2433290350\n",
       "187     27       ) 0.3670064993\n",
       "188     28       ) 0.2824828061\n",
       "189     29       ) 0.2533652555\n",
       "190     30       ) 0.6812496341\n",
       "191     31       ) 0.0199524776\n",
       "192     32       ) 0.1549060089\n"
      ]
     },
     "metadata": {},
     "output_type": "display_data"
    },
    {
     "data": {
      "image/png": "[encoded data removed]"
     },
     "metadata": {},
     "output_type": "display_data"
    }
   ],
   "source": [
    "%%R -i to_plot,colnames\n",
    "library(ggplot2)\n",
    "library(dplyr)\n",
    "library(tidyr)\n",
    "\n",
    "data <- as.data.frame(to_plot)\n",
    "names(data) <- colnames\n",
    "\n",
    "data[['Neuron']] <- 1:nrow(data)\n",
    "data <- gather(data, key='Feature', value='Correlation', -Neuron) %>%\n",
    "            filter(Feature %in% c('1', '2', '3', '4', '(', ')'))\n",
    "print(data)\n",
    "ggplot(data, aes(x=Feature, y=as.factor(Neuron), fill=Correlation)) + geom_bin2d(aes='identity')"
   ]
  },
  {
   "cell_type": "code",
   "execution_count": 12,
   "metadata": {},
   "outputs": [
    {
     "name": "stdout",
     "output_type": "stream",
     "text": [
      "Filtering feature matrix\n"
     ]
    },
    {
     "data": {
      "image/png": "[encoded data removed]",
      "text/plain": [
       "<matplotlib.figure.Figure at 0x1182f5250>"
      ]
     },
     "metadata": {},
     "output_type": "display_data"
    }
   ],
   "source": [
    "# Second viz\n",
    "to_plot = score_obj.filter_scores(N_FEATURES_TO_PLOT)\n",
    "\n",
    "if to_plot.shape[1] <= 4:\n",
    "    ncol = 1\n",
    "elif 4 < to_plot.shape[1] <= 8:\n",
    "    ncol = 2\n",
    "else:\n",
    "    nplots = min(12, to_plot.shape[1])\n",
    "    to_plot = to_plot[:,:nplots]\n",
    "    ncol = 3\n",
    "\n",
    "for i in range(to_plot.shape[1]):\n",
    "    neuron_series = np.sort(to_plot[:,i])[::-1]\n",
    "    plt.subplot(to_plot.shape[1],ncol,i+1)\n",
    "    plt.plot(neuron_series)\n",
    "\n",
    "plt.show()\n",
    "#plt.savefig('individual_correlation_scores.pdf',  bbox_inches='tight')"
   ]
  },
  {
   "cell_type": "markdown",
   "metadata": {},
   "source": [
    "# More complex feature score - multineuron"
   ]
  },
  {
   "cell_type": "code",
   "execution_count": 69,
   "metadata": {},
   "outputs": [
    {
     "name": "stdout",
     "output_type": "stream",
     "text": [
      "Scoring feature 0 out of 13\n",
      "Feature: 0\n",
      "Fitting model\n",
      "Computing score\n",
      "Accuracy: 0.99806763285\n",
      "Feature: 1\n",
      "Fitting model\n",
      "Computing score\n",
      "Accuracy: 0.99801980198\n",
      "Feature: 2\n",
      "Fitting model\n",
      "Computing score\n",
      "Accuracy: 0.999196787149\n",
      "Feature: 3\n",
      "Fitting model\n",
      "Computing score\n",
      "Accuracy: 0.997506234414\n",
      "Feature: 4\n",
      "Fitting model\n",
      "Computing score\n",
      "Accuracy: 0.999120823914\n",
      "Feature: (\n",
      "Fitting model\n",
      "Computing score\n",
      "Accuracy: 0.999650069986\n",
      "Feature: )\n",
      "Fitting model\n",
      "Computing score\n",
      "Accuracy: 0.999925009374\n",
      "Feature: indent-0\n",
      "Fitting model\n",
      "Cant compute score\n",
      "Feature: indent-1\n",
      "Fitting model\n",
      "Computing score\n",
      "Accuracy: 0.831666146218\n",
      "Feature: indent-2\n",
      "Fitting model\n",
      "Computing score\n",
      "Accuracy: 0.794810620843\n",
      "Scoring feature 10 out of 13\n",
      "Feature: indent-3\n",
      "Fitting model\n",
      "Computing score\n",
      "Accuracy: 0.736283642858\n",
      "Feature: indent-4\n",
      "Fitting model\n",
      "Computing score\n",
      "Accuracy: 0.63307966749\n",
      "Feature: indent-seq\n",
      "Fitting model\n",
      "Computing score\n",
      "Cant compute score\n"
     ]
    }
   ],
   "source": [
    "reload(score)\n",
    "\n",
    "score_obj = score.MultiNeuronPred(states, \n",
    "                computed_features['feat_matrix'],\n",
    "                computed_features['labels'])\n",
    "score_obj.compute_scores()\n"
   ]
  },
  {
   "cell_type": "code",
   "execution_count": 70,
   "metadata": {},
   "outputs": [
    {
     "name": "stdout",
     "output_type": "stream",
     "text": [
      "Filtering feature matrix\n"
     ]
    },
    {
     "data": {
      "text/plain": [
       "(32, 13)"
      ]
     },
     "execution_count": 70,
     "metadata": {},
     "output_type": "execute_result"
    }
   ],
   "source": [
    "score_obj.filter_scores(50).shape"
   ]
  },
  {
   "cell_type": "code",
   "execution_count": 71,
   "metadata": {},
   "outputs": [
    {
     "name": "stdout",
     "output_type": "stream",
     "text": [
      "Filtering feature matrix\n"
     ]
    },
    {
     "data": {
      "image/png": "[encoded data removed]",
      "text/plain": [
       "<matplotlib.figure.Figure at 0x1267f90d0>"
      ]
     },
     "metadata": {},
     "output_type": "display_data"
    },
    {
     "name": "stdout",
     "output_type": "stream",
     "text": [
      "0 0\n",
      "1 1\n",
      "2 2\n",
      "3 3\n",
      "4 4\n",
      "5 (\n",
      "6 )\n",
      "7 indent-0\n",
      "8 indent-1\n",
      "9 indent-2\n",
      "10 indent-3\n",
      "11 indent-4\n",
      "12 indent-seq\n"
     ]
    }
   ],
   "source": [
    "%matplotlib inline\n",
    "\n",
    "N_FEATURES_TO_PLOT = 35\n",
    "\n",
    "import matplotlib\n",
    "import matplotlib.pyplot as plt\n",
    "from matplotlib.colors import Normalize\n",
    "import os\n",
    "import numpy as np\n",
    "\n",
    "to_plot = score_obj.filter_scores(N_FEATURES_TO_PLOT)\n",
    "\n",
    "n_values   = to_plot.shape[0]\n",
    "dummy_vals = np.linspace(0,np.max(to_plot),num=n_values)\n",
    "dummy_vals = np.expand_dims(dummy_vals, axis=1)\n",
    "to_plot  = np.append(to_plot, dummy_vals, axis = 1)\n",
    "\n",
    "plt.imshow(to_plot, cmap='hot',\n",
    "                      norm=Normalize(vmin=0),\n",
    "                      interpolation='nearest',\n",
    "                      aspect='auto')\n",
    "plt.show()\n",
    "#plt.savefig('correlation_matrix.pdf',  bbox_inches='tight')\n",
    "\n",
    "for i,l in enumerate(computed_features['labels'][:N_FEATURES_TO_PLOT]):\n",
    "    print i,l"
   ]
  },
  {
   "cell_type": "code",
   "execution_count": 72,
   "metadata": {},
   "outputs": [
    {
     "name": "stdout",
     "output_type": "stream",
     "text": [
      "Filtering feature matrix\n"
     ]
    },
    {
     "data": {
      "image/png": "[encoded data removed]",
      "text/plain": [
       "<matplotlib.figure.Figure at 0x121d31590>"
      ]
     },
     "metadata": {},
     "output_type": "display_data"
    }
   ],
   "source": [
    "# Second viz\n",
    "to_plot = score_obj.filter_scores(N_FEATURES_TO_PLOT)\n",
    "\n",
    "if to_plot.shape[1] <= 4:\n",
    "    ncol = 1\n",
    "elif 4 < to_plot.shape[1] <= 8:\n",
    "    ncol = 2\n",
    "else:\n",
    "    nplots = min(12, to_plot.shape[1])\n",
    "    to_plot = to_plot[:,:nplots]\n",
    "    ncol = 3\n",
    "\n",
    "for i in range(to_plot.shape[1]):\n",
    "    neuron_series = np.sort(to_plot[:,i])[::-1]\n",
    "    plt.subplot(to_plot.shape[1],ncol,i+1)\n",
    "    plt.plot(neuron_series)\n",
    "\n",
    "plt.show()\n",
    "#plt.savefig('individual_correlation_scores.pdf',  bbox_inches='tight')"
   ]
  },
  {
   "cell_type": "code",
   "execution_count": 73,
   "metadata": {},
   "outputs": [
    {
     "data": {
      "image/png": "[encoded data removed]",
      "text/plain": [
       "<matplotlib.figure.Figure at 0x121bfded0>"
      ]
     },
     "metadata": {},
     "output_type": "display_data"
    }
   ],
   "source": [
    "# Third viz: shows score per rule\n",
    "fig_size = [25,5]\n",
    "plt.rcParams[\"figure.figsize\"] = fig_size\n",
    "\n",
    "feat_scores = score_obj.model_scores\n",
    "feat_names =  computed_features['labels']\n",
    "\n",
    "dorder = np.argsort(feat_scores)[::-1][:50]\n",
    "\n",
    "scores = np.array(feat_scores)[dorder]\n",
    "names = np.array(feat_names)[dorder]\n",
    "\n",
    "fig, ax = plt.subplots()\n",
    "plt.bar(np.arange(dorder.shape[0]), scores)\n",
    "plt.xticks(np.arange(dorder.shape[0]), names, rotation='vertical')\n",
    "\n",
    "plt.show()\n",
    "# print feat_names[order]"
   ]
  },
  {
   "cell_type": "code",
   "execution_count": 74,
   "metadata": {},
   "outputs": [
    {
     "data": {
      "image/png": "[encoded data removed]"
     },
     "metadata": {},
     "output_type": "display_data"
    }
   ],
   "source": [
    "%%R -i feat_scores,feat_names\n",
    "library(ggplot2)\n",
    "library(dplyr)\n",
    "\n",
    "to_plot <- data.frame(F1=feat_scores, names=feat_names) %>% \n",
    "            filter(feat_names %in% c(as.character(0:5), ')', '('))\n",
    "ggplot(to_plot, aes(x=names, y=F1)) + geom_bar(stat='identity')"
   ]
  },
  {
   "cell_type": "code",
   "execution_count": 76,
   "metadata": {},
   "outputs": [
    {
     "data": {
      "image/png": "[encoded data removed]"
     },
     "metadata": {},
     "output_type": "display_data"
    }
   ],
   "source": [
    "%%R -i feat_scores,feat_names\n",
    "library(ggplot2)\n",
    "library(dplyr)\n",
    "\n",
    "to_plot <- data.frame(F1=feat_scores, names=feat_names) %>% \n",
    "            filter(feat_names %in% c('indent-1', 'indent-2','indent-3', 'indent-4'))\n",
    "ggplot(to_plot, aes(x=names, y=F1)) + geom_bar(stat='identity')"
   ]
  },
  {
   "cell_type": "code",
   "execution_count": 18,
   "metadata": {},
   "outputs": [
    {
     "data": {
      "text/plain": [
       "array(['0', '1', '2', '3', '4', '(', ')', 'indent-1', 'indent-2',\n",
       "       'indent-3', 'indent-4'],\n",
       "      dtype='|S10')"
      ]
     },
     "execution_count": 18,
     "metadata": {},
     "output_type": "execute_result"
    }
   ],
   "source": [
    "gt_50 = np.array(feat_scores) > .5\n",
    "np.array(feat_names)[gt_50]"
   ]
  },
  {
   "cell_type": "markdown",
   "metadata": {},
   "source": [
    "# Plots feature groups"
   ]
  },
  {
   "cell_type": "code",
   "execution_count": 19,
   "metadata": {},
   "outputs": [
    {
     "name": "stdout",
     "output_type": "stream",
     "text": [
      "** Stop words feature:\n",
      "0 0.99806763285\n",
      "1 0.99801980198\n",
      "2 0.999196787149\n",
      "3 0.997506234414\n",
      "4 0.999120823914\n",
      "( 0.999650069986\n",
      ") 0.999925009374\n",
      "indent-0 0.0\n",
      "indent-1 0.831666146218\n",
      "indent-2 0.794810620843\n",
      "indent-3 0.736283642858\n",
      "indent-4 0.63307966749\n",
      "indent-seq 0.0\n",
      "AVERAGE: 0.768255879775\n"
     ]
    }
   ],
   "source": [
    "from numpy.core.defchararray import startswith\n",
    "\n",
    "feat_scores = np.array(score_obj.model_scores)\n",
    "feat_names =  np.array(computed_features['labels'])\n",
    "\n",
    "def print_scores(name, MAX_PRINT=25):\n",
    "    indices = np.where(startswith(feat_names, name))[0]\n",
    "    for f_i in indices[:MAX_PRINT]:\n",
    "        print feat_names[f_i], feat_scores[f_i] \n",
    "    print 'AVERAGE:', feat_scores[indices].mean()\n",
    "\n",
    "# Stop words feature\n",
    "print '** Stop words feature:'\n",
    "print_scores('')"
   ]
  }
 ],
 "metadata": {
  "kernelspec": {
   "display_name": "Python 2",
   "language": "python",
   "name": "python2"
  },
  "language_info": {
   "codemirror_mode": {
    "name": "ipython",
    "version": 2
   },
   "file_extension": ".py",
   "mimetype": "text/x-python",
   "name": "python",
   "nbconvert_exporter": "python",
   "pygments_lexer": "ipython2",
   "version": "2.7.10"
  }
 },
 "nbformat": 4,
 "nbformat_minor": 2
}
