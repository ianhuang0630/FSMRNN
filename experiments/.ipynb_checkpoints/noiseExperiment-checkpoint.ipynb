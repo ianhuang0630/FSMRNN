{
 "cells": [
  {
   "cell_type": "code",
   "execution_count": 1,
   "metadata": {},
   "outputs": [
    {
     "name": "stderr",
     "output_type": "stream",
     "text": [
      "Using TensorFlow backend.\n"
     ]
    }
   ],
   "source": [
    "import sys\n",
    "sys.path.append('../src')\n",
    "\n",
    "import numpy as np \n",
    "import pickle\n",
    "\n",
    "from FSMextractor import *\n",
    "\n",
    "from sklearn.metrics import silhouette_score\n",
    "\n",
    "\n",
    "\n",
    "     "
   ]
  },
  {
   "cell_type": "code",
   "execution_count": 2,
   "metadata": {
    "collapsed": true
   },
   "outputs": [],
   "source": [
    "BATCH_SIZE = 10\n",
    "MODEL_FILE = \"../experiments/boolean/models/boolean.h5\"\n",
    "TESTDATA_FILE = \"../experiments/boolean/test_data_boolean.pkl\" \n",
    "\n",
    "\n",
    "model = load_model(MODEL_FILE)\n",
    "alphabet = set([\"X\", \"&\", \"|\", \"1\", \"0\"])\n",
    "\n",
    "def arr2char(a):\n",
    "    arr = a.tolist()\n",
    "    if arr == [1,0,0,0,0]:\n",
    "        return \"x\"\n",
    "    if arr == [0,1,0,0,0]:\n",
    "        return \"&\"\n",
    "    if arr == [0,0,1,0,0]:\n",
    "        return \"0\"\n",
    "    if arr == [0,0,0,1,0]:\n",
    "        return \"1\"\n",
    "    if arr == [0,0,0,0,1]:\n",
    "        return \"|\"\n",
    "    else:\n",
    "        raise valueerror(\"sorry, can't recognize label\")\n",
    "    \n",
    "test_data = pickle.load(open(TESTDATA_FILE))\n",
    "     \n"
   ]
  },
  {
   "cell_type": "code",
   "execution_count": 3,
   "metadata": {},
   "outputs": [
    {
     "name": "stdout",
     "output_type": "stream",
     "text": [
      "BEWARE _ ONLY SUPPORTS CONSECUTIVE LAYER IDS STARTING AT 0\n",
      "Creates spy models\n",
      "... for id 0 : <keras.layers.recurrent.LSTM object at 0x1201736d0>\n",
      "Gets the activations for the hidden states\n",
      "ITERATION 0\n"
     ]
    },
    {
     "ename": "MultipleInstanceError",
     "evalue": "Multiple incompatible subclass instances of TerminalIPythonApp are being created.",
     "output_type": "error",
     "traceback": [
      "\u001b[0;31m---------------------------------------------------------------------------\u001b[0m",
      "\u001b[0;31mMultipleInstanceError\u001b[0m                     Traceback (most recent call last)",
      "\u001b[0;32m<ipython-input-3-0b01124af701>\u001b[0m in \u001b[0;36m<module>\u001b[0;34m()\u001b[0m\n\u001b[1;32m     42\u001b[0m \u001b[0;31m#     fsm[\"iteration #{}\".format(i)] = experiment.cluster_transition(states_alt)\u001b[0m\u001b[0;34m\u001b[0m\u001b[0;34m\u001b[0m\u001b[0m\n\u001b[1;32m     43\u001b[0m \u001b[0;34m\u001b[0m\u001b[0m\n\u001b[0;32m---> 44\u001b[0;31m     \u001b[0mfsm\u001b[0m\u001b[0;34m.\u001b[0m\u001b[0mappend\u001b[0m\u001b[0;34m(\u001b[0m\u001b[0mexperiment\u001b[0m\u001b[0;34m.\u001b[0m\u001b[0mcluster_transition\u001b[0m\u001b[0;34m(\u001b[0m\u001b[0mstates_alt\u001b[0m\u001b[0;34m)\u001b[0m\u001b[0;34m)\u001b[0m\u001b[0;34m\u001b[0m\u001b[0m\n\u001b[0m\u001b[1;32m     45\u001b[0m \u001b[0;34m\u001b[0m\u001b[0m\n\u001b[1;32m     46\u001b[0m     \u001b[0;31m# extracting macrostate predictions\u001b[0m\u001b[0;34m\u001b[0m\u001b[0;34m\u001b[0m\u001b[0m\n",
      "\u001b[0;32m/Users/ian.huang/Documents/Projects/deep-neural-inspector/src/FSMextractor.py\u001b[0m in \u001b[0;36mcluster_transition\u001b[0;34m(self, states_perchar)\u001b[0m\n\u001b[1;32m     97\u001b[0m \u001b[0;34m\u001b[0m\u001b[0m\n\u001b[1;32m     98\u001b[0m             trans_per_model.append(self.trans_func.extract_transitions(self.model, \n\u001b[0;32m---> 99\u001b[0;31m                                                         this_input, this_clusters))\n\u001b[0m\u001b[1;32m    100\u001b[0m \u001b[0;34m\u001b[0m\u001b[0m\n\u001b[1;32m    101\u001b[0m \u001b[0;34m\u001b[0m\u001b[0m\n",
      "\u001b[0;32m/Users/ian.huang/Documents/Projects/deep-neural-inspector/src/FSMextractor.py\u001b[0m in \u001b[0;36mextract_transitions\u001b[0;34m(self, model, data, state_predictions)\u001b[0m\n\u001b[1;32m    273\u001b[0m         \u001b[0;31m# iterating through all of the sequences, get first character as a transtion and the first state\u001b[0m\u001b[0;34m\u001b[0m\u001b[0;34m\u001b[0m\u001b[0m\n\u001b[1;32m    274\u001b[0m \u001b[0;34m\u001b[0m\u001b[0m\n\u001b[0;32m--> 275\u001b[0;31m         \u001b[0;32mimport\u001b[0m \u001b[0mipdb\u001b[0m\u001b[0;34m;\u001b[0m \u001b[0mipdb\u001b[0m\u001b[0;34m.\u001b[0m\u001b[0mset_trace\u001b[0m\u001b[0;34m(\u001b[0m\u001b[0;34m)\u001b[0m\u001b[0;34m\u001b[0m\u001b[0m\n\u001b[0m\u001b[1;32m    276\u001b[0m         \u001b[0;31m# TODO: finish this\u001b[0m\u001b[0;34m\u001b[0m\u001b[0;34m\u001b[0m\u001b[0m\n\u001b[1;32m    277\u001b[0m         \u001b[0mtransitions\u001b[0m\u001b[0;34m[\u001b[0m\u001b[0;34m(\u001b[0m\u001b[0;34m-\u001b[0m\u001b[0;36m1\u001b[0m\u001b[0;34m,\u001b[0m \u001b[0mself\u001b[0m\u001b[0;34m.\u001b[0m\u001b[0mconf_func\u001b[0m\u001b[0;34m(\u001b[0m\u001b[0mdata\u001b[0m\u001b[0;34m[\u001b[0m\u001b[0;36m0\u001b[0m\u001b[0;34m]\u001b[0m\u001b[0;34m)\u001b[0m\u001b[0;34m,\u001b[0m \u001b[0;34m)\u001b[0m\u001b[0;34m]\u001b[0m\u001b[0;34m\u001b[0m\u001b[0m\n",
      "\u001b[0;32m/Users/ian.huang/anaconda3/envs/py27/lib/python2.7/site-packages/ipdb/__init__.py\u001b[0m in \u001b[0;36m<module>\u001b[0;34m()\u001b[0m\n\u001b[1;32m      5\u001b[0m \u001b[0;31m# https://opensource.org/licenses/BSD-3-Clause\u001b[0m\u001b[0;34m\u001b[0m\u001b[0;34m\u001b[0m\u001b[0m\n\u001b[1;32m      6\u001b[0m \u001b[0;34m\u001b[0m\u001b[0m\n\u001b[0;32m----> 7\u001b[0;31m \u001b[0;32mfrom\u001b[0m \u001b[0mipdb\u001b[0m\u001b[0;34m.\u001b[0m\u001b[0m__main__\u001b[0m \u001b[0;32mimport\u001b[0m \u001b[0mset_trace\u001b[0m\u001b[0;34m,\u001b[0m \u001b[0mpost_mortem\u001b[0m\u001b[0;34m,\u001b[0m \u001b[0mpm\u001b[0m\u001b[0;34m,\u001b[0m \u001b[0mrun\u001b[0m\u001b[0;34m,\u001b[0m \u001b[0mruncall\u001b[0m\u001b[0;34m,\u001b[0m \u001b[0mruneval\u001b[0m\u001b[0;34m,\u001b[0m \u001b[0mlaunch_ipdb_on_exception\u001b[0m\u001b[0;34m\u001b[0m\u001b[0m\n\u001b[0m\u001b[1;32m      8\u001b[0m \u001b[0;34m\u001b[0m\u001b[0m\n\u001b[1;32m      9\u001b[0m \u001b[0mpm\u001b[0m                       \u001b[0;31m# please pyflakes\u001b[0m\u001b[0;34m\u001b[0m\u001b[0m\n",
      "\u001b[0;32m/Users/ian.huang/anaconda3/envs/py27/lib/python2.7/site-packages/ipdb/__main__.py\u001b[0m in \u001b[0;36m<module>\u001b[0;34m()\u001b[0m\n\u001b[1;32m     56\u001b[0m         \u001b[0;31m# the instance method will create a new one without loading the config.\u001b[0m\u001b[0;34m\u001b[0m\u001b[0;34m\u001b[0m\u001b[0m\n\u001b[1;32m     57\u001b[0m         \u001b[0;31m# i.e: if we are in an embed instance we do not want to load the config.\u001b[0m\u001b[0;34m\u001b[0m\u001b[0;34m\u001b[0m\u001b[0m\n\u001b[0;32m---> 58\u001b[0;31m         \u001b[0mipapp\u001b[0m \u001b[0;34m=\u001b[0m \u001b[0mTerminalIPythonApp\u001b[0m\u001b[0;34m.\u001b[0m\u001b[0minstance\u001b[0m\u001b[0;34m(\u001b[0m\u001b[0;34m)\u001b[0m\u001b[0;34m\u001b[0m\u001b[0m\n\u001b[0m\u001b[1;32m     59\u001b[0m         \u001b[0mshell\u001b[0m \u001b[0;34m=\u001b[0m \u001b[0mget_ipython\u001b[0m\u001b[0;34m(\u001b[0m\u001b[0;34m)\u001b[0m\u001b[0;34m\u001b[0m\u001b[0m\n\u001b[1;32m     60\u001b[0m         \u001b[0mdef_colors\u001b[0m \u001b[0;34m=\u001b[0m \u001b[0mshell\u001b[0m\u001b[0;34m.\u001b[0m\u001b[0mcolors\u001b[0m\u001b[0;34m\u001b[0m\u001b[0m\n",
      "\u001b[0;32m/Users/ian.huang/anaconda3/envs/py27/lib/python2.7/site-packages/traitlets/config/configurable.pyc\u001b[0m in \u001b[0;36minstance\u001b[0;34m(cls, *args, **kwargs)\u001b[0m\n\u001b[1;32m    421\u001b[0m             raise MultipleInstanceError(\n\u001b[1;32m    422\u001b[0m                 \u001b[0;34m'Multiple incompatible subclass instances of '\u001b[0m\u001b[0;34m\u001b[0m\u001b[0m\n\u001b[0;32m--> 423\u001b[0;31m                 \u001b[0;34m'%s are being created.'\u001b[0m \u001b[0;34m%\u001b[0m \u001b[0mcls\u001b[0m\u001b[0;34m.\u001b[0m\u001b[0m__name__\u001b[0m\u001b[0;34m\u001b[0m\u001b[0m\n\u001b[0m\u001b[1;32m    424\u001b[0m             )\n\u001b[1;32m    425\u001b[0m \u001b[0;34m\u001b[0m\u001b[0m\n",
      "\u001b[0;31mMultipleInstanceError\u001b[0m: Multiple incompatible subclass instances of TerminalIPythonApp are being created."
     ]
    }
   ],
   "source": [
    "# kmeans discretizer\n",
    "kMeans = kMeansQuantizer(5)\n",
    "\n",
    "# getting the sample based transition extractor\n",
    "sbtrans = SampleBasedTransExtractor(conv_func=arr2char)\n",
    "\n",
    "experiment = FSMExtractor(model, test_data, quantization=kMeans, transition=sbtrans, minimization=None)\n",
    "\n",
    "\n",
    "\n",
    "\n",
    "# get hidden states \n",
    "states = experiment.get_hidden_states()\n",
    "\n",
    "\n",
    "# add N random dimensions at the end\n",
    "\n",
    "num_symbols = states.shape[0]\n",
    "artificial_neurons = np.random.uniform(low=-1.0, high =1.0, size=(num_symbols,1))\n",
    "states_alt = np.hstack((states, artificial_neurons))\n",
    "\n",
    "\n",
    "# iterate between clustering and dimension elimination\n",
    "# eliminating the dimensions with the highest variance from the centroids\n",
    "\n",
    "\n",
    "fsm = []\n",
    "# XXX: number of neurons is default number of neurons (16) plus 1.\n",
    "neuron_nums = np.arange(17)\n",
    "silhouettes = []\n",
    "\n",
    "for i in range(16): # XXX: delete neurons until only 1 is left.\n",
    "    \n",
    "    # printing separator\n",
    "    print(\"ITERATION {}\".format(i))\n",
    "\n",
    "\n",
    "    # labels = experiment.quant_func.quantize(states_alt)\n",
    "    \n",
    "    # generating and saving fsm's\n",
    "    \n",
    "#     fsm[\"iteration #{}\".format(i)] = experiment.cluster_transition(states_alt)\n",
    "    \n",
    "    fsm.append(experiment.cluster_transition(states_alt))\n",
    "    \n",
    "    # extracting macrostate predictions\n",
    "    labels = experiment.quant_func.getLabels()   \n",
    "    centroids = experiment.quant_func.getCentroids() \n",
    "\n",
    "\n",
    "    # find out how well the hidden states are being clustered into macrostates\n",
    "    silh = experiment.quant_func.getSilhouetteCoef(states_alt)\n",
    "    silhouettes.append(silh)    \n",
    "    print(\"Sillhouette coefficient: {}\".format(silh))\n",
    "\n",
    "    \n",
    "    # finding a dimension to eliminate: the dimension that has the greatest average distance from\n",
    "    # centroids of clustering\n",
    "    # argmax_i \\sum{j to k} 1/number_in_cluster * \\sum{all i} x^(j)_i - C(j)(i) \n",
    "    \n",
    "    delta = states_alt - centroids[labels]\n",
    "    mean_delta = np.mean(delta, axis=0)\n",
    "\n",
    "    jettison = np.argmax(mean_delta)\n",
    "    print(\"Throwing out neuron number {}\".format(neuron_nums[jettison]))\n",
    "    \n",
    "    # throw out activations for that neuron in states_alt\n",
    "    neuron_nums = np.delete(neuron_nums, jettison)     \n",
    "        \n",
    "    states_alt = np.delete(states_alt, jettison, axis=1)"
   ]
  },
  {
   "cell_type": "code",
   "execution_count": null,
   "metadata": {
    "collapsed": true
   },
   "outputs": [],
   "source": [
    "%matplotlib inline\n",
    "\n",
    "import matplotlib.pyplot as plt"
   ]
  },
  {
   "cell_type": "code",
   "execution_count": null,
   "metadata": {},
   "outputs": [],
   "source": [
    "plt.plot(range(len(silhouettes)), silhouettes)\n",
    "plt.xlabel(\"Iteration\")\n",
    "plt.ylabel(\"Silhouette\")\n",
    "plt.show()"
   ]
  },
  {
   "cell_type": "code",
   "execution_count": null,
   "metadata": {
    "scrolled": false
   },
   "outputs": [],
   "source": [
    "def to_str_names(b):\n",
    "        \n",
    "    list_names = [] \n",
    "    for a in b:\n",
    "        list_names.append(str(a[0]) +\"\\n\" + str(a[1]) + \"\\n\" + str(a[2]) + \"\\n\")\n",
    "        \n",
    "    return tuple(list_names)\n",
    "\n",
    "\n",
    "\n",
    "for (idx,this_fsm) in enumerate(fsm):\n",
    "    plt.figure()\n",
    "    \n",
    "    x = np.arange(len(this_fsm))\n",
    "    prob = this_fsm.values()\n",
    "    \n",
    "    x_names = to_str_names(this_fsm.keys())\n",
    "    plt.bar(x, prob)\n",
    "    \n",
    "    plt.title(\"Iteration {}\".format(idx))\n",
    "    plt.xticks(x, x_names)\n",
    "    plt.show()\n",
    "\n"
   ]
  },
  {
   "cell_type": "code",
   "execution_count": 23,
   "metadata": {
    "scrolled": true
   },
   "outputs": [
    {
     "name": "stdout",
     "output_type": "stream",
     "text": [
      "0, 0.235578299145\n",
      "1, 0.34624302123\n",
      "2, 0.348056744269\n",
      "3, 0.343327530761\n",
      "4, 0.352041896571\n",
      "5, 0.363103798554\n",
      "6, 0.357110356081\n",
      "7, 0.344705725045\n",
      "8, 0.321023642172\n",
      "9, 0.338889223664\n",
      "10, 0.358487251026\n",
      "11, 0.345035123872\n",
      "12, 0.357246418224\n",
      "13, 0.347363005387\n",
      "14, 0.350802903573\n",
      "15, 0.342238519495\n"
     ]
    },
    {
     "data": {
      "image/png": "[encoded data removed]",
      "text/plain": [
       "<matplotlib.figure.Figure at 0x12b533450>"
      ]
     },
     "metadata": {},
     "output_type": "display_data"
    }
   ],
   "source": [
    "# finding the standard deviation of the probabilities\n",
    "\n",
    "std_prob = []\n",
    "\n",
    "for (i, this_fsm) in enumerate(fsm):\n",
    "    this_std = np.std(this_fsm.values())\n",
    "    print(\"{}, {}\".format(i, this_std))\n",
    "    std_prob.append(this_std)\n",
    "\n",
    "    \n",
    "plt.title(\"Standard deviation of probabilities over trials\")\n",
    "plt.plot(range(len(std_prob)),std_prob)\n",
    "plt.show()\n",
    "    "
   ]
  },
  {
   "cell_type": "code",
   "execution_count": 28,
   "metadata": {
    "scrolled": true
   },
   "outputs": [
    {
     "data": {
      "image/png": "[encoded data removed]",
      "text/plain": [
       "<matplotlib.figure.Figure at 0x129f37f90>"
      ]
     },
     "metadata": {},
     "output_type": "display_data"
    },
    {
     "name": "stdout",
     "output_type": "stream",
     "text": [
      "(0.89108959357101303, 3.6380519493501529e-06)\n"
     ]
    }
   ],
   "source": [
    "plt.title(\"Silhouttes coefs vs. std of probabilties\")\n",
    "plt.scatter(silhouettes,std_prob)\n",
    "plt.show()\n",
    "\n",
    "from scipy.stats.stats import pearsonr\n",
    "\n",
    "print(pearsonr(silhouettes, std_prob))"
   ]
  },
  {
   "cell_type": "markdown",
   "metadata": {},
   "source": [
    "# NOTES"
   ]
  },
  {
   "cell_type": "markdown",
   "metadata": {
    "collapsed": true
   },
   "source": [
    "next steps:\n",
    "\n",
    "- some program to evaluate the accuracy of an FSM\n",
    "- do this with an LSTM with 4 neurons instead of 8\n",
    "- add 500+ artificial neurons\n",
    "- bottom up approach, CLIQUE, ENCLUS\n",
    "\n",
    "- baseline - clustering the columns of the activation matrix\n",
    "- using mutual information, and then for each of those clusters\n",
    "- find clusters within those subspaces\n",
    "\n",
    "- use dni on fsm to interpret\n",
    "\n",
    "- exhaustive approach, gain some more intuition, with pruning algorithms\n",
    "\n",
    "\n",
    "- number of parentheses and plot it\n",
    "\n",
    "\n",
    "- Make an assumption of what a \"good\" fsm looks like - clear clustering and high-entropy probability distribution\n",
    "- for transitions\n",
    "\n",
    "- Robustness - how far can a neuron deviate from the cluster centroids without breaking the FSM - RNN correspondence?\n"
   ]
  },
  {
   "cell_type": "markdown",
   "metadata": {
    "collapsed": true
   },
   "source": [
    "### Brute force approach\n",
    "Using a bottom-up exhaustive approach."
   ]
  },
  {
   "cell_type": "code",
   "execution_count": null,
   "metadata": {
    "collapsed": true
   },
   "outputs": [],
   "source": [
    "from subclustering import bruteforce"
   ]
  }
 ],
 "metadata": {
  "kernelspec": {
   "display_name": "Python 2",
   "language": "python",
   "name": "python2"
  },
  "language_info": {
   "codemirror_mode": {
    "name": "ipython",
    "version": 2
   },
   "file_extension": ".py",
   "mimetype": "text/x-python",
   "name": "python",
   "nbconvert_exporter": "python",
   "pygments_lexer": "ipython2",
   "version": "2.7.13"
  }
 },
 "nbformat": 4,
 "nbformat_minor": 2
}
